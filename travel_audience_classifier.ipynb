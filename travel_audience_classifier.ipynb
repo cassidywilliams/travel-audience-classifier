{
 "cells": [
  {
   "cell_type": "code",
   "execution_count": 1,
   "metadata": {},
   "outputs": [],
   "source": [
    "import numpy as np\n",
    "import matplotlib.pyplot as plt\n",
    "import pandas as pd\n",
    "import seaborn as sns\n",
    "import shap\n",
    "import xgboost as xgb\n",
    "from imblearn.over_sampling import RandomOverSampler\n",
    "from imblearn.under_sampling import RandomUnderSampler\n",
    "from math import radians, cos, sin, asin, sqrt, ceil\n",
    "from sklearn import metrics\n",
    "from sklearn.model_selection import cross_val_score, GridSearchCV, train_test_split"
   ]
  },
  {
   "cell_type": "code",
   "execution_count": 2,
   "metadata": {},
   "outputs": [],
   "source": [
    "# load in data sets\n",
    "events = pd.read_csv('events_1_1.csv')\n",
    "iata = pd.read_csv('iata_1_1.csv')"
   ]
  },
  {
   "cell_type": "markdown",
   "metadata": {},
   "source": [
    "# Inspect and clean data"
   ]
  },
  {
   "cell_type": "code",
   "execution_count": 3,
   "metadata": {},
   "outputs": [
    {
     "data": {
      "text/html": [
       "<div>\n",
       "<style scoped>\n",
       "    .dataframe tbody tr th:only-of-type {\n",
       "        vertical-align: middle;\n",
       "    }\n",
       "\n",
       "    .dataframe tbody tr th {\n",
       "        vertical-align: top;\n",
       "    }\n",
       "\n",
       "    .dataframe thead th {\n",
       "        text-align: right;\n",
       "    }\n",
       "</style>\n",
       "<table border=\"1\" class=\"dataframe\">\n",
       "  <thead>\n",
       "    <tr style=\"text-align: right;\">\n",
       "      <th></th>\n",
       "      <th>ts</th>\n",
       "      <th>event_type</th>\n",
       "      <th>user_id</th>\n",
       "      <th>date_from</th>\n",
       "      <th>date_to</th>\n",
       "      <th>origin</th>\n",
       "      <th>destination</th>\n",
       "      <th>num_adults</th>\n",
       "      <th>num_children</th>\n",
       "    </tr>\n",
       "  </thead>\n",
       "  <tbody>\n",
       "    <tr>\n",
       "      <th>0</th>\n",
       "      <td>2017-04-27 11:06:51</td>\n",
       "      <td>search</td>\n",
       "      <td>60225f</td>\n",
       "      <td>2017-06-01</td>\n",
       "      <td>2017-06-07</td>\n",
       "      <td>PAR</td>\n",
       "      <td>NYC</td>\n",
       "      <td>6</td>\n",
       "      <td>1</td>\n",
       "    </tr>\n",
       "    <tr>\n",
       "      <th>1</th>\n",
       "      <td>2017-04-27 20:15:27</td>\n",
       "      <td>book</td>\n",
       "      <td>e5d69e</td>\n",
       "      <td>2017-08-12</td>\n",
       "      <td>2017-09-02</td>\n",
       "      <td>FRA</td>\n",
       "      <td>WAS</td>\n",
       "      <td>3</td>\n",
       "      <td>1</td>\n",
       "    </tr>\n",
       "    <tr>\n",
       "      <th>2</th>\n",
       "      <td>2017-04-27 23:03:43</td>\n",
       "      <td>book</td>\n",
       "      <td>f953f0</td>\n",
       "      <td>2017-10-08</td>\n",
       "      <td>2017-10-11</td>\n",
       "      <td>BER</td>\n",
       "      <td>CGN</td>\n",
       "      <td>2</td>\n",
       "      <td>0</td>\n",
       "    </tr>\n",
       "    <tr>\n",
       "      <th>3</th>\n",
       "      <td>2017-04-27 15:17:50</td>\n",
       "      <td>book</td>\n",
       "      <td>794d35</td>\n",
       "      <td>2017-04-28</td>\n",
       "      <td>2017-05-01</td>\n",
       "      <td>BER</td>\n",
       "      <td>BCN</td>\n",
       "      <td>1</td>\n",
       "      <td>0</td>\n",
       "    </tr>\n",
       "    <tr>\n",
       "      <th>4</th>\n",
       "      <td>2017-04-27 22:51:57</td>\n",
       "      <td>book</td>\n",
       "      <td>ca4f94</td>\n",
       "      <td>2017-05-16</td>\n",
       "      <td>2017-05-22</td>\n",
       "      <td>DEL</td>\n",
       "      <td>BKK</td>\n",
       "      <td>4</td>\n",
       "      <td>0</td>\n",
       "    </tr>\n",
       "  </tbody>\n",
       "</table>\n",
       "</div>"
      ],
      "text/plain": [
       "                    ts event_type user_id   date_from     date_to origin  \\\n",
       "0  2017-04-27 11:06:51     search  60225f  2017-06-01  2017-06-07    PAR   \n",
       "1  2017-04-27 20:15:27       book  e5d69e  2017-08-12  2017-09-02    FRA   \n",
       "2  2017-04-27 23:03:43       book  f953f0  2017-10-08  2017-10-11    BER   \n",
       "3  2017-04-27 15:17:50       book  794d35  2017-04-28  2017-05-01    BER   \n",
       "4  2017-04-27 22:51:57       book  ca4f94  2017-05-16  2017-05-22    DEL   \n",
       "\n",
       "  destination  num_adults  num_children  \n",
       "0         NYC           6             1  \n",
       "1         WAS           3             1  \n",
       "2         CGN           2             0  \n",
       "3         BCN           1             0  \n",
       "4         BKK           4             0  "
      ]
     },
     "execution_count": 3,
     "metadata": {},
     "output_type": "execute_result"
    }
   ],
   "source": [
    "events.head()"
   ]
  },
  {
   "cell_type": "code",
   "execution_count": 4,
   "metadata": {},
   "outputs": [
    {
     "data": {
      "text/plain": [
       "(47007, 9)"
      ]
     },
     "execution_count": 4,
     "metadata": {},
     "output_type": "execute_result"
    }
   ],
   "source": [
    "# expect the shape of the df\n",
    "events.shape"
   ]
  },
  {
   "cell_type": "code",
   "execution_count": 5,
   "metadata": {},
   "outputs": [
    {
     "data": {
      "text/plain": [
       "45898"
      ]
     },
     "execution_count": 5,
     "metadata": {},
     "output_type": "execute_result"
    }
   ],
   "source": [
    "# ensure we don't have duplicates\n",
    "len(events.drop_duplicates())"
   ]
  },
  {
   "cell_type": "code",
   "execution_count": 6,
   "metadata": {},
   "outputs": [],
   "source": [
    "# drop duplicates\n",
    "events = events.drop_duplicates()"
   ]
  },
  {
   "cell_type": "code",
   "execution_count": 7,
   "metadata": {},
   "outputs": [
    {
     "data": {
      "text/plain": [
       "ts               0\n",
       "event_type       0\n",
       "user_id          0\n",
       "date_from       22\n",
       "date_to          3\n",
       "origin           0\n",
       "destination      0\n",
       "num_adults       0\n",
       "num_children     0\n",
       "dtype: int64"
      ]
     },
     "execution_count": 7,
     "metadata": {},
     "output_type": "execute_result"
    }
   ],
   "source": [
    "# check for nulls\n",
    "events.isna().sum()"
   ]
  },
  {
   "cell_type": "code",
   "execution_count": 8,
   "metadata": {},
   "outputs": [],
   "source": [
    "# let's get rid of those few rows which are null\n",
    "events = events.dropna()"
   ]
  },
  {
   "cell_type": "code",
   "execution_count": 9,
   "metadata": {},
   "outputs": [
    {
     "data": {
      "text/plain": [
       "ts              object\n",
       "event_type      object\n",
       "user_id         object\n",
       "date_from       object\n",
       "date_to         object\n",
       "origin          object\n",
       "destination     object\n",
       "num_adults       int64\n",
       "num_children     int64\n",
       "dtype: object"
      ]
     },
     "execution_count": 9,
     "metadata": {},
     "output_type": "execute_result"
    }
   ],
   "source": [
    "# inspect data types\n",
    "events.dtypes"
   ]
  },
  {
   "cell_type": "code",
   "execution_count": 10,
   "metadata": {},
   "outputs": [],
   "source": [
    "# convert timestamps and dates to datetime objects\n",
    "events['ts'] = pd.to_datetime(events['ts'])\n",
    "events['date_from'] = pd.to_datetime(events['date_from'])\n",
    "events['date_to'] = pd.to_datetime(events['date_to'])"
   ]
  },
  {
   "cell_type": "code",
   "execution_count": 11,
   "metadata": {},
   "outputs": [
    {
     "data": {
      "text/plain": [
       "ts              datetime64[ns]\n",
       "event_type              object\n",
       "user_id                 object\n",
       "date_from       datetime64[ns]\n",
       "date_to         datetime64[ns]\n",
       "origin                  object\n",
       "destination             object\n",
       "num_adults               int64\n",
       "num_children             int64\n",
       "dtype: object"
      ]
     },
     "execution_count": 11,
     "metadata": {},
     "output_type": "execute_result"
    }
   ],
   "source": [
    "events.dtypes"
   ]
  },
  {
   "cell_type": "code",
   "execution_count": 12,
   "metadata": {},
   "outputs": [
    {
     "data": {
      "text/html": [
       "<div>\n",
       "<style scoped>\n",
       "    .dataframe tbody tr th:only-of-type {\n",
       "        vertical-align: middle;\n",
       "    }\n",
       "\n",
       "    .dataframe tbody tr th {\n",
       "        vertical-align: top;\n",
       "    }\n",
       "\n",
       "    .dataframe thead th {\n",
       "        text-align: right;\n",
       "    }\n",
       "</style>\n",
       "<table border=\"1\" class=\"dataframe\">\n",
       "  <thead>\n",
       "    <tr style=\"text-align: right;\">\n",
       "      <th></th>\n",
       "      <th>iata_code</th>\n",
       "      <th>lat</th>\n",
       "      <th>lon</th>\n",
       "    </tr>\n",
       "  </thead>\n",
       "  <tbody>\n",
       "    <tr>\n",
       "      <th>0</th>\n",
       "      <td>LON</td>\n",
       "      <td>51.50</td>\n",
       "      <td>-0.17</td>\n",
       "    </tr>\n",
       "    <tr>\n",
       "      <th>1</th>\n",
       "      <td>MOW</td>\n",
       "      <td>55.75</td>\n",
       "      <td>37.70</td>\n",
       "    </tr>\n",
       "    <tr>\n",
       "      <th>2</th>\n",
       "      <td>NYC</td>\n",
       "      <td>40.71</td>\n",
       "      <td>-74.01</td>\n",
       "    </tr>\n",
       "    <tr>\n",
       "      <th>3</th>\n",
       "      <td>PAR</td>\n",
       "      <td>48.85</td>\n",
       "      <td>2.35</td>\n",
       "    </tr>\n",
       "    <tr>\n",
       "      <th>4</th>\n",
       "      <td>IST</td>\n",
       "      <td>41.01</td>\n",
       "      <td>28.95</td>\n",
       "    </tr>\n",
       "  </tbody>\n",
       "</table>\n",
       "</div>"
      ],
      "text/plain": [
       "  iata_code    lat    lon\n",
       "0       LON  51.50  -0.17\n",
       "1       MOW  55.75  37.70\n",
       "2       NYC  40.71 -74.01\n",
       "3       PAR  48.85   2.35\n",
       "4       IST  41.01  28.95"
      ]
     },
     "execution_count": 12,
     "metadata": {},
     "output_type": "execute_result"
    }
   ],
   "source": [
    "# inspect the iata data set\n",
    "iata.head()"
   ]
  },
  {
   "cell_type": "code",
   "execution_count": 13,
   "metadata": {},
   "outputs": [
    {
     "data": {
      "text/plain": [
       "500"
      ]
     },
     "execution_count": 13,
     "metadata": {},
     "output_type": "execute_result"
    }
   ],
   "source": [
    "# check length of df\n",
    "len(iata)"
   ]
  },
  {
   "cell_type": "code",
   "execution_count": 14,
   "metadata": {},
   "outputs": [
    {
     "data": {
      "text/plain": [
       "298"
      ]
     },
     "execution_count": 14,
     "metadata": {},
     "output_type": "execute_result"
    }
   ],
   "source": [
    "# ensure there are no duplicates\n",
    "iata['iata_code'].nunique()"
   ]
  },
  {
   "cell_type": "markdown",
   "metadata": {},
   "source": [
    "Of the 500 rows in the IATA data set, we see that there are only 298 unique values. These duplicates will need to be removed before this dataframe is merged to the events dataframe."
   ]
  },
  {
   "cell_type": "code",
   "execution_count": 15,
   "metadata": {},
   "outputs": [
    {
     "data": {
      "text/html": [
       "<div>\n",
       "<style scoped>\n",
       "    .dataframe tbody tr th:only-of-type {\n",
       "        vertical-align: middle;\n",
       "    }\n",
       "\n",
       "    .dataframe tbody tr th {\n",
       "        vertical-align: top;\n",
       "    }\n",
       "\n",
       "    .dataframe thead th {\n",
       "        text-align: right;\n",
       "    }\n",
       "</style>\n",
       "<table border=\"1\" class=\"dataframe\">\n",
       "  <thead>\n",
       "    <tr style=\"text-align: right;\">\n",
       "      <th></th>\n",
       "      <th>lat</th>\n",
       "      <th>lon</th>\n",
       "    </tr>\n",
       "  </thead>\n",
       "  <tbody>\n",
       "    <tr>\n",
       "      <th>count</th>\n",
       "      <td>202.000000</td>\n",
       "      <td>202.000000</td>\n",
       "    </tr>\n",
       "    <tr>\n",
       "      <th>mean</th>\n",
       "      <td>0.007327</td>\n",
       "      <td>0.014950</td>\n",
       "    </tr>\n",
       "    <tr>\n",
       "      <th>std</th>\n",
       "      <td>0.108810</td>\n",
       "      <td>0.125814</td>\n",
       "    </tr>\n",
       "    <tr>\n",
       "      <th>min</th>\n",
       "      <td>-0.390000</td>\n",
       "      <td>-0.400000</td>\n",
       "    </tr>\n",
       "    <tr>\n",
       "      <th>25%</th>\n",
       "      <td>-0.050000</td>\n",
       "      <td>-0.060000</td>\n",
       "    </tr>\n",
       "    <tr>\n",
       "      <th>50%</th>\n",
       "      <td>0.000000</td>\n",
       "      <td>0.015000</td>\n",
       "    </tr>\n",
       "    <tr>\n",
       "      <th>75%</th>\n",
       "      <td>0.067500</td>\n",
       "      <td>0.090000</td>\n",
       "    </tr>\n",
       "    <tr>\n",
       "      <th>max</th>\n",
       "      <td>0.460000</td>\n",
       "      <td>0.350000</td>\n",
       "    </tr>\n",
       "  </tbody>\n",
       "</table>\n",
       "</div>"
      ],
      "text/plain": [
       "              lat         lon\n",
       "count  202.000000  202.000000\n",
       "mean     0.007327    0.014950\n",
       "std      0.108810    0.125814\n",
       "min     -0.390000   -0.400000\n",
       "25%     -0.050000   -0.060000\n",
       "50%      0.000000    0.015000\n",
       "75%      0.067500    0.090000\n",
       "max      0.460000    0.350000"
      ]
     },
     "execution_count": 15,
     "metadata": {},
     "output_type": "execute_result"
    }
   ],
   "source": [
    "# let's see how wildly these are varying on average\n",
    "iata.groupby('iata_code').diff().dropna().describe()"
   ]
  },
  {
   "cell_type": "code",
   "execution_count": 16,
   "metadata": {
    "scrolled": false
   },
   "outputs": [
    {
     "data": {
      "text/plain": [
       "array([[<matplotlib.axes._subplots.AxesSubplot object at 0x7f476faa6520>,\n",
       "        <matplotlib.axes._subplots.AxesSubplot object at 0x7f476fa52cd0>]],\n",
       "      dtype=object)"
      ]
     },
     "execution_count": 16,
     "metadata": {},
     "output_type": "execute_result"
    },
    {
     "data": {
      "image/png": "[encoded data removed]",
      "text/plain": [
       "<Figure size 432x288 with 2 Axes>"
      ]
     },
     "metadata": {
      "needs_background": "light"
     },
     "output_type": "display_data"
    }
   ],
   "source": [
    "iata.groupby('iata_code').diff().dropna().hist()"
   ]
  },
  {
   "cell_type": "markdown",
   "metadata": {},
   "source": [
    "We can see that for all duplicate records, most of them have lat/longs that are close to the original. For this reason, I will take the means of the duplicates to give us a central point."
   ]
  },
  {
   "cell_type": "code",
   "execution_count": 17,
   "metadata": {},
   "outputs": [],
   "source": [
    "# remove duplicates by taking means of duplicates\n",
    "iata = iata.groupby('iata_code').mean().reset_index()"
   ]
  },
  {
   "cell_type": "code",
   "execution_count": 18,
   "metadata": {},
   "outputs": [
    {
     "data": {
      "text/plain": [
       "298"
      ]
     },
     "execution_count": 18,
     "metadata": {},
     "output_type": "execute_result"
    }
   ],
   "source": [
    "len(iata)"
   ]
  },
  {
   "cell_type": "code",
   "execution_count": 19,
   "metadata": {},
   "outputs": [
    {
     "data": {
      "text/plain": [
       "array(['ABV', 'ADB', 'ADD', 'ADL', 'AEP', 'AER', 'AGP', 'AKL', 'ALA',\n",
       "       'ALC', 'ALG', 'AMS', 'ANC', 'ANK', 'ARN', 'ATH', 'ATL', 'AUH',\n",
       "       'AUS', 'AYT', 'BAH', 'BCN', 'BER', 'BET', 'BGY', 'BHX', 'BHZ',\n",
       "       'BJS', 'BKK', 'BLR', 'BNA', 'BNE', 'BOG', 'BOM', 'BOS', 'BPN',\n",
       "       'BRU', 'BSB', 'BUD', 'BUE', 'BUH', 'BWI', 'BZE', 'CAI', 'CAN',\n",
       "       'CAS', 'CCS', 'CCU', 'CDG', 'CEB', 'CGH', 'CGK', 'CGN', 'CGO',\n",
       "       'CHC', 'CHI', 'CJU', 'CKG', 'CLT', 'CMB', 'CMN', 'CNF', 'CNS',\n",
       "       'CPH', 'CPT', 'CSX', 'CTS', 'CTU', 'CUN', 'DAC', 'DAL', 'DAR',\n",
       "       'DCA', 'DEL', 'DEN', 'DFW', 'DLC', 'DME', 'DMK', 'DMM', 'DOH',\n",
       "       'DPS', 'DTT', 'DTW', 'DUB', 'DUR', 'DUS', 'DXB', 'EDI', 'ESB',\n",
       "       'EWR', 'EZE', 'FAI', 'FCO', 'FLL', 'FRA', 'FTW', 'FUK', 'GDL',\n",
       "       'GEA', 'GIG', 'GLA', 'GMP', 'GRU', 'GVA', 'HAK', 'HAM', 'HAN',\n",
       "       'HAV', 'HEL', 'HET', 'HGH', 'HIR', 'HKG', 'HKT', 'HND', 'HNL',\n",
       "       'HOU', 'HRB', 'HYD', 'IAD', 'IAH', 'ICN', 'IEV', 'IST', 'ITM',\n",
       "       'IZM', 'JED', 'JFK', 'JKT', 'JNB', 'JNU', 'KHI', 'KIX', 'KMG',\n",
       "       'KNO', 'KRT', 'KTM', 'KUL', 'KWE', 'KWI', 'LAD', 'LAS', 'LAX',\n",
       "       'LED', 'LGA', 'LGW', 'LHR', 'LHW', 'LIM', 'LIS', 'LON', 'LOS',\n",
       "       'LPA', 'LTN', 'LYS', 'MAA', 'MAD', 'MAN', 'MCI', 'MCO', 'MCT',\n",
       "       'MDE', 'MDW', 'MED', 'MEL', 'MES', 'MEX', 'MHD', 'MIA', 'MIL',\n",
       "       'MKC', 'MNL', 'MOW', 'MRS', 'MSP', 'MSY', 'MTY', 'MUC', 'MXP',\n",
       "       'NAN', 'NAS', 'NBO', 'NCE', 'NGO', 'NKG', 'NOU', 'NRT', 'NYC',\n",
       "       'OAK', 'OKA', 'OME', 'OOL', 'OPO', 'ORD', 'ORL', 'ORY', 'OSA',\n",
       "       'OSL', 'OTP', 'OVB', 'PAR', 'PDX', 'PEK', 'PER', 'PHL', 'PHX',\n",
       "       'PIT', 'PMI', 'POA', 'POM', 'PPT', 'PRG', 'PTY', 'PVG', 'RDU',\n",
       "       'REC', 'REK', 'RGN', 'RIO', 'ROM', 'RUH', 'SAC', 'SAN', 'SAO',\n",
       "       'SAW', 'SCL', 'SDU', 'SEA', 'SEL', 'SFO', 'SGN', 'SHA', 'SHE',\n",
       "       'SHJ', 'SIA', 'SIN', 'SIP', 'SJC', 'SJO', 'SJU', 'SLC', 'SMF',\n",
       "       'SNA', 'SPK', 'SSA', 'STL', 'STN', 'STO', 'STR', 'SUB', 'SVO',\n",
       "       'SXF', 'SYD', 'SYX', 'SZX', 'TAO', 'TCI', 'THR', 'TLS', 'TLV',\n",
       "       'TNA', 'TPA', 'TPE', 'TRW', 'TSN', 'TXL', 'TYO', 'UIO', 'UPG',\n",
       "       'URC', 'VCE', 'VCP', 'VIE', 'VKO', 'VLI', 'WAS', 'WAW', 'WIL',\n",
       "       'WLG', 'WUH', 'XIY', 'XMN', 'YEA', 'YEG', 'YKS', 'YMQ', 'YOW',\n",
       "       'YTO', 'YUL', 'YVR', 'YWG', 'YXL', 'YYC', 'YYZ', 'YZF', 'ZME',\n",
       "       'ZRH'], dtype=object)"
      ]
     },
     "execution_count": 19,
     "metadata": {},
     "output_type": "execute_result"
    }
   ],
   "source": [
    "iata['iata_code'].unique()"
   ]
  },
  {
   "cell_type": "markdown",
   "metadata": {},
   "source": [
    "There are some \"airports\" in this list that aren't airports at all, such as BER, PAR, NYC. However, knowing the nature of this data, these may represent \"all airports in an area,\" so I will leave them here."
   ]
  },
  {
   "cell_type": "code",
   "execution_count": 20,
   "metadata": {},
   "outputs": [],
   "source": [
    "# merge IATA code dataframe twice; once for origin, once for destination\n",
    "\n",
    "events = events.merge(iata, left_on='origin', right_on='iata_code')\n",
    "events = events.rename(columns = {'lat':'origin_lat', 'lon':'origin_lon'})\n",
    "events.drop(columns='iata_code', inplace=True)\n",
    "\n",
    "events = events.merge(iata, left_on='destination', right_on='iata_code')\n",
    "events = events.rename(columns = {'lat':'dest_lat', 'lon':'dest_lon'})\n",
    "events.drop(columns='iata_code', inplace=True)"
   ]
  },
  {
   "cell_type": "code",
   "execution_count": 21,
   "metadata": {},
   "outputs": [],
   "source": [
    "# sort values for easier interpretation\n",
    "events.sort_values(by=['user_id', 'ts'], inplace=True)"
   ]
  },
  {
   "cell_type": "code",
   "execution_count": 22,
   "metadata": {},
   "outputs": [
    {
     "data": {
      "text/html": [
       "<div>\n",
       "<style scoped>\n",
       "    .dataframe tbody tr th:only-of-type {\n",
       "        vertical-align: middle;\n",
       "    }\n",
       "\n",
       "    .dataframe tbody tr th {\n",
       "        vertical-align: top;\n",
       "    }\n",
       "\n",
       "    .dataframe thead th {\n",
       "        text-align: right;\n",
       "    }\n",
       "</style>\n",
       "<table border=\"1\" class=\"dataframe\">\n",
       "  <thead>\n",
       "    <tr style=\"text-align: right;\">\n",
       "      <th></th>\n",
       "      <th>ts</th>\n",
       "      <th>event_type</th>\n",
       "      <th>user_id</th>\n",
       "      <th>date_from</th>\n",
       "      <th>date_to</th>\n",
       "      <th>origin</th>\n",
       "      <th>destination</th>\n",
       "      <th>num_adults</th>\n",
       "      <th>num_children</th>\n",
       "      <th>origin_lat</th>\n",
       "      <th>origin_lon</th>\n",
       "      <th>dest_lat</th>\n",
       "      <th>dest_lon</th>\n",
       "    </tr>\n",
       "  </thead>\n",
       "  <tbody>\n",
       "    <tr>\n",
       "      <th>15155</th>\n",
       "      <td>2017-04-29 17:59:51</td>\n",
       "      <td>search</td>\n",
       "      <td>000069</td>\n",
       "      <td>2017-05-10</td>\n",
       "      <td>2017-05-26</td>\n",
       "      <td>FRA</td>\n",
       "      <td>ALG</td>\n",
       "      <td>2</td>\n",
       "      <td>3</td>\n",
       "      <td>50.08</td>\n",
       "      <td>8.620</td>\n",
       "      <td>36.725</td>\n",
       "      <td>3.125</td>\n",
       "    </tr>\n",
       "    <tr>\n",
       "      <th>35012</th>\n",
       "      <td>2017-04-28 19:14:23</td>\n",
       "      <td>search</td>\n",
       "      <td>00019d</td>\n",
       "      <td>2017-09-15</td>\n",
       "      <td>2017-10-13</td>\n",
       "      <td>PAR</td>\n",
       "      <td>SSA</td>\n",
       "      <td>4</td>\n",
       "      <td>0</td>\n",
       "      <td>48.85</td>\n",
       "      <td>2.350</td>\n",
       "      <td>-12.940</td>\n",
       "      <td>-38.420</td>\n",
       "    </tr>\n",
       "    <tr>\n",
       "      <th>1981</th>\n",
       "      <td>2017-04-24 21:25:10</td>\n",
       "      <td>search</td>\n",
       "      <td>0002e3</td>\n",
       "      <td>2017-05-01</td>\n",
       "      <td>2017-05-01</td>\n",
       "      <td>PAR</td>\n",
       "      <td>ATH</td>\n",
       "      <td>1</td>\n",
       "      <td>0</td>\n",
       "      <td>48.85</td>\n",
       "      <td>2.350</td>\n",
       "      <td>37.960</td>\n",
       "      <td>23.830</td>\n",
       "    </tr>\n",
       "    <tr>\n",
       "      <th>10897</th>\n",
       "      <td>2017-04-27 16:34:02</td>\n",
       "      <td>search</td>\n",
       "      <td>000332</td>\n",
       "      <td>2017-06-08</td>\n",
       "      <td>2017-07-07</td>\n",
       "      <td>NCE</td>\n",
       "      <td>TLV</td>\n",
       "      <td>1</td>\n",
       "      <td>0</td>\n",
       "      <td>43.68</td>\n",
       "      <td>7.245</td>\n",
       "      <td>32.045</td>\n",
       "      <td>34.835</td>\n",
       "    </tr>\n",
       "    <tr>\n",
       "      <th>10896</th>\n",
       "      <td>2017-04-27 16:35:35</td>\n",
       "      <td>search</td>\n",
       "      <td>000332</td>\n",
       "      <td>2017-06-08</td>\n",
       "      <td>2017-07-07</td>\n",
       "      <td>NCE</td>\n",
       "      <td>TLV</td>\n",
       "      <td>1</td>\n",
       "      <td>0</td>\n",
       "      <td>43.68</td>\n",
       "      <td>7.245</td>\n",
       "      <td>32.045</td>\n",
       "      <td>34.835</td>\n",
       "    </tr>\n",
       "  </tbody>\n",
       "</table>\n",
       "</div>"
      ],
      "text/plain": [
       "                       ts event_type user_id  date_from    date_to origin  \\\n",
       "15155 2017-04-29 17:59:51     search  000069 2017-05-10 2017-05-26    FRA   \n",
       "35012 2017-04-28 19:14:23     search  00019d 2017-09-15 2017-10-13    PAR   \n",
       "1981  2017-04-24 21:25:10     search  0002e3 2017-05-01 2017-05-01    PAR   \n",
       "10897 2017-04-27 16:34:02     search  000332 2017-06-08 2017-07-07    NCE   \n",
       "10896 2017-04-27 16:35:35     search  000332 2017-06-08 2017-07-07    NCE   \n",
       "\n",
       "      destination  num_adults  num_children  origin_lat  origin_lon  dest_lat  \\\n",
       "15155         ALG           2             3       50.08       8.620    36.725   \n",
       "35012         SSA           4             0       48.85       2.350   -12.940   \n",
       "1981          ATH           1             0       48.85       2.350    37.960   \n",
       "10897         TLV           1             0       43.68       7.245    32.045   \n",
       "10896         TLV           1             0       43.68       7.245    32.045   \n",
       "\n",
       "       dest_lon  \n",
       "15155     3.125  \n",
       "35012   -38.420  \n",
       "1981     23.830  \n",
       "10897    34.835  \n",
       "10896    34.835  "
      ]
     },
     "execution_count": 22,
     "metadata": {},
     "output_type": "execute_result"
    }
   ],
   "source": [
    "events.head()"
   ]
  },
  {
   "cell_type": "markdown",
   "metadata": {},
   "source": [
    "Before adding any features, I will explore the data we have to undertstand it a bit better. A few questions I would like to answer before proceeding:\n",
    "1. What is the balance of classes in our data?\n",
    "2. What do the distributions of the continuous features look like?\n",
    "3. What does the distribution of visits per user look like?\n",
    "4. How many unique users exist in this data set?\n",
    "5. What is the timeframe of this data set?"
   ]
  },
  {
   "cell_type": "code",
   "execution_count": 23,
   "metadata": {},
   "outputs": [
    {
     "data": {
      "text/plain": [
       "search    0.960611\n",
       "book      0.039389\n",
       "Name: event_type, dtype: float64"
      ]
     },
     "execution_count": 23,
     "metadata": {},
     "output_type": "execute_result"
    }
   ],
   "source": [
    "# as we will be predicting the likelihood of a user to book, let's quickly investigate our class balance\n",
    "events['event_type'].value_counts()/len(events)"
   ]
  },
  {
   "cell_type": "markdown",
   "metadata": {},
   "source": [
    "We have a very imbalanced data set with only 3.9% of records representing the positive class (booking). I'll address this at a later point when building the model."
   ]
  },
  {
   "cell_type": "code",
   "execution_count": 24,
   "metadata": {},
   "outputs": [
    {
     "data": {
      "text/plain": [
       "array([[<matplotlib.axes._subplots.AxesSubplot object at 0x7f476fa9edc0>,\n",
       "        <matplotlib.axes._subplots.AxesSubplot object at 0x7f476f294370>]],\n",
       "      dtype=object)"
      ]
     },
     "execution_count": 24,
     "metadata": {},
     "output_type": "execute_result"
    },
    {
     "data": {
      "image/png": "[encoded data removed]",
      "text/plain": [
       "<Figure size 720x432 with 2 Axes>"
      ]
     },
     "metadata": {
      "needs_background": "light"
     },
     "output_type": "display_data"
    }
   ],
   "source": [
    "# distribution of continuous features\n",
    "events[['num_adults', 'num_children']].hist(figsize=(10,6))"
   ]
  },
  {
   "cell_type": "markdown",
   "metadata": {},
   "source": [
    "We can see that the majority of our data contains records for searches with 1-2 adults and 0 children."
   ]
  },
  {
   "cell_type": "code",
   "execution_count": 25,
   "metadata": {},
   "outputs": [
    {
     "data": {
      "text/plain": [
       "count    31165.000000\n",
       "mean         1.472036\n",
       "std          1.115935\n",
       "min          1.000000\n",
       "25%          1.000000\n",
       "50%          1.000000\n",
       "75%          2.000000\n",
       "max         24.000000\n",
       "Name: ts, dtype: float64"
      ]
     },
     "execution_count": 25,
     "metadata": {},
     "output_type": "execute_result"
    }
   ],
   "source": [
    "events.groupby('user_id')['ts'].count().describe()"
   ]
  },
  {
   "cell_type": "markdown",
   "metadata": {},
   "source": [
    "Most user_ids only have one event, but very few have as many as 24 events associated with them. We have 31165 unique users in this data set."
   ]
  },
  {
   "cell_type": "code",
   "execution_count": 26,
   "metadata": {},
   "outputs": [
    {
     "data": {
      "text/plain": [
       "count                   45876\n",
       "unique                  43109\n",
       "top       2017-04-29 18:08:03\n",
       "freq                        4\n",
       "first     2017-04-18 04:41:09\n",
       "last      2017-05-02 04:06:34\n",
       "Name: ts, dtype: object"
      ]
     },
     "execution_count": 26,
     "metadata": {},
     "output_type": "execute_result"
    }
   ],
   "source": [
    "events['ts'].describe()"
   ]
  },
  {
   "cell_type": "markdown",
   "metadata": {},
   "source": [
    "The timeframe of this data is 2017-04-18 to 2017-05-02."
   ]
  },
  {
   "cell_type": "code",
   "execution_count": 27,
   "metadata": {},
   "outputs": [
    {
     "data": {
      "text/html": [
       "<div>\n",
       "<style scoped>\n",
       "    .dataframe tbody tr th:only-of-type {\n",
       "        vertical-align: middle;\n",
       "    }\n",
       "\n",
       "    .dataframe tbody tr th {\n",
       "        vertical-align: top;\n",
       "    }\n",
       "\n",
       "    .dataframe thead th {\n",
       "        text-align: right;\n",
       "    }\n",
       "</style>\n",
       "<table border=\"1\" class=\"dataframe\">\n",
       "  <thead>\n",
       "    <tr style=\"text-align: right;\">\n",
       "      <th></th>\n",
       "      <th>num_adults</th>\n",
       "      <th>num_children</th>\n",
       "      <th>origin_lat</th>\n",
       "      <th>origin_lon</th>\n",
       "      <th>dest_lat</th>\n",
       "      <th>dest_lon</th>\n",
       "    </tr>\n",
       "  </thead>\n",
       "  <tbody>\n",
       "    <tr>\n",
       "      <th>count</th>\n",
       "      <td>45876.000000</td>\n",
       "      <td>45876.000000</td>\n",
       "      <td>45876.000000</td>\n",
       "      <td>45876.000000</td>\n",
       "      <td>45876.000000</td>\n",
       "      <td>45876.000000</td>\n",
       "    </tr>\n",
       "    <tr>\n",
       "      <th>mean</th>\n",
       "      <td>1.675931</td>\n",
       "      <td>0.146133</td>\n",
       "      <td>47.942455</td>\n",
       "      <td>8.343125</td>\n",
       "      <td>37.768583</td>\n",
       "      <td>9.900193</td>\n",
       "    </tr>\n",
       "    <tr>\n",
       "      <th>std</th>\n",
       "      <td>0.987431</td>\n",
       "      <td>0.477010</td>\n",
       "      <td>8.590077</td>\n",
       "      <td>21.079646</td>\n",
       "      <td>17.651020</td>\n",
       "      <td>51.943529</td>\n",
       "    </tr>\n",
       "    <tr>\n",
       "      <th>min</th>\n",
       "      <td>1.000000</td>\n",
       "      <td>0.000000</td>\n",
       "      <td>-43.510000</td>\n",
       "      <td>-157.925000</td>\n",
       "      <td>-43.510000</td>\n",
       "      <td>-157.925000</td>\n",
       "    </tr>\n",
       "    <tr>\n",
       "      <th>25%</th>\n",
       "      <td>1.000000</td>\n",
       "      <td>0.000000</td>\n",
       "      <td>48.245000</td>\n",
       "      <td>4.415000</td>\n",
       "      <td>36.695000</td>\n",
       "      <td>-3.285000</td>\n",
       "    </tr>\n",
       "    <tr>\n",
       "      <th>50%</th>\n",
       "      <td>1.000000</td>\n",
       "      <td>0.000000</td>\n",
       "      <td>48.850000</td>\n",
       "      <td>8.620000</td>\n",
       "      <td>41.010000</td>\n",
       "      <td>7.245000</td>\n",
       "    </tr>\n",
       "    <tr>\n",
       "      <th>75%</th>\n",
       "      <td>2.000000</td>\n",
       "      <td>0.000000</td>\n",
       "      <td>51.250000</td>\n",
       "      <td>10.005000</td>\n",
       "      <td>48.850000</td>\n",
       "      <td>27.140000</td>\n",
       "    </tr>\n",
       "    <tr>\n",
       "      <th>max</th>\n",
       "      <td>9.000000</td>\n",
       "      <td>5.000000</td>\n",
       "      <td>64.130000</td>\n",
       "      <td>177.430000</td>\n",
       "      <td>64.825000</td>\n",
       "      <td>177.430000</td>\n",
       "    </tr>\n",
       "  </tbody>\n",
       "</table>\n",
       "</div>"
      ],
      "text/plain": [
       "         num_adults  num_children    origin_lat    origin_lon      dest_lat  \\\n",
       "count  45876.000000  45876.000000  45876.000000  45876.000000  45876.000000   \n",
       "mean       1.675931      0.146133     47.942455      8.343125     37.768583   \n",
       "std        0.987431      0.477010      8.590077     21.079646     17.651020   \n",
       "min        1.000000      0.000000    -43.510000   -157.925000    -43.510000   \n",
       "25%        1.000000      0.000000     48.245000      4.415000     36.695000   \n",
       "50%        1.000000      0.000000     48.850000      8.620000     41.010000   \n",
       "75%        2.000000      0.000000     51.250000     10.005000     48.850000   \n",
       "max        9.000000      5.000000     64.130000    177.430000     64.825000   \n",
       "\n",
       "           dest_lon  \n",
       "count  45876.000000  \n",
       "mean       9.900193  \n",
       "std       51.943529  \n",
       "min     -157.925000  \n",
       "25%       -3.285000  \n",
       "50%        7.245000  \n",
       "75%       27.140000  \n",
       "max      177.430000  "
      ]
     },
     "execution_count": 27,
     "metadata": {},
     "output_type": "execute_result"
    }
   ],
   "source": [
    "events.describe()"
   ]
  },
  {
   "cell_type": "markdown",
   "metadata": {},
   "source": [
    "# Feature Engineering"
   ]
  },
  {
   "cell_type": "markdown",
   "metadata": {},
   "source": [
    "This section will focus on feature engineering from our original data set. I will extract features from the columns that we have available, as well as features related to the history of the customer."
   ]
  },
  {
   "cell_type": "markdown",
   "metadata": {},
   "source": [
    "### Features extracted from existing columns"
   ]
  },
  {
   "cell_type": "code",
   "execution_count": 28,
   "metadata": {},
   "outputs": [],
   "source": [
    "# extract day of week from the event timestamp. As DOW is a cyclical feature, I will add sin and cosine to represent this.\n",
    "events['ts_dow'] = events['ts'].dt.dayofweek + 1\n",
    "events['ts_sin'] = np.sin(2 * np.pi * events['ts_dow']/7)\n",
    "events['ts_cos'] = np.cos(2 * np.pi * events['ts_dow']/7)"
   ]
  },
  {
   "cell_type": "code",
   "execution_count": 29,
   "metadata": {},
   "outputs": [],
   "source": [
    "# do the same with the from date\n",
    "events['from_dow'] = events['date_from'].dt.dayofweek + 1\n",
    "events['from_sin'] = np.sin(2 * np.pi * events['from_dow']/7)\n",
    "events['from_cos'] = np.cos(2 * np.pi * events['from_dow']/7)"
   ]
  },
  {
   "cell_type": "code",
   "execution_count": 30,
   "metadata": {},
   "outputs": [],
   "source": [
    "# as well as the to date\n",
    "events['to_dow'] = events['date_to'].dt.dayofweek + 1\n",
    "events['to_sin'] = np.sin(2 * np.pi * events['to_dow']/7)\n",
    "events['to_cos'] = np.cos(2 * np.pi * events['to_dow']/7)"
   ]
  },
  {
   "cell_type": "code",
   "execution_count": 31,
   "metadata": {},
   "outputs": [],
   "source": [
    "# number of days to arrival (between event timestamp and from date)\n",
    "events['days_to_arrival'] = (events['date_from'] - events['ts']).apply(lambda l: int(l/pd.Timedelta('1 hour')/24))"
   ]
  },
  {
   "cell_type": "code",
   "execution_count": 32,
   "metadata": {},
   "outputs": [],
   "source": [
    "# length of holiday (date_to - date_from)\n",
    "events['length_of_stay'] = (events['date_to'] - events['date_from']).apply(lambda l: l.days)"
   ]
  },
  {
   "cell_type": "code",
   "execution_count": 33,
   "metadata": {},
   "outputs": [],
   "source": [
    "# haversine formula to calculate distance between origin and destination\n",
    "def haversine(lat1, lon1, lat2, lon2):\n",
    "    \"\"\"\n",
    "    Determines the great-circle distance between two points \n",
    "    on a sphere given their longitudes and latitudes.\n",
    "    \"\"\"\n",
    "    # convert decimal degrees to radians \n",
    "    lon1, lat1, lon2, lat2 = map(radians, [lon1, lat1, lon2, lat2])\n",
    "\n",
    "    # haversine formula \n",
    "    dlon = lon2 - lon1 \n",
    "    dlat = lat2 - lat1 \n",
    "    a = sin(dlat/2)**2 + cos(lat1) * cos(lat2) * sin(dlon/2)**2\n",
    "    c = 2 * asin(sqrt(a)) \n",
    "    r = 6371 # radius of earth in km\n",
    "    return round(c * r)"
   ]
  },
  {
   "cell_type": "code",
   "execution_count": 34,
   "metadata": {},
   "outputs": [],
   "source": [
    "# add haversine distance between origin and destination\n",
    "\n",
    "events['distance'] = events.apply(lambda row: haversine(row['origin_lat'],\n",
    "                                                        row['origin_lon'],\n",
    "                                                        row['dest_lat'],\n",
    "                                                        row['dest_lon']),\n",
    "                                  axis=1)"
   ]
  },
  {
   "cell_type": "code",
   "execution_count": 35,
   "metadata": {},
   "outputs": [
    {
     "data": {
      "text/html": [
       "<div>\n",
       "<style scoped>\n",
       "    .dataframe tbody tr th:only-of-type {\n",
       "        vertical-align: middle;\n",
       "    }\n",
       "\n",
       "    .dataframe tbody tr th {\n",
       "        vertical-align: top;\n",
       "    }\n",
       "\n",
       "    .dataframe thead th {\n",
       "        text-align: right;\n",
       "    }\n",
       "</style>\n",
       "<table border=\"1\" class=\"dataframe\">\n",
       "  <thead>\n",
       "    <tr style=\"text-align: right;\">\n",
       "      <th></th>\n",
       "      <th>origin_lat</th>\n",
       "      <th>origin_lon</th>\n",
       "      <th>dest_lat</th>\n",
       "      <th>dest_lon</th>\n",
       "      <th>distance</th>\n",
       "    </tr>\n",
       "  </thead>\n",
       "  <tbody>\n",
       "    <tr>\n",
       "      <th>15155</th>\n",
       "      <td>50.08</td>\n",
       "      <td>8.620</td>\n",
       "      <td>36.725</td>\n",
       "      <td>3.125</td>\n",
       "      <td>1549</td>\n",
       "    </tr>\n",
       "    <tr>\n",
       "      <th>35012</th>\n",
       "      <td>48.85</td>\n",
       "      <td>2.350</td>\n",
       "      <td>-12.940</td>\n",
       "      <td>-38.420</td>\n",
       "      <td>7952</td>\n",
       "    </tr>\n",
       "    <tr>\n",
       "      <th>1981</th>\n",
       "      <td>48.85</td>\n",
       "      <td>2.350</td>\n",
       "      <td>37.960</td>\n",
       "      <td>23.830</td>\n",
       "      <td>2104</td>\n",
       "    </tr>\n",
       "    <tr>\n",
       "      <th>10897</th>\n",
       "      <td>43.68</td>\n",
       "      <td>7.245</td>\n",
       "      <td>32.045</td>\n",
       "      <td>34.835</td>\n",
       "      <td>2728</td>\n",
       "    </tr>\n",
       "    <tr>\n",
       "      <th>10896</th>\n",
       "      <td>43.68</td>\n",
       "      <td>7.245</td>\n",
       "      <td>32.045</td>\n",
       "      <td>34.835</td>\n",
       "      <td>2728</td>\n",
       "    </tr>\n",
       "  </tbody>\n",
       "</table>\n",
       "</div>"
      ],
      "text/plain": [
       "       origin_lat  origin_lon  dest_lat  dest_lon  distance\n",
       "15155       50.08       8.620    36.725     3.125      1549\n",
       "35012       48.85       2.350   -12.940   -38.420      7952\n",
       "1981        48.85       2.350    37.960    23.830      2104\n",
       "10897       43.68       7.245    32.045    34.835      2728\n",
       "10896       43.68       7.245    32.045    34.835      2728"
      ]
     },
     "execution_count": 35,
     "metadata": {},
     "output_type": "execute_result"
    }
   ],
   "source": [
    "# spot check the haversine formula vs another online to ensure accuracy\n",
    "events[['origin_lat', 'origin_lon', 'dest_lat', 'dest_lon', 'distance']].head()"
   ]
  },
  {
   "cell_type": "code",
   "execution_count": 36,
   "metadata": {},
   "outputs": [],
   "source": [
    "# drop \"helper\" columns\n",
    "events.drop(columns=['ts_dow', 'from_dow', 'to_dow'], inplace=True)"
   ]
  },
  {
   "cell_type": "code",
   "execution_count": 37,
   "metadata": {},
   "outputs": [
    {
     "data": {
      "text/html": [
       "<div>\n",
       "<style scoped>\n",
       "    .dataframe tbody tr th:only-of-type {\n",
       "        vertical-align: middle;\n",
       "    }\n",
       "\n",
       "    .dataframe tbody tr th {\n",
       "        vertical-align: top;\n",
       "    }\n",
       "\n",
       "    .dataframe thead th {\n",
       "        text-align: right;\n",
       "    }\n",
       "</style>\n",
       "<table border=\"1\" class=\"dataframe\">\n",
       "  <thead>\n",
       "    <tr style=\"text-align: right;\">\n",
       "      <th></th>\n",
       "      <th>ts</th>\n",
       "      <th>event_type</th>\n",
       "      <th>user_id</th>\n",
       "      <th>date_from</th>\n",
       "      <th>date_to</th>\n",
       "      <th>origin</th>\n",
       "      <th>destination</th>\n",
       "      <th>num_adults</th>\n",
       "      <th>num_children</th>\n",
       "      <th>origin_lat</th>\n",
       "      <th>...</th>\n",
       "      <th>dest_lon</th>\n",
       "      <th>ts_sin</th>\n",
       "      <th>ts_cos</th>\n",
       "      <th>from_sin</th>\n",
       "      <th>from_cos</th>\n",
       "      <th>to_sin</th>\n",
       "      <th>to_cos</th>\n",
       "      <th>days_to_arrival</th>\n",
       "      <th>length_of_stay</th>\n",
       "      <th>distance</th>\n",
       "    </tr>\n",
       "  </thead>\n",
       "  <tbody>\n",
       "    <tr>\n",
       "      <th>15155</th>\n",
       "      <td>2017-04-29 17:59:51</td>\n",
       "      <td>search</td>\n",
       "      <td>000069</td>\n",
       "      <td>2017-05-10</td>\n",
       "      <td>2017-05-26</td>\n",
       "      <td>FRA</td>\n",
       "      <td>ALG</td>\n",
       "      <td>2</td>\n",
       "      <td>3</td>\n",
       "      <td>50.08</td>\n",
       "      <td>...</td>\n",
       "      <td>3.125</td>\n",
       "      <td>-0.781831</td>\n",
       "      <td>0.623490</td>\n",
       "      <td>0.433884</td>\n",
       "      <td>-0.900969</td>\n",
       "      <td>-0.974928</td>\n",
       "      <td>-0.222521</td>\n",
       "      <td>10</td>\n",
       "      <td>16</td>\n",
       "      <td>1549</td>\n",
       "    </tr>\n",
       "    <tr>\n",
       "      <th>35012</th>\n",
       "      <td>2017-04-28 19:14:23</td>\n",
       "      <td>search</td>\n",
       "      <td>00019d</td>\n",
       "      <td>2017-09-15</td>\n",
       "      <td>2017-10-13</td>\n",
       "      <td>PAR</td>\n",
       "      <td>SSA</td>\n",
       "      <td>4</td>\n",
       "      <td>0</td>\n",
       "      <td>48.85</td>\n",
       "      <td>...</td>\n",
       "      <td>-38.420</td>\n",
       "      <td>-0.974928</td>\n",
       "      <td>-0.222521</td>\n",
       "      <td>-0.974928</td>\n",
       "      <td>-0.222521</td>\n",
       "      <td>-0.974928</td>\n",
       "      <td>-0.222521</td>\n",
       "      <td>139</td>\n",
       "      <td>28</td>\n",
       "      <td>7952</td>\n",
       "    </tr>\n",
       "    <tr>\n",
       "      <th>1981</th>\n",
       "      <td>2017-04-24 21:25:10</td>\n",
       "      <td>search</td>\n",
       "      <td>0002e3</td>\n",
       "      <td>2017-05-01</td>\n",
       "      <td>2017-05-01</td>\n",
       "      <td>PAR</td>\n",
       "      <td>ATH</td>\n",
       "      <td>1</td>\n",
       "      <td>0</td>\n",
       "      <td>48.85</td>\n",
       "      <td>...</td>\n",
       "      <td>23.830</td>\n",
       "      <td>0.781831</td>\n",
       "      <td>0.623490</td>\n",
       "      <td>0.781831</td>\n",
       "      <td>0.623490</td>\n",
       "      <td>0.781831</td>\n",
       "      <td>0.623490</td>\n",
       "      <td>6</td>\n",
       "      <td>0</td>\n",
       "      <td>2104</td>\n",
       "    </tr>\n",
       "    <tr>\n",
       "      <th>10897</th>\n",
       "      <td>2017-04-27 16:34:02</td>\n",
       "      <td>search</td>\n",
       "      <td>000332</td>\n",
       "      <td>2017-06-08</td>\n",
       "      <td>2017-07-07</td>\n",
       "      <td>NCE</td>\n",
       "      <td>TLV</td>\n",
       "      <td>1</td>\n",
       "      <td>0</td>\n",
       "      <td>43.68</td>\n",
       "      <td>...</td>\n",
       "      <td>34.835</td>\n",
       "      <td>-0.433884</td>\n",
       "      <td>-0.900969</td>\n",
       "      <td>-0.433884</td>\n",
       "      <td>-0.900969</td>\n",
       "      <td>-0.974928</td>\n",
       "      <td>-0.222521</td>\n",
       "      <td>41</td>\n",
       "      <td>29</td>\n",
       "      <td>2728</td>\n",
       "    </tr>\n",
       "    <tr>\n",
       "      <th>10896</th>\n",
       "      <td>2017-04-27 16:35:35</td>\n",
       "      <td>search</td>\n",
       "      <td>000332</td>\n",
       "      <td>2017-06-08</td>\n",
       "      <td>2017-07-07</td>\n",
       "      <td>NCE</td>\n",
       "      <td>TLV</td>\n",
       "      <td>1</td>\n",
       "      <td>0</td>\n",
       "      <td>43.68</td>\n",
       "      <td>...</td>\n",
       "      <td>34.835</td>\n",
       "      <td>-0.433884</td>\n",
       "      <td>-0.900969</td>\n",
       "      <td>-0.433884</td>\n",
       "      <td>-0.900969</td>\n",
       "      <td>-0.974928</td>\n",
       "      <td>-0.222521</td>\n",
       "      <td>41</td>\n",
       "      <td>29</td>\n",
       "      <td>2728</td>\n",
       "    </tr>\n",
       "  </tbody>\n",
       "</table>\n",
       "<p>5 rows × 22 columns</p>\n",
       "</div>"
      ],
      "text/plain": [
       "                       ts event_type user_id  date_from    date_to origin  \\\n",
       "15155 2017-04-29 17:59:51     search  000069 2017-05-10 2017-05-26    FRA   \n",
       "35012 2017-04-28 19:14:23     search  00019d 2017-09-15 2017-10-13    PAR   \n",
       "1981  2017-04-24 21:25:10     search  0002e3 2017-05-01 2017-05-01    PAR   \n",
       "10897 2017-04-27 16:34:02     search  000332 2017-06-08 2017-07-07    NCE   \n",
       "10896 2017-04-27 16:35:35     search  000332 2017-06-08 2017-07-07    NCE   \n",
       "\n",
       "      destination  num_adults  num_children  origin_lat  ...  dest_lon  \\\n",
       "15155         ALG           2             3       50.08  ...     3.125   \n",
       "35012         SSA           4             0       48.85  ...   -38.420   \n",
       "1981          ATH           1             0       48.85  ...    23.830   \n",
       "10897         TLV           1             0       43.68  ...    34.835   \n",
       "10896         TLV           1             0       43.68  ...    34.835   \n",
       "\n",
       "         ts_sin    ts_cos  from_sin  from_cos    to_sin    to_cos  \\\n",
       "15155 -0.781831  0.623490  0.433884 -0.900969 -0.974928 -0.222521   \n",
       "35012 -0.974928 -0.222521 -0.974928 -0.222521 -0.974928 -0.222521   \n",
       "1981   0.781831  0.623490  0.781831  0.623490  0.781831  0.623490   \n",
       "10897 -0.433884 -0.900969 -0.433884 -0.900969 -0.974928 -0.222521   \n",
       "10896 -0.433884 -0.900969 -0.433884 -0.900969 -0.974928 -0.222521   \n",
       "\n",
       "       days_to_arrival  length_of_stay  distance  \n",
       "15155               10              16      1549  \n",
       "35012              139              28      7952  \n",
       "1981                 6               0      2104  \n",
       "10897               41              29      2728  \n",
       "10896               41              29      2728  \n",
       "\n",
       "[5 rows x 22 columns]"
      ]
     },
     "execution_count": 37,
     "metadata": {},
     "output_type": "execute_result"
    }
   ],
   "source": [
    "events.head()"
   ]
  },
  {
   "cell_type": "markdown",
   "metadata": {},
   "source": [
    "### Features based on user's history"
   ]
  },
  {
   "cell_type": "code",
   "execution_count": 38,
   "metadata": {},
   "outputs": [],
   "source": [
    "# this represents the number of times that customer has visited\n",
    "events['num_visits'] = events.groupby(\"user_id\")[\"ts\"].rank(\"dense\")"
   ]
  },
  {
   "cell_type": "code",
   "execution_count": 39,
   "metadata": {},
   "outputs": [],
   "source": [
    "# hours since last event\n",
    "events['hours_since_last_event'] = (events.groupby('user_id')['ts'].diff().dt.total_seconds()/3600)"
   ]
  },
  {
   "cell_type": "code",
   "execution_count": 40,
   "metadata": {},
   "outputs": [],
   "source": [
    "# test if origin/destination changed between events\n",
    "events['last_origin'] = events.groupby('user_id')['origin'].shift()\n",
    "events['origin_changed'] = np.where((events['origin'] != events['last_origin']) & ( ~events['last_origin'].isna()), 1, 0)\n",
    "\n",
    "events['last_dest'] = events.groupby('user_id')['destination'].shift()\n",
    "events['dest_changed'] = np.where((events['destination'] != events['last_dest']) & ( ~events['last_dest'].isna()), 1, 0)"
   ]
  },
  {
   "cell_type": "code",
   "execution_count": 41,
   "metadata": {},
   "outputs": [],
   "source": [
    "# test if dates changed\n",
    "events['last_date_from'] = events.groupby('user_id')['date_from'].shift()\n",
    "events['date_from_changed'] = np.where((events['date_from'] != events['last_date_from']) & ( ~events['last_date_from'].isna()), 1, 0)\n",
    "\n",
    "events['last_date_to'] = events.groupby('user_id')['date_to'].shift()\n",
    "events['date_to_changed'] = np.where((events['date_to'] != events['last_date_to']) & ( ~events['last_date_to'].isna()), 1, 0)"
   ]
  },
  {
   "cell_type": "code",
   "execution_count": 42,
   "metadata": {},
   "outputs": [],
   "source": [
    "# get diffs for num_adults and num_children\n",
    "events['num_adults_changed'] = events.groupby('user_id')['num_adults'].diff()\n",
    "events['num_children_changed'] = events.groupby('user_id')['num_children'].diff()"
   ]
  },
  {
   "cell_type": "code",
   "execution_count": 43,
   "metadata": {},
   "outputs": [],
   "source": [
    "# convert these to binaries to indicate if they changed between events\n",
    "events.loc[(events['num_adults_changed'] != 0) & (events['num_adults_changed'].notna()), ['num_adults_changed']] = 1\n",
    "events.loc[(events['num_children_changed'] != 0) & (events['num_children_changed'].notna()), ['num_children_changed']] = 1"
   ]
  },
  {
   "cell_type": "code",
   "execution_count": 44,
   "metadata": {
    "scrolled": true
   },
   "outputs": [],
   "source": [
    "# once again remove the helper columns\n",
    "events.drop(columns=['last_origin', 'last_dest', 'last_date_from', 'last_date_to'], inplace=True)"
   ]
  },
  {
   "cell_type": "markdown",
   "metadata": {},
   "source": [
    "Now that we have several new features, let's understand their distributions and check for outliers."
   ]
  },
  {
   "cell_type": "code",
   "execution_count": 45,
   "metadata": {},
   "outputs": [
    {
     "data": {
      "text/plain": [
       "Index(['ts', 'event_type', 'user_id', 'date_from', 'date_to', 'origin',\n",
       "       'destination', 'num_adults', 'num_children', 'origin_lat', 'origin_lon',\n",
       "       'dest_lat', 'dest_lon', 'ts_sin', 'ts_cos', 'from_sin', 'from_cos',\n",
       "       'to_sin', 'to_cos', 'days_to_arrival', 'length_of_stay', 'distance',\n",
       "       'num_visits', 'hours_since_last_event', 'origin_changed',\n",
       "       'dest_changed', 'date_from_changed', 'date_to_changed',\n",
       "       'num_adults_changed', 'num_children_changed'],\n",
       "      dtype='object')"
      ]
     },
     "execution_count": 45,
     "metadata": {},
     "output_type": "execute_result"
    }
   ],
   "source": [
    "events.columns"
   ]
  },
  {
   "cell_type": "code",
   "execution_count": 69,
   "metadata": {},
   "outputs": [
    {
     "data": {
      "text/html": [
       "<div>\n",
       "<style scoped>\n",
       "    .dataframe tbody tr th:only-of-type {\n",
       "        vertical-align: middle;\n",
       "    }\n",
       "\n",
       "    .dataframe tbody tr th {\n",
       "        vertical-align: top;\n",
       "    }\n",
       "\n",
       "    .dataframe thead th {\n",
       "        text-align: right;\n",
       "    }\n",
       "</style>\n",
       "<table border=\"1\" class=\"dataframe\">\n",
       "  <thead>\n",
       "    <tr style=\"text-align: right;\">\n",
       "      <th></th>\n",
       "      <th>days_to_arrival</th>\n",
       "      <th>length_of_stay</th>\n",
       "      <th>distance</th>\n",
       "      <th>num_visits</th>\n",
       "      <th>hours_since_last_event</th>\n",
       "    </tr>\n",
       "  </thead>\n",
       "  <tbody>\n",
       "    <tr>\n",
       "      <th>count</th>\n",
       "      <td>44783.000000</td>\n",
       "      <td>44783.000000</td>\n",
       "      <td>44783.000000</td>\n",
       "      <td>44783.000000</td>\n",
       "      <td>13975.000000</td>\n",
       "    </tr>\n",
       "    <tr>\n",
       "      <th>mean</th>\n",
       "      <td>76.768015</td>\n",
       "      <td>8.203716</td>\n",
       "      <td>3209.623987</td>\n",
       "      <td>1.633656</td>\n",
       "      <td>7.713608</td>\n",
       "    </tr>\n",
       "    <tr>\n",
       "      <th>std</th>\n",
       "      <td>74.917481</td>\n",
       "      <td>9.362070</td>\n",
       "      <td>3529.158009</td>\n",
       "      <td>1.266081</td>\n",
       "      <td>27.147715</td>\n",
       "    </tr>\n",
       "    <tr>\n",
       "      <th>min</th>\n",
       "      <td>0.000000</td>\n",
       "      <td>0.000000</td>\n",
       "      <td>48.000000</td>\n",
       "      <td>1.000000</td>\n",
       "      <td>0.000278</td>\n",
       "    </tr>\n",
       "    <tr>\n",
       "      <th>25%</th>\n",
       "      <td>17.000000</td>\n",
       "      <td>2.000000</td>\n",
       "      <td>835.000000</td>\n",
       "      <td>1.000000</td>\n",
       "      <td>0.028056</td>\n",
       "    </tr>\n",
       "    <tr>\n",
       "      <th>50%</th>\n",
       "      <td>51.000000</td>\n",
       "      <td>5.000000</td>\n",
       "      <td>1547.000000</td>\n",
       "      <td>1.000000</td>\n",
       "      <td>0.113611</td>\n",
       "    </tr>\n",
       "    <tr>\n",
       "      <th>75%</th>\n",
       "      <td>125.000000</td>\n",
       "      <td>12.000000</td>\n",
       "      <td>5014.000000</td>\n",
       "      <td>2.000000</td>\n",
       "      <td>0.498333</td>\n",
       "    </tr>\n",
       "    <tr>\n",
       "      <th>max</th>\n",
       "      <td>362.000000</td>\n",
       "      <td>67.000000</td>\n",
       "      <td>19433.000000</td>\n",
       "      <td>23.000000</td>\n",
       "      <td>295.940278</td>\n",
       "    </tr>\n",
       "  </tbody>\n",
       "</table>\n",
       "</div>"
      ],
      "text/plain": [
       "       days_to_arrival  length_of_stay      distance    num_visits  \\\n",
       "count     44783.000000    44783.000000  44783.000000  44783.000000   \n",
       "mean         76.768015        8.203716   3209.623987      1.633656   \n",
       "std          74.917481        9.362070   3529.158009      1.266081   \n",
       "min           0.000000        0.000000     48.000000      1.000000   \n",
       "25%          17.000000        2.000000    835.000000      1.000000   \n",
       "50%          51.000000        5.000000   1547.000000      1.000000   \n",
       "75%         125.000000       12.000000   5014.000000      2.000000   \n",
       "max         362.000000       67.000000  19433.000000     23.000000   \n",
       "\n",
       "       hours_since_last_event  \n",
       "count            13975.000000  \n",
       "mean                 7.713608  \n",
       "std                 27.147715  \n",
       "min                  0.000278  \n",
       "25%                  0.028056  \n",
       "50%                  0.113611  \n",
       "75%                  0.498333  \n",
       "max                295.940278  "
      ]
     },
     "execution_count": 69,
     "metadata": {},
     "output_type": "execute_result"
    }
   ],
   "source": [
    "# look at continuous features first (excluding the original once which were already inspected)\n",
    "continuous = ['days_to_arrival', 'length_of_stay', 'distance', 'num_visits', 'hours_since_last_event']\n",
    "events[continuous].describe()"
   ]
  },
  {
   "cell_type": "markdown",
   "metadata": {},
   "source": [
    "A few observations from the above data:\n",
    "- Some observations have days_to_arrival < 0, which cannot be true.\n",
    "- Some observations have length_of_stay as high as 331 - potentially true, but these outliers could impact the classifer.\n",
    "- Some observations have distance as low as 9km - that must be a short flight!\n",
    "- The minimum hours_since_last_event is 0; does this mean we have duplicate events for some users?"
   ]
  },
  {
   "cell_type": "code",
   "execution_count": 47,
   "metadata": {},
   "outputs": [
    {
     "data": {
      "text/html": [
       "<div>\n",
       "<style scoped>\n",
       "    .dataframe tbody tr th:only-of-type {\n",
       "        vertical-align: middle;\n",
       "    }\n",
       "\n",
       "    .dataframe tbody tr th {\n",
       "        vertical-align: top;\n",
       "    }\n",
       "\n",
       "    .dataframe thead th {\n",
       "        text-align: right;\n",
       "    }\n",
       "</style>\n",
       "<table border=\"1\" class=\"dataframe\">\n",
       "  <thead>\n",
       "    <tr style=\"text-align: right;\">\n",
       "      <th></th>\n",
       "      <th>ts</th>\n",
       "      <th>event_type</th>\n",
       "      <th>user_id</th>\n",
       "      <th>date_from</th>\n",
       "      <th>date_to</th>\n",
       "      <th>origin</th>\n",
       "      <th>destination</th>\n",
       "      <th>num_adults</th>\n",
       "      <th>num_children</th>\n",
       "      <th>origin_lat</th>\n",
       "      <th>...</th>\n",
       "      <th>length_of_stay</th>\n",
       "      <th>distance</th>\n",
       "      <th>num_visits</th>\n",
       "      <th>hours_since_last_event</th>\n",
       "      <th>origin_changed</th>\n",
       "      <th>dest_changed</th>\n",
       "      <th>date_from_changed</th>\n",
       "      <th>date_to_changed</th>\n",
       "      <th>num_adults_changed</th>\n",
       "      <th>num_children_changed</th>\n",
       "    </tr>\n",
       "  </thead>\n",
       "  <tbody>\n",
       "    <tr>\n",
       "      <th>15094</th>\n",
       "      <td>2017-04-24 02:15:13</td>\n",
       "      <td>search</td>\n",
       "      <td>9bf922</td>\n",
       "      <td>2017-04-23</td>\n",
       "      <td>2017-05-02</td>\n",
       "      <td>PAR</td>\n",
       "      <td>ALG</td>\n",
       "      <td>1</td>\n",
       "      <td>0</td>\n",
       "      <td>48.85</td>\n",
       "      <td>...</td>\n",
       "      <td>9</td>\n",
       "      <td>1350</td>\n",
       "      <td>1.0</td>\n",
       "      <td>NaN</td>\n",
       "      <td>0</td>\n",
       "      <td>0</td>\n",
       "      <td>0</td>\n",
       "      <td>0</td>\n",
       "      <td>NaN</td>\n",
       "      <td>NaN</td>\n",
       "    </tr>\n",
       "    <tr>\n",
       "      <th>22004</th>\n",
       "      <td>2017-04-29 01:05:05</td>\n",
       "      <td>search</td>\n",
       "      <td>c1b343</td>\n",
       "      <td>2017-04-28</td>\n",
       "      <td>2017-04-28</td>\n",
       "      <td>NYC</td>\n",
       "      <td>HOU</td>\n",
       "      <td>1</td>\n",
       "      <td>0</td>\n",
       "      <td>40.71</td>\n",
       "      <td>...</td>\n",
       "      <td>0</td>\n",
       "      <td>2281</td>\n",
       "      <td>1.0</td>\n",
       "      <td>NaN</td>\n",
       "      <td>0</td>\n",
       "      <td>0</td>\n",
       "      <td>0</td>\n",
       "      <td>0</td>\n",
       "      <td>NaN</td>\n",
       "      <td>NaN</td>\n",
       "    </tr>\n",
       "    <tr>\n",
       "      <th>28515</th>\n",
       "      <td>2017-04-28 01:24:03</td>\n",
       "      <td>search</td>\n",
       "      <td>f739e9</td>\n",
       "      <td>2017-04-27</td>\n",
       "      <td>2017-05-18</td>\n",
       "      <td>HNL</td>\n",
       "      <td>SIN</td>\n",
       "      <td>1</td>\n",
       "      <td>0</td>\n",
       "      <td>21.32</td>\n",
       "      <td>...</td>\n",
       "      <td>21</td>\n",
       "      <td>10798</td>\n",
       "      <td>1.0</td>\n",
       "      <td>NaN</td>\n",
       "      <td>0</td>\n",
       "      <td>0</td>\n",
       "      <td>0</td>\n",
       "      <td>0</td>\n",
       "      <td>NaN</td>\n",
       "      <td>NaN</td>\n",
       "    </tr>\n",
       "    <tr>\n",
       "      <th>7987</th>\n",
       "      <td>2017-04-25 00:17:57</td>\n",
       "      <td>search</td>\n",
       "      <td>fde07c</td>\n",
       "      <td>2017-04-24</td>\n",
       "      <td>2017-05-01</td>\n",
       "      <td>PAR</td>\n",
       "      <td>LIS</td>\n",
       "      <td>1</td>\n",
       "      <td>0</td>\n",
       "      <td>48.85</td>\n",
       "      <td>...</td>\n",
       "      <td>7</td>\n",
       "      <td>1450</td>\n",
       "      <td>1.0</td>\n",
       "      <td>NaN</td>\n",
       "      <td>0</td>\n",
       "      <td>0</td>\n",
       "      <td>0</td>\n",
       "      <td>0</td>\n",
       "      <td>NaN</td>\n",
       "      <td>NaN</td>\n",
       "    </tr>\n",
       "  </tbody>\n",
       "</table>\n",
       "<p>4 rows × 30 columns</p>\n",
       "</div>"
      ],
      "text/plain": [
       "                       ts event_type user_id  date_from    date_to origin  \\\n",
       "15094 2017-04-24 02:15:13     search  9bf922 2017-04-23 2017-05-02    PAR   \n",
       "22004 2017-04-29 01:05:05     search  c1b343 2017-04-28 2017-04-28    NYC   \n",
       "28515 2017-04-28 01:24:03     search  f739e9 2017-04-27 2017-05-18    HNL   \n",
       "7987  2017-04-25 00:17:57     search  fde07c 2017-04-24 2017-05-01    PAR   \n",
       "\n",
       "      destination  num_adults  num_children  origin_lat  ...  length_of_stay  \\\n",
       "15094         ALG           1             0       48.85  ...               9   \n",
       "22004         HOU           1             0       40.71  ...               0   \n",
       "28515         SIN           1             0       21.32  ...              21   \n",
       "7987          LIS           1             0       48.85  ...               7   \n",
       "\n",
       "       distance  num_visits  hours_since_last_event  origin_changed  \\\n",
       "15094      1350         1.0                     NaN               0   \n",
       "22004      2281         1.0                     NaN               0   \n",
       "28515     10798         1.0                     NaN               0   \n",
       "7987       1450         1.0                     NaN               0   \n",
       "\n",
       "       dest_changed  date_from_changed  date_to_changed  num_adults_changed  \\\n",
       "15094             0                  0                0                 NaN   \n",
       "22004             0                  0                0                 NaN   \n",
       "28515             0                  0                0                 NaN   \n",
       "7987              0                  0                0                 NaN   \n",
       "\n",
       "       num_children_changed  \n",
       "15094                   NaN  \n",
       "22004                   NaN  \n",
       "28515                   NaN  \n",
       "7987                    NaN  \n",
       "\n",
       "[4 rows x 30 columns]"
      ]
     },
     "execution_count": 47,
     "metadata": {},
     "output_type": "execute_result"
    }
   ],
   "source": [
    "# inspect the rows with negative days_to_arrival\n",
    "events[events['days_to_arrival'] < 0]"
   ]
  },
  {
   "cell_type": "code",
   "execution_count": 48,
   "metadata": {},
   "outputs": [],
   "source": [
    "# remove the few rows where days_to_arrival is negative\n",
    "events = events[events['days_to_arrival'] >= 0]"
   ]
  },
  {
   "cell_type": "code",
   "execution_count": 49,
   "metadata": {},
   "outputs": [
    {
     "data": {
      "text/plain": [
       "0.9000     21.0000\n",
       "0.9500     29.0000\n",
       "0.9900     67.0000\n",
       "0.9990    182.0000\n",
       "0.9999    273.8258\n",
       "Name: length_of_stay, dtype: float64"
      ]
     },
     "execution_count": 49,
     "metadata": {},
     "output_type": "execute_result"
    }
   ],
   "source": [
    "# let's look at the percentiles of length_of_stay in more detail\n",
    "events['length_of_stay'].quantile([0.9, 0.95, 0.99, 0.999, 0.9999])"
   ]
  },
  {
   "cell_type": "code",
   "execution_count": 50,
   "metadata": {},
   "outputs": [],
   "source": [
    "# 99% of our observations have length_of_stay <= 67 days. exclude the outliers.\n",
    "events = events[events['length_of_stay'] <= 67]"
   ]
  },
  {
   "cell_type": "code",
   "execution_count": 51,
   "metadata": {
    "scrolled": true
   },
   "outputs": [
    {
     "data": {
      "text/plain": [
       "0.0001     13.0\n",
       "0.0010     42.0\n",
       "0.0100    329.0\n",
       "0.0500    470.0\n",
       "Name: distance, dtype: float64"
      ]
     },
     "execution_count": 51,
     "metadata": {},
     "output_type": "execute_result"
    }
   ],
   "source": [
    "# look at distance closer\n",
    "events['distance'].quantile([.0001, .001, .01, .05])"
   ]
  },
  {
   "cell_type": "code",
   "execution_count": 52,
   "metadata": {},
   "outputs": [
    {
     "data": {
      "text/html": [
       "<div>\n",
       "<style scoped>\n",
       "    .dataframe tbody tr th:only-of-type {\n",
       "        vertical-align: middle;\n",
       "    }\n",
       "\n",
       "    .dataframe tbody tr th {\n",
       "        vertical-align: top;\n",
       "    }\n",
       "\n",
       "    .dataframe thead th {\n",
       "        text-align: right;\n",
       "    }\n",
       "</style>\n",
       "<table border=\"1\" class=\"dataframe\">\n",
       "  <thead>\n",
       "    <tr style=\"text-align: right;\">\n",
       "      <th></th>\n",
       "      <th>origin</th>\n",
       "      <th>destination</th>\n",
       "    </tr>\n",
       "  </thead>\n",
       "  <tbody>\n",
       "    <tr>\n",
       "      <th>45768</th>\n",
       "      <td>BER</td>\n",
       "      <td>SXF</td>\n",
       "    </tr>\n",
       "    <tr>\n",
       "      <th>39487</th>\n",
       "      <td>PAR</td>\n",
       "      <td>CDG</td>\n",
       "    </tr>\n",
       "    <tr>\n",
       "      <th>41030</th>\n",
       "      <td>DUS</td>\n",
       "      <td>CGN</td>\n",
       "    </tr>\n",
       "    <tr>\n",
       "      <th>44618</th>\n",
       "      <td>CDG</td>\n",
       "      <td>PAR</td>\n",
       "    </tr>\n",
       "    <tr>\n",
       "      <th>15693</th>\n",
       "      <td>PAR</td>\n",
       "      <td>ORY</td>\n",
       "    </tr>\n",
       "    <tr>\n",
       "      <th>43802</th>\n",
       "      <td>SHA</td>\n",
       "      <td>PVG</td>\n",
       "    </tr>\n",
       "    <tr>\n",
       "      <th>45806</th>\n",
       "      <td>TXL</td>\n",
       "      <td>SXF</td>\n",
       "    </tr>\n",
       "    <tr>\n",
       "      <th>27865</th>\n",
       "      <td>CGN</td>\n",
       "      <td>DUS</td>\n",
       "    </tr>\n",
       "    <tr>\n",
       "      <th>17249</th>\n",
       "      <td>SXF</td>\n",
       "      <td>BER</td>\n",
       "    </tr>\n",
       "    <tr>\n",
       "      <th>44223</th>\n",
       "      <td>ORY</td>\n",
       "      <td>PAR</td>\n",
       "    </tr>\n",
       "    <tr>\n",
       "      <th>24382</th>\n",
       "      <td>BER</td>\n",
       "      <td>TXL</td>\n",
       "    </tr>\n",
       "    <tr>\n",
       "      <th>35750</th>\n",
       "      <td>NYC</td>\n",
       "      <td>EWR</td>\n",
       "    </tr>\n",
       "    <tr>\n",
       "      <th>18142</th>\n",
       "      <td>TXL</td>\n",
       "      <td>BER</td>\n",
       "    </tr>\n",
       "  </tbody>\n",
       "</table>\n",
       "</div>"
      ],
      "text/plain": [
       "      origin destination\n",
       "45768    BER         SXF\n",
       "39487    PAR         CDG\n",
       "41030    DUS         CGN\n",
       "44618    CDG         PAR\n",
       "15693    PAR         ORY\n",
       "43802    SHA         PVG\n",
       "45806    TXL         SXF\n",
       "27865    CGN         DUS\n",
       "17249    SXF         BER\n",
       "44223    ORY         PAR\n",
       "24382    BER         TXL\n",
       "35750    NYC         EWR\n",
       "18142    TXL         BER"
      ]
     },
     "execution_count": 52,
     "metadata": {},
     "output_type": "execute_result"
    }
   ],
   "source": [
    "events[events['distance'] <= 42][['origin', 'destination']].drop_duplicates()"
   ]
  },
  {
   "cell_type": "code",
   "execution_count": 53,
   "metadata": {},
   "outputs": [
    {
     "data": {
      "text/plain": [
       "search    53\n",
       "book       4\n",
       "Name: event_type, dtype: int64"
      ]
     },
     "execution_count": 53,
     "metadata": {},
     "output_type": "execute_result"
    }
   ],
   "source": [
    "# how many rows exist with this condition? how many of them were booked?\n",
    "events[events['distance'] <= 42]['event_type'].value_counts()"
   ]
  },
  {
   "cell_type": "markdown",
   "metadata": {},
   "source": [
    "It appears that the cases which have very short distances are generally related to the pseudo-IATA codes that I found above. For example, a flight from BER to SXF isn't possible since BER isn't an airport (not yet at least, we're still waiting). There are also cases such as DUS to CGN, which are real airports, but people lilely aren't flying 40km to get there. As these outliers only represent 53 rows and 4 of which are bookings, I will exclude these."
   ]
  },
  {
   "cell_type": "code",
   "execution_count": 54,
   "metadata": {},
   "outputs": [],
   "source": [
    "events = events[events['distance'] > 42]"
   ]
  },
  {
   "cell_type": "code",
   "execution_count": 55,
   "metadata": {
    "scrolled": false
   },
   "outputs": [
    {
     "data": {
      "text/html": [
       "<div>\n",
       "<style scoped>\n",
       "    .dataframe tbody tr th:only-of-type {\n",
       "        vertical-align: middle;\n",
       "    }\n",
       "\n",
       "    .dataframe tbody tr th {\n",
       "        vertical-align: top;\n",
       "    }\n",
       "\n",
       "    .dataframe thead th {\n",
       "        text-align: right;\n",
       "    }\n",
       "</style>\n",
       "<table border=\"1\" class=\"dataframe\">\n",
       "  <thead>\n",
       "    <tr style=\"text-align: right;\">\n",
       "      <th></th>\n",
       "      <th>ts</th>\n",
       "      <th>event_type</th>\n",
       "      <th>user_id</th>\n",
       "      <th>date_from</th>\n",
       "      <th>date_to</th>\n",
       "      <th>origin</th>\n",
       "      <th>destination</th>\n",
       "      <th>num_adults</th>\n",
       "      <th>num_children</th>\n",
       "      <th>origin_lat</th>\n",
       "      <th>...</th>\n",
       "      <th>length_of_stay</th>\n",
       "      <th>distance</th>\n",
       "      <th>num_visits</th>\n",
       "      <th>hours_since_last_event</th>\n",
       "      <th>origin_changed</th>\n",
       "      <th>dest_changed</th>\n",
       "      <th>date_from_changed</th>\n",
       "      <th>date_to_changed</th>\n",
       "      <th>num_adults_changed</th>\n",
       "      <th>num_children_changed</th>\n",
       "    </tr>\n",
       "  </thead>\n",
       "  <tbody>\n",
       "    <tr>\n",
       "      <th>20547</th>\n",
       "      <td>2017-04-28 00:40:18</td>\n",
       "      <td>search</td>\n",
       "      <td>00f8fb</td>\n",
       "      <td>2017-04-28</td>\n",
       "      <td>2017-04-29</td>\n",
       "      <td>BER</td>\n",
       "      <td>FRA</td>\n",
       "      <td>1</td>\n",
       "      <td>0</td>\n",
       "      <td>52.520</td>\n",
       "      <td>...</td>\n",
       "      <td>1</td>\n",
       "      <td>429</td>\n",
       "      <td>1.0</td>\n",
       "      <td>0.0</td>\n",
       "      <td>0</td>\n",
       "      <td>0</td>\n",
       "      <td>0</td>\n",
       "      <td>1</td>\n",
       "      <td>0.0</td>\n",
       "      <td>0.0</td>\n",
       "    </tr>\n",
       "    <tr>\n",
       "      <th>27165</th>\n",
       "      <td>2017-04-29 17:16:43</td>\n",
       "      <td>search</td>\n",
       "      <td>015c9e</td>\n",
       "      <td>2017-07-07</td>\n",
       "      <td>2017-07-07</td>\n",
       "      <td>MUC</td>\n",
       "      <td>PMI</td>\n",
       "      <td>1</td>\n",
       "      <td>0</td>\n",
       "      <td>48.245</td>\n",
       "      <td>...</td>\n",
       "      <td>0</td>\n",
       "      <td>1203</td>\n",
       "      <td>1.0</td>\n",
       "      <td>0.0</td>\n",
       "      <td>0</td>\n",
       "      <td>0</td>\n",
       "      <td>1</td>\n",
       "      <td>1</td>\n",
       "      <td>0.0</td>\n",
       "      <td>0.0</td>\n",
       "    </tr>\n",
       "    <tr>\n",
       "      <th>20993</th>\n",
       "      <td>2017-05-02 00:54:55</td>\n",
       "      <td>search</td>\n",
       "      <td>01a4b3</td>\n",
       "      <td>2017-06-22</td>\n",
       "      <td>2017-06-25</td>\n",
       "      <td>AYT</td>\n",
       "      <td>FRA</td>\n",
       "      <td>1</td>\n",
       "      <td>0</td>\n",
       "      <td>36.905</td>\n",
       "      <td>...</td>\n",
       "      <td>3</td>\n",
       "      <td>2294</td>\n",
       "      <td>1.0</td>\n",
       "      <td>0.0</td>\n",
       "      <td>0</td>\n",
       "      <td>0</td>\n",
       "      <td>1</td>\n",
       "      <td>1</td>\n",
       "      <td>0.0</td>\n",
       "      <td>0.0</td>\n",
       "    </tr>\n",
       "    <tr>\n",
       "      <th>8325</th>\n",
       "      <td>2017-04-23 16:03:42</td>\n",
       "      <td>search</td>\n",
       "      <td>01ef2a</td>\n",
       "      <td>2017-10-28</td>\n",
       "      <td>2017-11-01</td>\n",
       "      <td>HAM</td>\n",
       "      <td>LIS</td>\n",
       "      <td>2</td>\n",
       "      <td>0</td>\n",
       "      <td>53.605</td>\n",
       "      <td>...</td>\n",
       "      <td>4</td>\n",
       "      <td>2199</td>\n",
       "      <td>1.0</td>\n",
       "      <td>0.0</td>\n",
       "      <td>0</td>\n",
       "      <td>0</td>\n",
       "      <td>1</td>\n",
       "      <td>1</td>\n",
       "      <td>0.0</td>\n",
       "      <td>0.0</td>\n",
       "    </tr>\n",
       "    <tr>\n",
       "      <th>14849</th>\n",
       "      <td>2017-04-28 13:27:59</td>\n",
       "      <td>search</td>\n",
       "      <td>024222</td>\n",
       "      <td>2017-08-21</td>\n",
       "      <td>2017-08-25</td>\n",
       "      <td>MRS</td>\n",
       "      <td>MAD</td>\n",
       "      <td>1</td>\n",
       "      <td>0</td>\n",
       "      <td>43.370</td>\n",
       "      <td>...</td>\n",
       "      <td>4</td>\n",
       "      <td>806</td>\n",
       "      <td>1.0</td>\n",
       "      <td>0.0</td>\n",
       "      <td>0</td>\n",
       "      <td>0</td>\n",
       "      <td>1</td>\n",
       "      <td>1</td>\n",
       "      <td>0.0</td>\n",
       "      <td>0.0</td>\n",
       "    </tr>\n",
       "    <tr>\n",
       "      <th>...</th>\n",
       "      <td>...</td>\n",
       "      <td>...</td>\n",
       "      <td>...</td>\n",
       "      <td>...</td>\n",
       "      <td>...</td>\n",
       "      <td>...</td>\n",
       "      <td>...</td>\n",
       "      <td>...</td>\n",
       "      <td>...</td>\n",
       "      <td>...</td>\n",
       "      <td>...</td>\n",
       "      <td>...</td>\n",
       "      <td>...</td>\n",
       "      <td>...</td>\n",
       "      <td>...</td>\n",
       "      <td>...</td>\n",
       "      <td>...</td>\n",
       "      <td>...</td>\n",
       "      <td>...</td>\n",
       "      <td>...</td>\n",
       "      <td>...</td>\n",
       "    </tr>\n",
       "    <tr>\n",
       "      <th>21162</th>\n",
       "      <td>2017-04-26 14:39:02</td>\n",
       "      <td>search</td>\n",
       "      <td>ff04b2</td>\n",
       "      <td>2017-10-18</td>\n",
       "      <td>2017-11-05</td>\n",
       "      <td>PAR</td>\n",
       "      <td>LAX</td>\n",
       "      <td>1</td>\n",
       "      <td>0</td>\n",
       "      <td>48.850</td>\n",
       "      <td>...</td>\n",
       "      <td>18</td>\n",
       "      <td>9095</td>\n",
       "      <td>3.0</td>\n",
       "      <td>0.0</td>\n",
       "      <td>0</td>\n",
       "      <td>0</td>\n",
       "      <td>0</td>\n",
       "      <td>1</td>\n",
       "      <td>0.0</td>\n",
       "      <td>0.0</td>\n",
       "    </tr>\n",
       "    <tr>\n",
       "      <th>43145</th>\n",
       "      <td>2017-04-27 19:23:43</td>\n",
       "      <td>search</td>\n",
       "      <td>ff462e</td>\n",
       "      <td>2017-05-01</td>\n",
       "      <td>2017-05-01</td>\n",
       "      <td>SAW</td>\n",
       "      <td>STR</td>\n",
       "      <td>1</td>\n",
       "      <td>0</td>\n",
       "      <td>40.900</td>\n",
       "      <td>...</td>\n",
       "      <td>0</td>\n",
       "      <td>1803</td>\n",
       "      <td>2.0</td>\n",
       "      <td>0.0</td>\n",
       "      <td>1</td>\n",
       "      <td>1</td>\n",
       "      <td>1</td>\n",
       "      <td>1</td>\n",
       "      <td>0.0</td>\n",
       "      <td>0.0</td>\n",
       "    </tr>\n",
       "    <tr>\n",
       "      <th>45662</th>\n",
       "      <td>2017-04-27 20:30:06</td>\n",
       "      <td>search</td>\n",
       "      <td>ffb791</td>\n",
       "      <td>2017-08-22</td>\n",
       "      <td>2017-09-14</td>\n",
       "      <td>HAM</td>\n",
       "      <td>CGK</td>\n",
       "      <td>1</td>\n",
       "      <td>0</td>\n",
       "      <td>53.605</td>\n",
       "      <td>...</td>\n",
       "      <td>23</td>\n",
       "      <td>10995</td>\n",
       "      <td>1.0</td>\n",
       "      <td>0.0</td>\n",
       "      <td>0</td>\n",
       "      <td>0</td>\n",
       "      <td>0</td>\n",
       "      <td>1</td>\n",
       "      <td>0.0</td>\n",
       "      <td>0.0</td>\n",
       "    </tr>\n",
       "    <tr>\n",
       "      <th>39968</th>\n",
       "      <td>2017-04-29 12:12:49</td>\n",
       "      <td>search</td>\n",
       "      <td>ffcc37</td>\n",
       "      <td>2017-08-02</td>\n",
       "      <td>2017-08-05</td>\n",
       "      <td>CGN</td>\n",
       "      <td>MXP</td>\n",
       "      <td>2</td>\n",
       "      <td>0</td>\n",
       "      <td>50.905</td>\n",
       "      <td>...</td>\n",
       "      <td>3</td>\n",
       "      <td>600</td>\n",
       "      <td>2.0</td>\n",
       "      <td>0.0</td>\n",
       "      <td>0</td>\n",
       "      <td>0</td>\n",
       "      <td>1</td>\n",
       "      <td>1</td>\n",
       "      <td>0.0</td>\n",
       "      <td>0.0</td>\n",
       "    </tr>\n",
       "    <tr>\n",
       "      <th>16029</th>\n",
       "      <td>2017-04-29 19:27:38</td>\n",
       "      <td>search</td>\n",
       "      <td>ffd21d</td>\n",
       "      <td>2017-04-30</td>\n",
       "      <td>2017-05-03</td>\n",
       "      <td>BER</td>\n",
       "      <td>ZRH</td>\n",
       "      <td>1</td>\n",
       "      <td>0</td>\n",
       "      <td>52.520</td>\n",
       "      <td>...</td>\n",
       "      <td>3</td>\n",
       "      <td>666</td>\n",
       "      <td>3.0</td>\n",
       "      <td>0.0</td>\n",
       "      <td>0</td>\n",
       "      <td>0</td>\n",
       "      <td>1</td>\n",
       "      <td>1</td>\n",
       "      <td>0.0</td>\n",
       "      <td>0.0</td>\n",
       "    </tr>\n",
       "  </tbody>\n",
       "</table>\n",
       "<p>577 rows × 30 columns</p>\n",
       "</div>"
      ],
      "text/plain": [
       "                       ts event_type user_id  date_from    date_to origin  \\\n",
       "20547 2017-04-28 00:40:18     search  00f8fb 2017-04-28 2017-04-29    BER   \n",
       "27165 2017-04-29 17:16:43     search  015c9e 2017-07-07 2017-07-07    MUC   \n",
       "20993 2017-05-02 00:54:55     search  01a4b3 2017-06-22 2017-06-25    AYT   \n",
       "8325  2017-04-23 16:03:42     search  01ef2a 2017-10-28 2017-11-01    HAM   \n",
       "14849 2017-04-28 13:27:59     search  024222 2017-08-21 2017-08-25    MRS   \n",
       "...                   ...        ...     ...        ...        ...    ...   \n",
       "21162 2017-04-26 14:39:02     search  ff04b2 2017-10-18 2017-11-05    PAR   \n",
       "43145 2017-04-27 19:23:43     search  ff462e 2017-05-01 2017-05-01    SAW   \n",
       "45662 2017-04-27 20:30:06     search  ffb791 2017-08-22 2017-09-14    HAM   \n",
       "39968 2017-04-29 12:12:49     search  ffcc37 2017-08-02 2017-08-05    CGN   \n",
       "16029 2017-04-29 19:27:38     search  ffd21d 2017-04-30 2017-05-03    BER   \n",
       "\n",
       "      destination  num_adults  num_children  origin_lat  ...  length_of_stay  \\\n",
       "20547         FRA           1             0      52.520  ...               1   \n",
       "27165         PMI           1             0      48.245  ...               0   \n",
       "20993         FRA           1             0      36.905  ...               3   \n",
       "8325          LIS           2             0      53.605  ...               4   \n",
       "14849         MAD           1             0      43.370  ...               4   \n",
       "...           ...         ...           ...         ...  ...             ...   \n",
       "21162         LAX           1             0      48.850  ...              18   \n",
       "43145         STR           1             0      40.900  ...               0   \n",
       "45662         CGK           1             0      53.605  ...              23   \n",
       "39968         MXP           2             0      50.905  ...               3   \n",
       "16029         ZRH           1             0      52.520  ...               3   \n",
       "\n",
       "       distance  num_visits  hours_since_last_event  origin_changed  \\\n",
       "20547       429         1.0                     0.0               0   \n",
       "27165      1203         1.0                     0.0               0   \n",
       "20993      2294         1.0                     0.0               0   \n",
       "8325       2199         1.0                     0.0               0   \n",
       "14849       806         1.0                     0.0               0   \n",
       "...         ...         ...                     ...             ...   \n",
       "21162      9095         3.0                     0.0               0   \n",
       "43145      1803         2.0                     0.0               1   \n",
       "45662     10995         1.0                     0.0               0   \n",
       "39968       600         2.0                     0.0               0   \n",
       "16029       666         3.0                     0.0               0   \n",
       "\n",
       "       dest_changed  date_from_changed  date_to_changed  num_adults_changed  \\\n",
       "20547             0                  0                1                 0.0   \n",
       "27165             0                  1                1                 0.0   \n",
       "20993             0                  1                1                 0.0   \n",
       "8325              0                  1                1                 0.0   \n",
       "14849             0                  1                1                 0.0   \n",
       "...             ...                ...              ...                 ...   \n",
       "21162             0                  0                1                 0.0   \n",
       "43145             1                  1                1                 0.0   \n",
       "45662             0                  0                1                 0.0   \n",
       "39968             0                  1                1                 0.0   \n",
       "16029             0                  1                1                 0.0   \n",
       "\n",
       "       num_children_changed  \n",
       "20547                   0.0  \n",
       "27165                   0.0  \n",
       "20993                   0.0  \n",
       "8325                    0.0  \n",
       "14849                   0.0  \n",
       "...                     ...  \n",
       "21162                   0.0  \n",
       "43145                   0.0  \n",
       "45662                   0.0  \n",
       "39968                   0.0  \n",
       "16029                   0.0  \n",
       "\n",
       "[577 rows x 30 columns]"
      ]
     },
     "execution_count": 55,
     "metadata": {},
     "output_type": "execute_result"
    }
   ],
   "source": [
    "# look at cases where the event timestamps are duplicates\n",
    "events[events['hours_since_last_event'] == 0]"
   ]
  },
  {
   "cell_type": "code",
   "execution_count": 56,
   "metadata": {
    "scrolled": true
   },
   "outputs": [
    {
     "data": {
      "text/html": [
       "<div>\n",
       "<style scoped>\n",
       "    .dataframe tbody tr th:only-of-type {\n",
       "        vertical-align: middle;\n",
       "    }\n",
       "\n",
       "    .dataframe tbody tr th {\n",
       "        vertical-align: top;\n",
       "    }\n",
       "\n",
       "    .dataframe thead th {\n",
       "        text-align: right;\n",
       "    }\n",
       "</style>\n",
       "<table border=\"1\" class=\"dataframe\">\n",
       "  <thead>\n",
       "    <tr style=\"text-align: right;\">\n",
       "      <th></th>\n",
       "      <th>ts</th>\n",
       "      <th>event_type</th>\n",
       "      <th>user_id</th>\n",
       "      <th>date_from</th>\n",
       "      <th>date_to</th>\n",
       "      <th>origin</th>\n",
       "      <th>destination</th>\n",
       "      <th>num_adults</th>\n",
       "      <th>num_children</th>\n",
       "      <th>origin_lat</th>\n",
       "      <th>...</th>\n",
       "      <th>length_of_stay</th>\n",
       "      <th>distance</th>\n",
       "      <th>num_visits</th>\n",
       "      <th>hours_since_last_event</th>\n",
       "      <th>origin_changed</th>\n",
       "      <th>dest_changed</th>\n",
       "      <th>date_from_changed</th>\n",
       "      <th>date_to_changed</th>\n",
       "      <th>num_adults_changed</th>\n",
       "      <th>num_children_changed</th>\n",
       "    </tr>\n",
       "  </thead>\n",
       "  <tbody>\n",
       "    <tr>\n",
       "      <th>39965</th>\n",
       "      <td>2017-04-29 12:12:48</td>\n",
       "      <td>search</td>\n",
       "      <td>ffcc37</td>\n",
       "      <td>2017-08-09</td>\n",
       "      <td>2017-08-12</td>\n",
       "      <td>CGN</td>\n",
       "      <td>MXP</td>\n",
       "      <td>2</td>\n",
       "      <td>0</td>\n",
       "      <td>50.905</td>\n",
       "      <td>...</td>\n",
       "      <td>3</td>\n",
       "      <td>600</td>\n",
       "      <td>1.0</td>\n",
       "      <td>NaN</td>\n",
       "      <td>0</td>\n",
       "      <td>0</td>\n",
       "      <td>0</td>\n",
       "      <td>0</td>\n",
       "      <td>NaN</td>\n",
       "      <td>NaN</td>\n",
       "    </tr>\n",
       "    <tr>\n",
       "      <th>39966</th>\n",
       "      <td>2017-04-29 12:12:49</td>\n",
       "      <td>search</td>\n",
       "      <td>ffcc37</td>\n",
       "      <td>2017-08-09</td>\n",
       "      <td>2017-08-12</td>\n",
       "      <td>CGN</td>\n",
       "      <td>MXP</td>\n",
       "      <td>2</td>\n",
       "      <td>0</td>\n",
       "      <td>50.905</td>\n",
       "      <td>...</td>\n",
       "      <td>3</td>\n",
       "      <td>600</td>\n",
       "      <td>2.0</td>\n",
       "      <td>0.000278</td>\n",
       "      <td>0</td>\n",
       "      <td>0</td>\n",
       "      <td>0</td>\n",
       "      <td>0</td>\n",
       "      <td>0.0</td>\n",
       "      <td>0.0</td>\n",
       "    </tr>\n",
       "    <tr>\n",
       "      <th>39968</th>\n",
       "      <td>2017-04-29 12:12:49</td>\n",
       "      <td>search</td>\n",
       "      <td>ffcc37</td>\n",
       "      <td>2017-08-02</td>\n",
       "      <td>2017-08-05</td>\n",
       "      <td>CGN</td>\n",
       "      <td>MXP</td>\n",
       "      <td>2</td>\n",
       "      <td>0</td>\n",
       "      <td>50.905</td>\n",
       "      <td>...</td>\n",
       "      <td>3</td>\n",
       "      <td>600</td>\n",
       "      <td>2.0</td>\n",
       "      <td>0.000000</td>\n",
       "      <td>0</td>\n",
       "      <td>0</td>\n",
       "      <td>1</td>\n",
       "      <td>1</td>\n",
       "      <td>0.0</td>\n",
       "      <td>0.0</td>\n",
       "    </tr>\n",
       "  </tbody>\n",
       "</table>\n",
       "<p>3 rows × 30 columns</p>\n",
       "</div>"
      ],
      "text/plain": [
       "                       ts event_type user_id  date_from    date_to origin  \\\n",
       "39965 2017-04-29 12:12:48     search  ffcc37 2017-08-09 2017-08-12    CGN   \n",
       "39966 2017-04-29 12:12:49     search  ffcc37 2017-08-09 2017-08-12    CGN   \n",
       "39968 2017-04-29 12:12:49     search  ffcc37 2017-08-02 2017-08-05    CGN   \n",
       "\n",
       "      destination  num_adults  num_children  origin_lat  ...  length_of_stay  \\\n",
       "39965         MXP           2             0      50.905  ...               3   \n",
       "39966         MXP           2             0      50.905  ...               3   \n",
       "39968         MXP           2             0      50.905  ...               3   \n",
       "\n",
       "       distance  num_visits  hours_since_last_event  origin_changed  \\\n",
       "39965       600         1.0                     NaN               0   \n",
       "39966       600         2.0                0.000278               0   \n",
       "39968       600         2.0                0.000000               0   \n",
       "\n",
       "       dest_changed  date_from_changed  date_to_changed  num_adults_changed  \\\n",
       "39965             0                  0                0                 NaN   \n",
       "39966             0                  0                0                 0.0   \n",
       "39968             0                  1                1                 0.0   \n",
       "\n",
       "       num_children_changed  \n",
       "39965                   NaN  \n",
       "39966                   0.0  \n",
       "39968                   0.0  \n",
       "\n",
       "[3 rows x 30 columns]"
      ]
     },
     "execution_count": 56,
     "metadata": {},
     "output_type": "execute_result"
    }
   ],
   "source": [
    "# look at a few specific users in more detail\n",
    "events[events['user_id'] == 'ffcc37']"
   ]
  },
  {
   "cell_type": "markdown",
   "metadata": {},
   "source": [
    "It appears that in cases where there are duplicates, the date_to seems to be the only column changing, based on a sample tested above. This could be an upstream data issue. Given the fact that this only affects 577 rows, it may be best to drop these. Before doing that, let's ensure that we're not losing many rows related to booking events."
   ]
  },
  {
   "cell_type": "code",
   "execution_count": 57,
   "metadata": {
    "scrolled": true
   },
   "outputs": [
    {
     "data": {
      "text/plain": [
       "search    577\n",
       "Name: event_type, dtype: int64"
      ]
     },
     "execution_count": 57,
     "metadata": {},
     "output_type": "execute_result"
    }
   ],
   "source": [
    "events[events['hours_since_last_event'] == 0]['event_type'].value_counts()"
   ]
  },
  {
   "cell_type": "code",
   "execution_count": 58,
   "metadata": {},
   "outputs": [],
   "source": [
    "events = events[events['hours_since_last_event'] != 0]"
   ]
  },
  {
   "cell_type": "code",
   "execution_count": 59,
   "metadata": {},
   "outputs": [
    {
     "data": {
      "text/plain": [
       "44783"
      ]
     },
     "execution_count": 59,
     "metadata": {},
     "output_type": "execute_result"
    }
   ],
   "source": [
    "# check length of df after excluding the problematic rows\n",
    "len(events)"
   ]
  },
  {
   "cell_type": "code",
   "execution_count": 71,
   "metadata": {},
   "outputs": [
    {
     "data": {
      "text/plain": [
       "<matplotlib.axes._subplots.AxesSubplot at 0x7f476d2c31f0>"
      ]
     },
     "execution_count": 71,
     "metadata": {},
     "output_type": "execute_result"
    },
    {
     "data": {
      "image/png": "[encoded data removed]",
      "text/plain": [
       "<Figure size 432x288 with 2 Axes>"
      ]
     },
     "metadata": {
      "needs_background": "light"
     },
     "output_type": "display_data"
    }
   ],
   "source": [
    "# have a quick look at the correlations of these continuous features\n",
    "plt.figure()\n",
    "sns.heatmap(events[continuous].corr(),  cmap='Blues', annot=True,\n",
    "            fmt=\".2f\", square=False, linewidths=.5, cbar_kws={\"shrink\": .5})"
   ]
  },
  {
   "cell_type": "code",
   "execution_count": 64,
   "metadata": {},
   "outputs": [
    {
     "data": {
      "text/html": [
       "<div>\n",
       "<style scoped>\n",
       "    .dataframe tbody tr th:only-of-type {\n",
       "        vertical-align: middle;\n",
       "    }\n",
       "\n",
       "    .dataframe tbody tr th {\n",
       "        vertical-align: top;\n",
       "    }\n",
       "\n",
       "    .dataframe thead th {\n",
       "        text-align: right;\n",
       "    }\n",
       "</style>\n",
       "<table border=\"1\" class=\"dataframe\">\n",
       "  <thead>\n",
       "    <tr style=\"text-align: right;\">\n",
       "      <th></th>\n",
       "      <th>origin_changed</th>\n",
       "      <th>dest_changed</th>\n",
       "      <th>date_from_changed</th>\n",
       "      <th>date_to_changed</th>\n",
       "      <th>num_adults_changed</th>\n",
       "      <th>num_children_changed</th>\n",
       "    </tr>\n",
       "  </thead>\n",
       "  <tbody>\n",
       "    <tr>\n",
       "      <th>count</th>\n",
       "      <td>13975.000000</td>\n",
       "      <td>13975.000000</td>\n",
       "      <td>13975.00000</td>\n",
       "      <td>13975.000000</td>\n",
       "      <td>13975.000000</td>\n",
       "      <td>13975.000000</td>\n",
       "    </tr>\n",
       "    <tr>\n",
       "      <th>mean</th>\n",
       "      <td>0.112701</td>\n",
       "      <td>0.119428</td>\n",
       "      <td>0.23127</td>\n",
       "      <td>0.240501</td>\n",
       "      <td>0.073488</td>\n",
       "      <td>0.017174</td>\n",
       "    </tr>\n",
       "    <tr>\n",
       "      <th>std</th>\n",
       "      <td>0.316239</td>\n",
       "      <td>0.324303</td>\n",
       "      <td>0.42166</td>\n",
       "      <td>0.427403</td>\n",
       "      <td>0.260946</td>\n",
       "      <td>0.129922</td>\n",
       "    </tr>\n",
       "    <tr>\n",
       "      <th>min</th>\n",
       "      <td>0.000000</td>\n",
       "      <td>0.000000</td>\n",
       "      <td>0.00000</td>\n",
       "      <td>0.000000</td>\n",
       "      <td>0.000000</td>\n",
       "      <td>0.000000</td>\n",
       "    </tr>\n",
       "    <tr>\n",
       "      <th>25%</th>\n",
       "      <td>0.000000</td>\n",
       "      <td>0.000000</td>\n",
       "      <td>0.00000</td>\n",
       "      <td>0.000000</td>\n",
       "      <td>0.000000</td>\n",
       "      <td>0.000000</td>\n",
       "    </tr>\n",
       "    <tr>\n",
       "      <th>50%</th>\n",
       "      <td>0.000000</td>\n",
       "      <td>0.000000</td>\n",
       "      <td>0.00000</td>\n",
       "      <td>0.000000</td>\n",
       "      <td>0.000000</td>\n",
       "      <td>0.000000</td>\n",
       "    </tr>\n",
       "    <tr>\n",
       "      <th>75%</th>\n",
       "      <td>0.000000</td>\n",
       "      <td>0.000000</td>\n",
       "      <td>0.00000</td>\n",
       "      <td>0.000000</td>\n",
       "      <td>0.000000</td>\n",
       "      <td>0.000000</td>\n",
       "    </tr>\n",
       "    <tr>\n",
       "      <th>max</th>\n",
       "      <td>1.000000</td>\n",
       "      <td>1.000000</td>\n",
       "      <td>1.00000</td>\n",
       "      <td>1.000000</td>\n",
       "      <td>1.000000</td>\n",
       "      <td>1.000000</td>\n",
       "    </tr>\n",
       "  </tbody>\n",
       "</table>\n",
       "</div>"
      ],
      "text/plain": [
       "       origin_changed  dest_changed  date_from_changed  date_to_changed  \\\n",
       "count    13975.000000  13975.000000        13975.00000     13975.000000   \n",
       "mean         0.112701      0.119428            0.23127         0.240501   \n",
       "std          0.316239      0.324303            0.42166         0.427403   \n",
       "min          0.000000      0.000000            0.00000         0.000000   \n",
       "25%          0.000000      0.000000            0.00000         0.000000   \n",
       "50%          0.000000      0.000000            0.00000         0.000000   \n",
       "75%          0.000000      0.000000            0.00000         0.000000   \n",
       "max          1.000000      1.000000            1.00000         1.000000   \n",
       "\n",
       "       num_adults_changed  num_children_changed  \n",
       "count        13975.000000          13975.000000  \n",
       "mean             0.073488              0.017174  \n",
       "std              0.260946              0.129922  \n",
       "min              0.000000              0.000000  \n",
       "25%              0.000000              0.000000  \n",
       "50%              0.000000              0.000000  \n",
       "75%              0.000000              0.000000  \n",
       "max              1.000000              1.000000  "
      ]
     },
     "execution_count": 64,
     "metadata": {},
     "output_type": "execute_result"
    }
   ],
   "source": [
    "# look at binary columns (after excluding rows without history)\n",
    "\n",
    "events.dropna()[['origin_changed',\n",
    "       'dest_changed', 'date_from_changed', 'date_to_changed',\n",
    "       'num_adults_changed', 'num_children_changed']].describe()"
   ]
  },
  {
   "cell_type": "markdown",
   "metadata": {},
   "source": [
    "We can see that of all rows which follow another event:\n",
    "- 11% changed the origin from the past event\n",
    "- 11% changed the destination from the past event\n",
    "- 23% changed the from date\n",
    "- 24% changed the to date\n",
    "- 7% changed the number of adults\n",
    "- 2% changed the number of children"
   ]
  },
  {
   "cell_type": "markdown",
   "metadata": {},
   "source": [
    "Next, we will have a look at a few distributions by event type to see how the behaviors differ between these groups."
   ]
  },
  {
   "cell_type": "code",
   "execution_count": 76,
   "metadata": {},
   "outputs": [
    {
     "data": {
      "image/png": "[encoded data removed]",
      "text/plain": [
       "<Figure size 864x432 with 1 Axes>"
      ]
     },
     "metadata": {
      "needs_background": "light"
     },
     "output_type": "display_data"
    }
   ],
   "source": [
    "# distance by event_type\n",
    "\n",
    "plt.figure(figsize = (12,6))\n",
    "\n",
    "for i in events['event_type'].unique():\n",
    "    sns.distplot(events['distance'][events['event_type'] == i], label=i)\n",
    "\n",
    "    plt.legend(loc='best')"
   ]
  },
  {
   "cell_type": "code",
   "execution_count": 82,
   "metadata": {},
   "outputs": [
    {
     "data": {
      "text/html": [
       "<div>\n",
       "<style scoped>\n",
       "    .dataframe tbody tr th:only-of-type {\n",
       "        vertical-align: middle;\n",
       "    }\n",
       "\n",
       "    .dataframe tbody tr th {\n",
       "        vertical-align: top;\n",
       "    }\n",
       "\n",
       "    .dataframe thead th {\n",
       "        text-align: right;\n",
       "    }\n",
       "</style>\n",
       "<table border=\"1\" class=\"dataframe\">\n",
       "  <thead>\n",
       "    <tr style=\"text-align: right;\">\n",
       "      <th></th>\n",
       "      <th>count</th>\n",
       "      <th>mean</th>\n",
       "      <th>std</th>\n",
       "      <th>min</th>\n",
       "      <th>25%</th>\n",
       "      <th>50%</th>\n",
       "      <th>75%</th>\n",
       "      <th>max</th>\n",
       "    </tr>\n",
       "    <tr>\n",
       "      <th>event_type</th>\n",
       "      <th></th>\n",
       "      <th></th>\n",
       "      <th></th>\n",
       "      <th></th>\n",
       "      <th></th>\n",
       "      <th></th>\n",
       "      <th></th>\n",
       "      <th></th>\n",
       "    </tr>\n",
       "  </thead>\n",
       "  <tbody>\n",
       "    <tr>\n",
       "      <th>book</th>\n",
       "      <td>1788.0</td>\n",
       "      <td>2394.703579</td>\n",
       "      <td>2923.878766</td>\n",
       "      <td>48.0</td>\n",
       "      <td>690.0</td>\n",
       "      <td>1216.5</td>\n",
       "      <td>2110.0</td>\n",
       "      <td>18597.0</td>\n",
       "    </tr>\n",
       "    <tr>\n",
       "      <th>search</th>\n",
       "      <td>42995.0</td>\n",
       "      <td>3243.513455</td>\n",
       "      <td>3548.073238</td>\n",
       "      <td>97.0</td>\n",
       "      <td>842.0</td>\n",
       "      <td>1580.0</td>\n",
       "      <td>5250.0</td>\n",
       "      <td>19433.0</td>\n",
       "    </tr>\n",
       "  </tbody>\n",
       "</table>\n",
       "</div>"
      ],
      "text/plain": [
       "              count         mean          std   min    25%     50%     75%  \\\n",
       "event_type                                                                   \n",
       "book         1788.0  2394.703579  2923.878766  48.0  690.0  1216.5  2110.0   \n",
       "search      42995.0  3243.513455  3548.073238  97.0  842.0  1580.0  5250.0   \n",
       "\n",
       "                max  \n",
       "event_type           \n",
       "book        18597.0  \n",
       "search      19433.0  "
      ]
     },
     "execution_count": 82,
     "metadata": {},
     "output_type": "execute_result"
    }
   ],
   "source": [
    "events.groupby('event_type')['distance'].describe()"
   ]
  },
  {
   "cell_type": "markdown",
   "metadata": {},
   "source": [
    "It looks like the average distance is lower for the booked group."
   ]
  },
  {
   "cell_type": "code",
   "execution_count": 77,
   "metadata": {
    "scrolled": false
   },
   "outputs": [
    {
     "data": {
      "image/png": "[encoded data removed]",
      "text/plain": [
       "<Figure size 864x432 with 1 Axes>"
      ]
     },
     "metadata": {
      "needs_background": "light"
     },
     "output_type": "display_data"
    }
   ],
   "source": [
    "# days_to_arrival by event_type\n",
    "\n",
    "plt.figure(figsize = (12,6))\n",
    "\n",
    "for i in events['event_type'].unique():\n",
    "    sns.distplot(events['days_to_arrival'][events['event_type'] == i], label=i)\n",
    "\n",
    "    plt.legend(loc='best')"
   ]
  },
  {
   "cell_type": "code",
   "execution_count": 78,
   "metadata": {},
   "outputs": [
    {
     "data": {
      "image/png": "[encoded data removed]",
      "text/plain": [
       "<Figure size 864x432 with 1 Axes>"
      ]
     },
     "metadata": {
      "needs_background": "light"
     },
     "output_type": "display_data"
    }
   ],
   "source": [
    "# length_of_stay by event type\n",
    "\n",
    "plt.figure(figsize = (12,6))\n",
    "\n",
    "for i in events['event_type'].unique():\n",
    "    sns.distplot(events['length_of_stay'][events['event_type'] == i], label=i)\n",
    "\n",
    "    plt.legend(loc='best')"
   ]
  },
  {
   "cell_type": "code",
   "execution_count": 79,
   "metadata": {},
   "outputs": [
    {
     "data": {
      "image/png": "[encoded data removed]",
      "text/plain": [
       "<Figure size 864x432 with 1 Axes>"
      ]
     },
     "metadata": {
      "needs_background": "light"
     },
     "output_type": "display_data"
    }
   ],
   "source": [
    "# num_visits by event type\n",
    "\n",
    "plt.figure(figsize = (12,6))\n",
    "\n",
    "for i in events['event_type'].unique():\n",
    "    sns.distplot(events['num_visits'][events['event_type'] == i], label=i)\n",
    "\n",
    "    plt.legend(loc='best')"
   ]
  },
  {
   "cell_type": "code",
   "execution_count": 84,
   "metadata": {},
   "outputs": [
    {
     "data": {
      "text/html": [
       "<div>\n",
       "<style scoped>\n",
       "    .dataframe tbody tr th:only-of-type {\n",
       "        vertical-align: middle;\n",
       "    }\n",
       "\n",
       "    .dataframe tbody tr th {\n",
       "        vertical-align: top;\n",
       "    }\n",
       "\n",
       "    .dataframe thead th {\n",
       "        text-align: right;\n",
       "    }\n",
       "</style>\n",
       "<table border=\"1\" class=\"dataframe\">\n",
       "  <thead>\n",
       "    <tr style=\"text-align: right;\">\n",
       "      <th></th>\n",
       "      <th>count</th>\n",
       "      <th>mean</th>\n",
       "      <th>std</th>\n",
       "      <th>min</th>\n",
       "      <th>25%</th>\n",
       "      <th>50%</th>\n",
       "      <th>75%</th>\n",
       "      <th>max</th>\n",
       "    </tr>\n",
       "    <tr>\n",
       "      <th>event_type</th>\n",
       "      <th></th>\n",
       "      <th></th>\n",
       "      <th></th>\n",
       "      <th></th>\n",
       "      <th></th>\n",
       "      <th></th>\n",
       "      <th></th>\n",
       "      <th></th>\n",
       "    </tr>\n",
       "  </thead>\n",
       "  <tbody>\n",
       "    <tr>\n",
       "      <th>book</th>\n",
       "      <td>1788.0</td>\n",
       "      <td>4.582215</td>\n",
       "      <td>1.631207</td>\n",
       "      <td>1.0</td>\n",
       "      <td>4.0</td>\n",
       "      <td>4.0</td>\n",
       "      <td>6.0</td>\n",
       "      <td>10.0</td>\n",
       "    </tr>\n",
       "    <tr>\n",
       "      <th>search</th>\n",
       "      <td>42995.0</td>\n",
       "      <td>1.511036</td>\n",
       "      <td>1.087397</td>\n",
       "      <td>1.0</td>\n",
       "      <td>1.0</td>\n",
       "      <td>1.0</td>\n",
       "      <td>2.0</td>\n",
       "      <td>23.0</td>\n",
       "    </tr>\n",
       "  </tbody>\n",
       "</table>\n",
       "</div>"
      ],
      "text/plain": [
       "              count      mean       std  min  25%  50%  75%   max\n",
       "event_type                                                       \n",
       "book         1788.0  4.582215  1.631207  1.0  4.0  4.0  6.0  10.0\n",
       "search      42995.0  1.511036  1.087397  1.0  1.0  1.0  2.0  23.0"
      ]
     },
     "execution_count": 84,
     "metadata": {},
     "output_type": "execute_result"
    }
   ],
   "source": [
    "events.groupby('event_type')['num_visits'].describe()"
   ]
  },
  {
   "cell_type": "markdown",
   "metadata": {},
   "source": [
    "Now this is interesting! We can see from above that the distributions of num_visits between groups is different. I have a feeling this feature could help out the model."
   ]
  },
  {
   "cell_type": "code",
   "execution_count": 87,
   "metadata": {},
   "outputs": [
    {
     "data": {
      "image/png": "[encoded data removed]",
      "text/plain": [
       "<Figure size 864x432 with 1 Axes>"
      ]
     },
     "metadata": {
      "needs_background": "light"
     },
     "output_type": "display_data"
    }
   ],
   "source": [
    "# hours_since_last_event by event type- for visualization purposes, a subset is shown below\n",
    "\n",
    "plt.figure(figsize = (12,6))\n",
    "\n",
    "for i in events['event_type'].unique():\n",
    "    sns.distplot(events[events['hours_since_last_event'] <=1]['hours_since_last_event'][events['event_type'] == i], label=i)\n",
    "\n",
    "    plt.legend(loc='best')"
   ]
  },
  {
   "cell_type": "code",
   "execution_count": 85,
   "metadata": {},
   "outputs": [
    {
     "data": {
      "text/html": [
       "<div>\n",
       "<style scoped>\n",
       "    .dataframe tbody tr th:only-of-type {\n",
       "        vertical-align: middle;\n",
       "    }\n",
       "\n",
       "    .dataframe tbody tr th {\n",
       "        vertical-align: top;\n",
       "    }\n",
       "\n",
       "    .dataframe thead th {\n",
       "        text-align: right;\n",
       "    }\n",
       "</style>\n",
       "<table border=\"1\" class=\"dataframe\">\n",
       "  <thead>\n",
       "    <tr style=\"text-align: right;\">\n",
       "      <th></th>\n",
       "      <th>count</th>\n",
       "      <th>mean</th>\n",
       "      <th>std</th>\n",
       "      <th>min</th>\n",
       "      <th>25%</th>\n",
       "      <th>50%</th>\n",
       "      <th>75%</th>\n",
       "      <th>max</th>\n",
       "    </tr>\n",
       "    <tr>\n",
       "      <th>event_type</th>\n",
       "      <th></th>\n",
       "      <th></th>\n",
       "      <th></th>\n",
       "      <th></th>\n",
       "      <th></th>\n",
       "      <th></th>\n",
       "      <th></th>\n",
       "      <th></th>\n",
       "    </tr>\n",
       "  </thead>\n",
       "  <tbody>\n",
       "    <tr>\n",
       "      <th>book</th>\n",
       "      <td>1740.0</td>\n",
       "      <td>2.307969</td>\n",
       "      <td>14.650951</td>\n",
       "      <td>0.001944</td>\n",
       "      <td>0.129167</td>\n",
       "      <td>0.212778</td>\n",
       "      <td>0.352500</td>\n",
       "      <td>286.338611</td>\n",
       "    </tr>\n",
       "    <tr>\n",
       "      <th>search</th>\n",
       "      <td>12235.0</td>\n",
       "      <td>8.482370</td>\n",
       "      <td>28.400013</td>\n",
       "      <td>0.000278</td>\n",
       "      <td>0.023333</td>\n",
       "      <td>0.085833</td>\n",
       "      <td>0.585833</td>\n",
       "      <td>295.940278</td>\n",
       "    </tr>\n",
       "  </tbody>\n",
       "</table>\n",
       "</div>"
      ],
      "text/plain": [
       "              count      mean        std       min       25%       50%  \\\n",
       "event_type                                                               \n",
       "book         1740.0  2.307969  14.650951  0.001944  0.129167  0.212778   \n",
       "search      12235.0  8.482370  28.400013  0.000278  0.023333  0.085833   \n",
       "\n",
       "                 75%         max  \n",
       "event_type                        \n",
       "book        0.352500  286.338611  \n",
       "search      0.585833  295.940278  "
      ]
     },
     "execution_count": 85,
     "metadata": {},
     "output_type": "execute_result"
    }
   ],
   "source": [
    "events.groupby('event_type')['hours_since_last_event'].describe()"
   ]
  },
  {
   "cell_type": "markdown",
   "metadata": {},
   "source": [
    "It looks like the average customer who books performs searches less frequently. This may also be useful in the model."
   ]
  },
  {
   "cell_type": "markdown",
   "metadata": {},
   "source": [
    "Finally, let's encode our target."
   ]
  },
  {
   "cell_type": "code",
   "execution_count": 89,
   "metadata": {},
   "outputs": [],
   "source": [
    "# let's encode these. this will be our target variable\n",
    "events['target'] = events['event_type'].apply(lambda x: 1 if x =='book' else 0)"
   ]
  },
  {
   "cell_type": "markdown",
   "metadata": {},
   "source": [
    "# Building the classifier"
   ]
  },
  {
   "cell_type": "markdown",
   "metadata": {},
   "source": [
    "Now that we have a comprehensive set of features, I will build a binary classifier to predict the conversion event. Since this data set contains many rows with nulls (those without any history), I will use the XGBoost classifier, as it plays well with nulls. "
   ]
  },
  {
   "cell_type": "code",
   "execution_count": 90,
   "metadata": {},
   "outputs": [
    {
     "data": {
      "text/plain": [
       "Index(['ts', 'event_type', 'user_id', 'date_from', 'date_to', 'origin',\n",
       "       'destination', 'num_adults', 'num_children', 'origin_lat', 'origin_lon',\n",
       "       'dest_lat', 'dest_lon', 'ts_sin', 'ts_cos', 'from_sin', 'from_cos',\n",
       "       'to_sin', 'to_cos', 'days_to_arrival', 'length_of_stay', 'distance',\n",
       "       'num_visits', 'hours_since_last_event', 'origin_changed',\n",
       "       'dest_changed', 'date_from_changed', 'date_to_changed',\n",
       "       'num_adults_changed', 'num_children_changed', 'target'],\n",
       "      dtype='object')"
      ]
     },
     "execution_count": 90,
     "metadata": {},
     "output_type": "execute_result"
    }
   ],
   "source": [
    "events.columns"
   ]
  },
  {
   "cell_type": "code",
   "execution_count": 481,
   "metadata": {},
   "outputs": [],
   "source": [
    "# we will build a baseline model with all features, but this list will be modified based on feature imporatance.\n",
    "\n",
    "features = [\n",
    "            'num_adults',\n",
    "            #'num_children',\n",
    "            'ts_sin',\n",
    "            'ts_cos',\n",
    "            'from_sin',\n",
    "            'from_cos',\n",
    "#             'to_sin',\n",
    "#             'to_cos',\n",
    "            'days_to_arrival', \n",
    "            'length_of_stay', \n",
    "            'distance',\n",
    "            'num_visits', \n",
    "            'hours_since_last_event', \n",
    "            'origin_changed',\n",
    "            'dest_changed', \n",
    "            'date_from_changed', \n",
    "            'date_to_changed',\n",
    "            'num_adults_changed' \n",
    "            #'num_children_changed'\n",
    "           ]"
   ]
  },
  {
   "cell_type": "code",
   "execution_count": 482,
   "metadata": {},
   "outputs": [],
   "source": [
    "# split our original data set into X,y sets\n",
    "X = events[features]\n",
    "y = events['target']"
   ]
  },
  {
   "cell_type": "code",
   "execution_count": 311,
   "metadata": {},
   "outputs": [],
   "source": [
    "# we'll use this function to perform grid search + CV to find optimum hyperparameters\n",
    "\n",
    "def xgb_tuner(features_dataframe, target_dataframe):\n",
    "\n",
    "    xgb_model = xgb.XGBClassifier()\n",
    "    \n",
    "    # parameter grid defined here - to be changed as model is evaluated\n",
    "    parameters = {'objective': ['binary:logistic'],\n",
    "                  'learning_rate': [0.1],\n",
    "                  'gamma': [1],\n",
    "                  'max_depth': [4],\n",
    "                  'min_child_weight': [3],\n",
    "                  'subsample': [0.8],\n",
    "                  'colsample_bytree': [0.8],\n",
    "                  'n_estimators': [100,],\n",
    "                  'scale_pos_weight': [1, 2, 3, 5, 6, 10, 12, 15], #this parameter is used for class imbalance\n",
    "                  'seed': [123]}\n",
    "\n",
    "    grid_search = GridSearchCV(estimator=xgb_model,\n",
    "                               param_grid=parameters,\n",
    "                               scoring='roc_auc',\n",
    "                               cv=5,\n",
    "                               verbose=2,\n",
    "                               n_jobs=-1)\n",
    "\n",
    "    grid_search.fit(features_dataframe, target_dataframe)\n",
    "\n",
    "    optimized_parameters = grid_search.best_params_\n",
    "    cv_auc = grid_search.best_score_\n",
    "    model = grid_search.best_estimator_\n",
    "    importance_scores = model.get_booster().get_score(importance_type='total_gain')\n",
    "\n",
    "    predicted_binary = model.predict(features_dataframe)\n",
    "    predicted_probs  = model.predict_proba(features_dataframe)\n",
    "\n",
    "    conf_matrix = metrics.confusion_matrix(target_dataframe, predicted_binary)\n",
    "\n",
    "    return {'parameters':optimized_parameters,\n",
    "            'cv_auc':cv_auc,\n",
    "            'model':grid_search.best_estimator_,\n",
    "            'feature_importance':importance_scores,\n",
    "            'confusion_matrix':conf_matrix}"
   ]
  },
  {
   "cell_type": "code",
   "execution_count": 312,
   "metadata": {},
   "outputs": [
    {
     "name": "stdout",
     "output_type": "stream",
     "text": [
      "Fitting 5 folds for each of 8 candidates, totalling 40 fits\n"
     ]
    },
    {
     "name": "stderr",
     "output_type": "stream",
     "text": [
      "[Parallel(n_jobs=-1)]: Using backend LokyBackend with 4 concurrent workers.\n",
      "[Parallel(n_jobs=-1)]: Done  33 tasks      | elapsed:   48.6s\n",
      "[Parallel(n_jobs=-1)]: Done  40 out of  40 | elapsed:   54.2s finished\n"
     ]
    },
    {
     "name": "stdout",
     "output_type": "stream",
     "text": [
      "Cross-Validation AUC score:  0.9697029622811293\n",
      "{'colsample_bytree': 0.8, 'gamma': 1, 'learning_rate': 0.1, 'max_depth': 4, 'min_child_weight': 3, 'n_estimators': 100, 'objective': 'binary:logistic', 'scale_pos_weight': 15, 'seed': 123, 'subsample': 0.8}\n"
     ]
    }
   ],
   "source": [
    "# using defined grid above, perform grid-search CV and return best params\n",
    "result = xgb_tuner(X, y)\n",
    "\n",
    "print('Cross-Validation AUC score: ', result['cv_auc'])\n",
    "\n",
    "# best parameters\n",
    "print(result['parameters'])"
   ]
  },
  {
   "cell_type": "code",
   "execution_count": 483,
   "metadata": {},
   "outputs": [],
   "source": [
    "# split the original data set into train and test sets\n",
    "X_train, X_test, y_train, y_test= train_test_split(X,y,test_size=0.25,random_state=0)"
   ]
  },
  {
   "cell_type": "code",
   "execution_count": 301,
   "metadata": {},
   "outputs": [
    {
     "name": "stdout",
     "output_type": "stream",
     "text": [
      "[(0, 30080), (1, 6016)]\n"
     ]
    }
   ],
   "source": [
    "#test over/under sampling to balance the classes\n",
    "# ros = RandomOverSampler(sampling_strategy=0.2,random_state=0)\n",
    "# X_train, y_train = ros.fit_resample(X_train, y_train)\n",
    "\n",
    "# rus = RandomUnderSampler(sampling_strategy=0.5,random_state=0)\n",
    "# X_train, y_train = rus.fit_resample(X_train, y_train)\n",
    "\n",
    "# from collections import Counter\n",
    "# print(sorted(Counter(y_train).items()))"
   ]
  },
  {
   "cell_type": "code",
   "execution_count": 484,
   "metadata": {
    "scrolled": true
   },
   "outputs": [
    {
     "name": "stdout",
     "output_type": "stream",
     "text": [
      "[0]\tvalidation_0-auc:0.95985\tvalidation_1-auc:0.95348\n",
      "Multiple eval metrics have been passed: 'validation_1-auc' will be used for early stopping.\n",
      "\n",
      "Will train until validation_1-auc hasn't improved in 20 rounds.\n",
      "[1]\tvalidation_0-auc:0.96079\tvalidation_1-auc:0.95297\n",
      "[2]\tvalidation_0-auc:0.96464\tvalidation_1-auc:0.95639\n",
      "[3]\tvalidation_0-auc:0.96398\tvalidation_1-auc:0.95574\n",
      "[4]\tvalidation_0-auc:0.96536\tvalidation_1-auc:0.95719\n",
      "[5]\tvalidation_0-auc:0.96547\tvalidation_1-auc:0.95725\n",
      "[6]\tvalidation_0-auc:0.96525\tvalidation_1-auc:0.95723\n",
      "[7]\tvalidation_0-auc:0.96550\tvalidation_1-auc:0.95720\n",
      "[8]\tvalidation_0-auc:0.96557\tvalidation_1-auc:0.95726\n",
      "[9]\tvalidation_0-auc:0.96570\tvalidation_1-auc:0.95742\n",
      "[10]\tvalidation_0-auc:0.96589\tvalidation_1-auc:0.95763\n",
      "[11]\tvalidation_0-auc:0.96596\tvalidation_1-auc:0.95764\n",
      "[12]\tvalidation_0-auc:0.96602\tvalidation_1-auc:0.95754\n",
      "[13]\tvalidation_0-auc:0.96652\tvalidation_1-auc:0.95819\n",
      "[14]\tvalidation_0-auc:0.96674\tvalidation_1-auc:0.95848\n",
      "[15]\tvalidation_0-auc:0.96820\tvalidation_1-auc:0.96114\n",
      "[16]\tvalidation_0-auc:0.96840\tvalidation_1-auc:0.96121\n",
      "[17]\tvalidation_0-auc:0.96856\tvalidation_1-auc:0.96133\n",
      "[18]\tvalidation_0-auc:0.96875\tvalidation_1-auc:0.96094\n",
      "[19]\tvalidation_0-auc:0.96896\tvalidation_1-auc:0.96105\n",
      "[20]\tvalidation_0-auc:0.96907\tvalidation_1-auc:0.96117\n",
      "[21]\tvalidation_0-auc:0.97056\tvalidation_1-auc:0.96032\n",
      "[22]\tvalidation_0-auc:0.97193\tvalidation_1-auc:0.96004\n",
      "[23]\tvalidation_0-auc:0.97214\tvalidation_1-auc:0.96010\n",
      "[24]\tvalidation_0-auc:0.97223\tvalidation_1-auc:0.96017\n",
      "[25]\tvalidation_0-auc:0.97246\tvalidation_1-auc:0.96013\n",
      "[26]\tvalidation_0-auc:0.97248\tvalidation_1-auc:0.96017\n",
      "[27]\tvalidation_0-auc:0.97271\tvalidation_1-auc:0.96004\n",
      "[28]\tvalidation_0-auc:0.97299\tvalidation_1-auc:0.96012\n",
      "[29]\tvalidation_0-auc:0.97303\tvalidation_1-auc:0.95994\n",
      "[30]\tvalidation_0-auc:0.97314\tvalidation_1-auc:0.96026\n",
      "[31]\tvalidation_0-auc:0.97359\tvalidation_1-auc:0.96068\n",
      "[32]\tvalidation_0-auc:0.97400\tvalidation_1-auc:0.96125\n",
      "[33]\tvalidation_0-auc:0.97416\tvalidation_1-auc:0.96146\n",
      "[34]\tvalidation_0-auc:0.97501\tvalidation_1-auc:0.96148\n",
      "[35]\tvalidation_0-auc:0.97506\tvalidation_1-auc:0.96155\n",
      "[36]\tvalidation_0-auc:0.97510\tvalidation_1-auc:0.96150\n",
      "[37]\tvalidation_0-auc:0.97520\tvalidation_1-auc:0.96164\n",
      "[38]\tvalidation_0-auc:0.97533\tvalidation_1-auc:0.96174\n",
      "[39]\tvalidation_0-auc:0.97555\tvalidation_1-auc:0.96164\n",
      "[40]\tvalidation_0-auc:0.97573\tvalidation_1-auc:0.96245\n",
      "[41]\tvalidation_0-auc:0.97587\tvalidation_1-auc:0.96226\n",
      "[42]\tvalidation_0-auc:0.97603\tvalidation_1-auc:0.96227\n",
      "[43]\tvalidation_0-auc:0.97612\tvalidation_1-auc:0.96325\n",
      "[44]\tvalidation_0-auc:0.97636\tvalidation_1-auc:0.96299\n",
      "[45]\tvalidation_0-auc:0.97655\tvalidation_1-auc:0.96296\n",
      "[46]\tvalidation_0-auc:0.97665\tvalidation_1-auc:0.96346\n",
      "[47]\tvalidation_0-auc:0.97682\tvalidation_1-auc:0.96316\n",
      "[48]\tvalidation_0-auc:0.97689\tvalidation_1-auc:0.96320\n",
      "[49]\tvalidation_0-auc:0.97699\tvalidation_1-auc:0.96304\n",
      "[50]\tvalidation_0-auc:0.97725\tvalidation_1-auc:0.96310\n",
      "[51]\tvalidation_0-auc:0.97735\tvalidation_1-auc:0.96332\n",
      "[52]\tvalidation_0-auc:0.97745\tvalidation_1-auc:0.96370\n"
     ]
    }
   ],
   "source": [
    "# using optimal hyperparameters from above grid search, run and evaluate a model\n",
    "xgb_classifier = xgb.XGBClassifier(objective='binary:logistic', \n",
    "                                   colsample_bytree = 0.8, \n",
    "                                   learning_rate = 0.1,\n",
    "                                   max_depth = 4, \n",
    "                                   alpha = 10, \n",
    "                                   gamma=1,\n",
    "                                   min_child_weight=3,\n",
    "                                   subsample=0.8,\n",
    "                                   n_estimators = 53, #determined optimal number from early stopping\n",
    "                                   scale_pos_weight=10)\n",
    "\n",
    "eval_set = [(X_train, y_train), (X_test, y_test)]\n",
    "\n",
    "\n",
    "xgb_classifier.fit(X_train,\n",
    "                   y_train, \n",
    "                   #verbose=True, \n",
    "                   eval_set=eval_set, \n",
    "                   early_stopping_rounds=20, \n",
    "                   eval_metric='auc')\n",
    "\n",
    "# make predictions with test data set\n",
    "\n",
    "preds_prob = xgb_classifier.predict_proba(X_test)[:,1]\n",
    "preds_binary = xgb_classifier.predict(X_test)"
   ]
  },
  {
   "cell_type": "code",
   "execution_count": 485,
   "metadata": {},
   "outputs": [
    {
     "data": {
      "text/plain": [
       "array([0.56495205, 0.55367232, 0.57688808, 0.56186047, 0.57142857])"
      ]
     },
     "execution_count": 485,
     "metadata": {},
     "output_type": "execute_result"
    }
   ],
   "source": [
    "# use cross validation to evaluate f1 metric\n",
    "scores = cross_val_score(xgb_classifier, X, y, scoring='f1', cv=5)\n",
    "scores"
   ]
  },
  {
   "cell_type": "markdown",
   "metadata": {},
   "source": [
    "We can test the impact on the f1 score based on changing the cutoff threshold for predictions."
   ]
  },
  {
   "cell_type": "code",
   "execution_count": 486,
   "metadata": {},
   "outputs": [
    {
     "name": "stdout",
     "output_type": "stream",
     "text": [
      "F1 Score for 0.0:  0.07413778274705426\n",
      "F1 Score for 0.1:  0.34942332336608284\n",
      "F1 Score for 0.2:  0.43394199785177234\n",
      "F1 Score for 0.3:  0.49035469819539507\n",
      "F1 Score for 0.4:  0.5338923829489867\n",
      "F1 Score for 0.5:  0.5709900230237913\n",
      "F1 Score for 0.6:  0.5994962216624685\n",
      "F1 Score for 0.7:  0.6472795497185743\n",
      "F1 Score for 0.8:  0.672322375397667\n",
      "F1 Score for 0.9:  0.6626506024096385\n"
     ]
    },
    {
     "data": {
      "text/html": [
       "[<matplotlib.lines.Line2D object at 0x7f475aefdca0>]"
      ],
      "text/plain": [
       "[<matplotlib.lines.Line2D at 0x7f475aefdca0>]"
      ]
     },
     "execution_count": 486,
     "metadata": {},
     "output_type": "execute_result"
    },
    {
     "data": {
      "image/png": "[encoded data removed]",
      "text/plain": [
       "<Figure size 432x288 with 1 Axes>"
      ]
     },
     "metadata": {
      "needs_background": "light"
     },
     "output_type": "display_data"
    }
   ],
   "source": [
    "# look at f1 curve based on different thresholds\n",
    "f1_list = []\n",
    "\n",
    "\n",
    "for i in range(10):\n",
    "    preds_prob_b = (preds_prob > i/10).astype(int)\n",
    "    print(f\"F1 Score for {i/10}: \", metrics.f1_score(y_test, preds_prob_b))\n",
    "    f1_list.append(metrics.f1_score(y_test, preds_prob_b))\n",
    "\n",
    "    \n",
    "plt.plot(f1_list)"
   ]
  },
  {
   "cell_type": "code",
   "execution_count": 487,
   "metadata": {
    "scrolled": false
   },
   "outputs": [
    {
     "data": {
      "image/png": "[encoded data removed]",
      "text/plain": [
       "<Figure size 864x432 with 1 Axes>"
      ]
     },
     "metadata": {
      "needs_background": "light"
     },
     "output_type": "display_data"
    }
   ],
   "source": [
    "# look at distribution of predictions, split by actual class\n",
    "hist =  pd.DataFrame(zip(y_test, preds_prob))\n",
    "hist.columns = ['actual', 'pred']\n",
    "\n",
    "plt.figure(figsize = (12,6))\n",
    "\n",
    "for i in hist['actual'].unique():\n",
    "    sns.distplot(hist['pred'][hist['actual'] == i], label=i)\n",
    "\n",
    "    plt.legend(loc='best')"
   ]
  },
  {
   "cell_type": "code",
   "execution_count": 488,
   "metadata": {},
   "outputs": [
    {
     "data": {
      "text/html": [
       "<div>\n",
       "<style scoped>\n",
       "    .dataframe tbody tr th:only-of-type {\n",
       "        vertical-align: middle;\n",
       "    }\n",
       "\n",
       "    .dataframe tbody tr th {\n",
       "        vertical-align: top;\n",
       "    }\n",
       "\n",
       "    .dataframe thead tr th {\n",
       "        text-align: left;\n",
       "    }\n",
       "\n",
       "    .dataframe thead tr:last-of-type th {\n",
       "        text-align: right;\n",
       "    }\n",
       "</style>\n",
       "<table border=\"1\" class=\"dataframe\">\n",
       "  <thead>\n",
       "    <tr>\n",
       "      <th></th>\n",
       "      <th colspan=\"8\" halign=\"left\">pred</th>\n",
       "    </tr>\n",
       "    <tr>\n",
       "      <th></th>\n",
       "      <th>count</th>\n",
       "      <th>mean</th>\n",
       "      <th>std</th>\n",
       "      <th>min</th>\n",
       "      <th>25%</th>\n",
       "      <th>50%</th>\n",
       "      <th>75%</th>\n",
       "      <th>max</th>\n",
       "    </tr>\n",
       "    <tr>\n",
       "      <th>actual</th>\n",
       "      <th></th>\n",
       "      <th></th>\n",
       "      <th></th>\n",
       "      <th></th>\n",
       "      <th></th>\n",
       "      <th></th>\n",
       "      <th></th>\n",
       "      <th></th>\n",
       "    </tr>\n",
       "  </thead>\n",
       "  <tbody>\n",
       "    <tr>\n",
       "      <th>0</th>\n",
       "      <td>10765.0</td>\n",
       "      <td>0.073293</td>\n",
       "      <td>0.168820</td>\n",
       "      <td>0.006648</td>\n",
       "      <td>0.010607</td>\n",
       "      <td>0.015728</td>\n",
       "      <td>0.030872</td>\n",
       "      <td>0.955871</td>\n",
       "    </tr>\n",
       "    <tr>\n",
       "      <th>1</th>\n",
       "      <td>431.0</td>\n",
       "      <td>0.798968</td>\n",
       "      <td>0.257472</td>\n",
       "      <td>0.007730</td>\n",
       "      <td>0.773866</td>\n",
       "      <td>0.932060</td>\n",
       "      <td>0.947890</td>\n",
       "      <td>0.956199</td>\n",
       "    </tr>\n",
       "  </tbody>\n",
       "</table>\n",
       "</div>"
      ],
      "text/plain": [
       "           pred                                                              \\\n",
       "          count      mean       std       min       25%       50%       75%   \n",
       "actual                                                                        \n",
       "0       10765.0  0.073293  0.168820  0.006648  0.010607  0.015728  0.030872   \n",
       "1         431.0  0.798968  0.257472  0.007730  0.773866  0.932060  0.947890   \n",
       "\n",
       "                  \n",
       "             max  \n",
       "actual            \n",
       "0       0.955871  \n",
       "1       0.956199  "
      ]
     },
     "execution_count": 488,
     "metadata": {},
     "output_type": "execute_result"
    }
   ],
   "source": [
    "hist.groupby('actual').describe()"
   ]
  },
  {
   "cell_type": "code",
   "execution_count": 489,
   "metadata": {},
   "outputs": [],
   "source": [
    "# using above information, set the threshold to 0.8\n",
    "preds_prob_b = (preds_prob > .8).astype(int)"
   ]
  },
  {
   "cell_type": "code",
   "execution_count": 490,
   "metadata": {},
   "outputs": [
    {
     "data": {
      "image/png": "[encoded data removed]",
      "text/plain": [
       "<Figure size 432x288 with 1 Axes>"
      ]
     },
     "metadata": {
      "needs_background": "light"
     },
     "output_type": "display_data"
    }
   ],
   "source": [
    "# look at roc auc curve\n",
    "fpr, tpr, _ = metrics.roc_curve(y_test,  preds_prob)\n",
    "auc = metrics.roc_auc_score(y_test, preds_prob)\n",
    "\n",
    "def roc_plot(fpr, tpr):\n",
    "\n",
    "    plt.plot(fpr,tpr,label=\"AUC=\"+str(auc.round(3)))\n",
    "    plt.plot([0, 1], [0, 1], color='grey', linestyle='--')\n",
    "    plt.xlabel('FPR')\n",
    "    plt.ylabel('TPR')\n",
    "    plt.title('ROC Curve')\n",
    "    plt.legend(loc='best')\n",
    "    plt.show()\n",
    "    \n",
    "roc_plot(fpr, tpr)"
   ]
  },
  {
   "cell_type": "code",
   "execution_count": 491,
   "metadata": {},
   "outputs": [
    {
     "data": {
      "text/plain": [
       "Text(0.5, 257.44, 'Predicted label')"
      ]
     },
     "execution_count": 491,
     "metadata": {},
     "output_type": "execute_result"
    },
    {
     "data": {
      "image/png": "[encoded data removed]",
      "text/plain": [
       "<Figure size 432x288 with 2 Axes>"
      ]
     },
     "metadata": {
      "needs_background": "light"
     },
     "output_type": "display_data"
    }
   ],
   "source": [
    "# show confusion matrix to understand the share of correct/incorrect predictions\n",
    "\n",
    "confusion_matrix = metrics.confusion_matrix(y_test, preds_prob_b)\n",
    "\n",
    "fig, ax = plt.subplots()\n",
    "tick_marks = np.arange(2)\n",
    "plt.xticks(tick_marks, [0,1])\n",
    "plt.yticks(tick_marks, [0,1])\n",
    "\n",
    "sns.heatmap(pd.DataFrame(confusion_matrix), annot=True, cmap=\"YlGnBu\" ,fmt='g')\n",
    "ax.xaxis.set_label_position(\"top\")\n",
    "plt.tight_layout()\n",
    "plt.ylabel('Actual label')\n",
    "plt.xlabel('Predicted label')"
   ]
  },
  {
   "cell_type": "code",
   "execution_count": 492,
   "metadata": {},
   "outputs": [
    {
     "name": "stdout",
     "output_type": "stream",
     "text": [
      "Accuracy:  0.972400857449089\n",
      "AUC:  0.9637033740218957\n",
      "F1 Score:  0.672322375397667\n",
      "Precision Score:  0.619140625\n",
      "Recall Score:  0.7354988399071926\n"
     ]
    }
   ],
   "source": [
    "# overall evaluation metrics for the model\n",
    "print(\"Accuracy: \",  metrics.accuracy_score(y_test, preds_prob_b))\n",
    "print(\"AUC: \", metrics.roc_auc_score(y_test, preds_prob))\n",
    "print(\"F1 Score: \", metrics.f1_score(y_test, preds_prob_b))\n",
    "print(\"Precision Score: \", metrics.precision_score(y_test, preds_prob_b))\n",
    "print(\"Recall Score: \", metrics.recall_score(y_test, preds_prob_b))"
   ]
  },
  {
   "cell_type": "code",
   "execution_count": 493,
   "metadata": {},
   "outputs": [
    {
     "name": "stderr",
     "output_type": "stream",
     "text": [
      "Setting feature_perturbation = \"tree_path_dependent\" because no background data was given.\n"
     ]
    },
    {
     "data": {
      "image/png": "[encoded data removed]",
      "text/plain": [
       "<Figure size 576x540 with 1 Axes>"
      ]
     },
     "metadata": {
      "needs_background": "light"
     },
     "output_type": "display_data"
    }
   ],
   "source": [
    "# look at feature importance using SHAP\n",
    "explainer = shap.TreeExplainer(xgb_classifier)\n",
    "shap_values = explainer.shap_values(X_train)\n",
    "shap.summary_plot(shap_values, X_train, plot_type=\"bar\")"
   ]
  },
  {
   "cell_type": "code",
   "execution_count": 494,
   "metadata": {},
   "outputs": [
    {
     "data": {
      "image/png": "[encoded data removed]",
      "text/plain": [
       "<Figure size 576x540 with 2 Axes>"
      ]
     },
     "metadata": {
      "needs_background": "light"
     },
     "output_type": "display_data"
    }
   ],
   "source": [
    "# look at feature impact on model\n",
    "shap.summary_plot(shap_values, X_train)"
   ]
  }
 ],
 "metadata": {
  "kernelspec": {
   "display_name": "ta-venv",
   "language": "python",
   "name": "ta-venv"
  },
  "language_info": {
   "codemirror_mode": {
    "name": "ipython",
    "version": 3
   },
   "file_extension": ".py",
   "mimetype": "text/x-python",
   "name": "python",
   "nbconvert_exporter": "python",
   "pygments_lexer": "ipython3",
   "version": "3.8.2"
  }
 },
 "nbformat": 4,
 "nbformat_minor": 4
}

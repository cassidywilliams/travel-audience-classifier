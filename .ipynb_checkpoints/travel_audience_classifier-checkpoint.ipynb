{
 "cells": [
  {
   "cell_type": "code",
   "execution_count": 96,
   "metadata": {},
   "outputs": [],
   "source": [
    "import numpy as np\n",
    "import matplotlib.pyplot as plt\n",
    "import pandas as pd\n",
    "import seaborn as sns\n",
    "import shap\n",
    "import xgboost as xgb\n",
    "from imblearn.over_sampling import RandomOverSampler\n",
    "from imblearn.under_sampling import RandomUnderSampler\n",
    "from math import radians, cos, sin, asin, sqrt, ceil\n",
    "from sklearn import metrics\n",
    "from sklearn.model_selection import GridSearchCV, train_test_split"
   ]
  },
  {
   "cell_type": "code",
   "execution_count": 2,
   "metadata": {},
   "outputs": [],
   "source": [
    "# load in data sets\n",
    "events = pd.read_csv('events_1_1.csv')\n",
    "iata = pd.read_csv('iata_1_1.csv')"
   ]
  },
  {
   "cell_type": "markdown",
   "metadata": {},
   "source": [
    "# Inspect and clean data"
   ]
  },
  {
   "cell_type": "code",
   "execution_count": 4,
   "metadata": {},
   "outputs": [
    {
     "data": {
      "text/html": [
       "<div>\n",
       "<style scoped>\n",
       "    .dataframe tbody tr th:only-of-type {\n",
       "        vertical-align: middle;\n",
       "    }\n",
       "\n",
       "    .dataframe tbody tr th {\n",
       "        vertical-align: top;\n",
       "    }\n",
       "\n",
       "    .dataframe thead th {\n",
       "        text-align: right;\n",
       "    }\n",
       "</style>\n",
       "<table border=\"1\" class=\"dataframe\">\n",
       "  <thead>\n",
       "    <tr style=\"text-align: right;\">\n",
       "      <th></th>\n",
       "      <th>ts</th>\n",
       "      <th>event_type</th>\n",
       "      <th>user_id</th>\n",
       "      <th>date_from</th>\n",
       "      <th>date_to</th>\n",
       "      <th>origin</th>\n",
       "      <th>destination</th>\n",
       "      <th>num_adults</th>\n",
       "      <th>num_children</th>\n",
       "    </tr>\n",
       "  </thead>\n",
       "  <tbody>\n",
       "    <tr>\n",
       "      <th>0</th>\n",
       "      <td>2017-04-27 11:06:51</td>\n",
       "      <td>search</td>\n",
       "      <td>60225f</td>\n",
       "      <td>2017-06-01</td>\n",
       "      <td>2017-06-07</td>\n",
       "      <td>PAR</td>\n",
       "      <td>NYC</td>\n",
       "      <td>6</td>\n",
       "      <td>1</td>\n",
       "    </tr>\n",
       "    <tr>\n",
       "      <th>1</th>\n",
       "      <td>2017-04-27 20:15:27</td>\n",
       "      <td>book</td>\n",
       "      <td>e5d69e</td>\n",
       "      <td>2017-08-12</td>\n",
       "      <td>2017-09-02</td>\n",
       "      <td>FRA</td>\n",
       "      <td>WAS</td>\n",
       "      <td>3</td>\n",
       "      <td>1</td>\n",
       "    </tr>\n",
       "    <tr>\n",
       "      <th>2</th>\n",
       "      <td>2017-04-27 23:03:43</td>\n",
       "      <td>book</td>\n",
       "      <td>f953f0</td>\n",
       "      <td>2017-10-08</td>\n",
       "      <td>2017-10-11</td>\n",
       "      <td>BER</td>\n",
       "      <td>CGN</td>\n",
       "      <td>2</td>\n",
       "      <td>0</td>\n",
       "    </tr>\n",
       "    <tr>\n",
       "      <th>3</th>\n",
       "      <td>2017-04-27 15:17:50</td>\n",
       "      <td>book</td>\n",
       "      <td>794d35</td>\n",
       "      <td>2017-04-28</td>\n",
       "      <td>2017-05-01</td>\n",
       "      <td>BER</td>\n",
       "      <td>BCN</td>\n",
       "      <td>1</td>\n",
       "      <td>0</td>\n",
       "    </tr>\n",
       "    <tr>\n",
       "      <th>4</th>\n",
       "      <td>2017-04-27 22:51:57</td>\n",
       "      <td>book</td>\n",
       "      <td>ca4f94</td>\n",
       "      <td>2017-05-16</td>\n",
       "      <td>2017-05-22</td>\n",
       "      <td>DEL</td>\n",
       "      <td>BKK</td>\n",
       "      <td>4</td>\n",
       "      <td>0</td>\n",
       "    </tr>\n",
       "  </tbody>\n",
       "</table>\n",
       "</div>"
      ],
      "text/plain": [
       "                    ts event_type user_id   date_from     date_to origin  \\\n",
       "0  2017-04-27 11:06:51     search  60225f  2017-06-01  2017-06-07    PAR   \n",
       "1  2017-04-27 20:15:27       book  e5d69e  2017-08-12  2017-09-02    FRA   \n",
       "2  2017-04-27 23:03:43       book  f953f0  2017-10-08  2017-10-11    BER   \n",
       "3  2017-04-27 15:17:50       book  794d35  2017-04-28  2017-05-01    BER   \n",
       "4  2017-04-27 22:51:57       book  ca4f94  2017-05-16  2017-05-22    DEL   \n",
       "\n",
       "  destination  num_adults  num_children  \n",
       "0         NYC           6             1  \n",
       "1         WAS           3             1  \n",
       "2         CGN           2             0  \n",
       "3         BCN           1             0  \n",
       "4         BKK           4             0  "
      ]
     },
     "execution_count": 4,
     "metadata": {},
     "output_type": "execute_result"
    }
   ],
   "source": [
    "events.head()"
   ]
  },
  {
   "cell_type": "code",
   "execution_count": 5,
   "metadata": {},
   "outputs": [
    {
     "data": {
      "text/plain": [
       "(47007, 9)"
      ]
     },
     "execution_count": 5,
     "metadata": {},
     "output_type": "execute_result"
    }
   ],
   "source": [
    "# expect the shape of the df\n",
    "events.shape"
   ]
  },
  {
   "cell_type": "code",
   "execution_count": 3,
   "metadata": {},
   "outputs": [
    {
     "data": {
      "text/plain": [
       "45898"
      ]
     },
     "execution_count": 3,
     "metadata": {},
     "output_type": "execute_result"
    }
   ],
   "source": [
    "# ensure we don't have duplicates\n",
    "len(events.drop_duplicates())"
   ]
  },
  {
   "cell_type": "code",
   "execution_count": 4,
   "metadata": {},
   "outputs": [],
   "source": [
    "# drop duplicates\n",
    "events = events.drop_duplicates()"
   ]
  },
  {
   "cell_type": "code",
   "execution_count": 5,
   "metadata": {},
   "outputs": [
    {
     "data": {
      "text/plain": [
       "ts               0\n",
       "event_type       0\n",
       "user_id          0\n",
       "date_from       22\n",
       "date_to          3\n",
       "origin           0\n",
       "destination      0\n",
       "num_adults       0\n",
       "num_children     0\n",
       "dtype: int64"
      ]
     },
     "execution_count": 5,
     "metadata": {},
     "output_type": "execute_result"
    }
   ],
   "source": [
    "# check for nulls\n",
    "events.isna().sum()"
   ]
  },
  {
   "cell_type": "code",
   "execution_count": 6,
   "metadata": {},
   "outputs": [],
   "source": [
    "# let's get rid of those few rows which are null\n",
    "events = events.dropna()"
   ]
  },
  {
   "cell_type": "code",
   "execution_count": 10,
   "metadata": {},
   "outputs": [
    {
     "data": {
      "text/plain": [
       "ts              object\n",
       "event_type      object\n",
       "user_id         object\n",
       "date_from       object\n",
       "date_to         object\n",
       "origin          object\n",
       "destination     object\n",
       "num_adults       int64\n",
       "num_children     int64\n",
       "dtype: object"
      ]
     },
     "execution_count": 10,
     "metadata": {},
     "output_type": "execute_result"
    }
   ],
   "source": [
    "# inspect data types\n",
    "events.dtypes"
   ]
  },
  {
   "cell_type": "code",
   "execution_count": 7,
   "metadata": {},
   "outputs": [],
   "source": [
    "# convert timestamps and dates to datetime objects\n",
    "events['ts'] = pd.to_datetime(events['ts'])\n",
    "events['date_from'] = pd.to_datetime(events['date_from'])\n",
    "events['date_to'] = pd.to_datetime(events['date_to'])"
   ]
  },
  {
   "cell_type": "code",
   "execution_count": 12,
   "metadata": {},
   "outputs": [
    {
     "data": {
      "text/plain": [
       "ts              datetime64[ns]\n",
       "event_type              object\n",
       "user_id                 object\n",
       "date_from       datetime64[ns]\n",
       "date_to         datetime64[ns]\n",
       "origin                  object\n",
       "destination             object\n",
       "num_adults               int64\n",
       "num_children             int64\n",
       "dtype: object"
      ]
     },
     "execution_count": 12,
     "metadata": {},
     "output_type": "execute_result"
    }
   ],
   "source": [
    "events.dtypes"
   ]
  },
  {
   "cell_type": "code",
   "execution_count": 13,
   "metadata": {},
   "outputs": [
    {
     "data": {
      "text/html": [
       "<div>\n",
       "<style scoped>\n",
       "    .dataframe tbody tr th:only-of-type {\n",
       "        vertical-align: middle;\n",
       "    }\n",
       "\n",
       "    .dataframe tbody tr th {\n",
       "        vertical-align: top;\n",
       "    }\n",
       "\n",
       "    .dataframe thead th {\n",
       "        text-align: right;\n",
       "    }\n",
       "</style>\n",
       "<table border=\"1\" class=\"dataframe\">\n",
       "  <thead>\n",
       "    <tr style=\"text-align: right;\">\n",
       "      <th></th>\n",
       "      <th>iata_code</th>\n",
       "      <th>lat</th>\n",
       "      <th>lon</th>\n",
       "    </tr>\n",
       "  </thead>\n",
       "  <tbody>\n",
       "    <tr>\n",
       "      <th>0</th>\n",
       "      <td>LON</td>\n",
       "      <td>51.50</td>\n",
       "      <td>-0.17</td>\n",
       "    </tr>\n",
       "    <tr>\n",
       "      <th>1</th>\n",
       "      <td>MOW</td>\n",
       "      <td>55.75</td>\n",
       "      <td>37.70</td>\n",
       "    </tr>\n",
       "    <tr>\n",
       "      <th>2</th>\n",
       "      <td>NYC</td>\n",
       "      <td>40.71</td>\n",
       "      <td>-74.01</td>\n",
       "    </tr>\n",
       "    <tr>\n",
       "      <th>3</th>\n",
       "      <td>PAR</td>\n",
       "      <td>48.85</td>\n",
       "      <td>2.35</td>\n",
       "    </tr>\n",
       "    <tr>\n",
       "      <th>4</th>\n",
       "      <td>IST</td>\n",
       "      <td>41.01</td>\n",
       "      <td>28.95</td>\n",
       "    </tr>\n",
       "  </tbody>\n",
       "</table>\n",
       "</div>"
      ],
      "text/plain": [
       "  iata_code    lat    lon\n",
       "0       LON  51.50  -0.17\n",
       "1       MOW  55.75  37.70\n",
       "2       NYC  40.71 -74.01\n",
       "3       PAR  48.85   2.35\n",
       "4       IST  41.01  28.95"
      ]
     },
     "execution_count": 13,
     "metadata": {},
     "output_type": "execute_result"
    }
   ],
   "source": [
    "iata.head()"
   ]
  },
  {
   "cell_type": "code",
   "execution_count": 14,
   "metadata": {},
   "outputs": [
    {
     "data": {
      "text/plain": [
       "500"
      ]
     },
     "execution_count": 14,
     "metadata": {},
     "output_type": "execute_result"
    }
   ],
   "source": [
    "# check length of df\n",
    "len(iata)"
   ]
  },
  {
   "cell_type": "code",
   "execution_count": 15,
   "metadata": {},
   "outputs": [
    {
     "data": {
      "text/plain": [
       "298"
      ]
     },
     "execution_count": 15,
     "metadata": {},
     "output_type": "execute_result"
    }
   ],
   "source": [
    "# ensure there are no duplicates\n",
    "iata['iata_code'].nunique()"
   ]
  },
  {
   "cell_type": "code",
   "execution_count": 15,
   "metadata": {},
   "outputs": [
    {
     "data": {
      "text/html": [
       "<div>\n",
       "<style scoped>\n",
       "    .dataframe tbody tr th:only-of-type {\n",
       "        vertical-align: middle;\n",
       "    }\n",
       "\n",
       "    .dataframe tbody tr th {\n",
       "        vertical-align: top;\n",
       "    }\n",
       "\n",
       "    .dataframe thead th {\n",
       "        text-align: right;\n",
       "    }\n",
       "</style>\n",
       "<table border=\"1\" class=\"dataframe\">\n",
       "  <thead>\n",
       "    <tr style=\"text-align: right;\">\n",
       "      <th></th>\n",
       "      <th>lat</th>\n",
       "      <th>lon</th>\n",
       "    </tr>\n",
       "  </thead>\n",
       "  <tbody>\n",
       "    <tr>\n",
       "      <th>count</th>\n",
       "      <td>202.000000</td>\n",
       "      <td>202.000000</td>\n",
       "    </tr>\n",
       "    <tr>\n",
       "      <th>mean</th>\n",
       "      <td>0.007327</td>\n",
       "      <td>0.014950</td>\n",
       "    </tr>\n",
       "    <tr>\n",
       "      <th>std</th>\n",
       "      <td>0.108810</td>\n",
       "      <td>0.125814</td>\n",
       "    </tr>\n",
       "    <tr>\n",
       "      <th>min</th>\n",
       "      <td>-0.390000</td>\n",
       "      <td>-0.400000</td>\n",
       "    </tr>\n",
       "    <tr>\n",
       "      <th>25%</th>\n",
       "      <td>-0.050000</td>\n",
       "      <td>-0.060000</td>\n",
       "    </tr>\n",
       "    <tr>\n",
       "      <th>50%</th>\n",
       "      <td>0.000000</td>\n",
       "      <td>0.015000</td>\n",
       "    </tr>\n",
       "    <tr>\n",
       "      <th>75%</th>\n",
       "      <td>0.067500</td>\n",
       "      <td>0.090000</td>\n",
       "    </tr>\n",
       "    <tr>\n",
       "      <th>max</th>\n",
       "      <td>0.460000</td>\n",
       "      <td>0.350000</td>\n",
       "    </tr>\n",
       "  </tbody>\n",
       "</table>\n",
       "</div>"
      ],
      "text/plain": [
       "              lat         lon\n",
       "count  202.000000  202.000000\n",
       "mean     0.007327    0.014950\n",
       "std      0.108810    0.125814\n",
       "min     -0.390000   -0.400000\n",
       "25%     -0.050000   -0.060000\n",
       "50%      0.000000    0.015000\n",
       "75%      0.067500    0.090000\n",
       "max      0.460000    0.350000"
      ]
     },
     "execution_count": 15,
     "metadata": {},
     "output_type": "execute_result"
    }
   ],
   "source": [
    "# let's see how wildly these are varying on average\n",
    "iata.groupby('iata_code').diff().dropna().describe()"
   ]
  },
  {
   "cell_type": "code",
   "execution_count": 16,
   "metadata": {
    "scrolled": false
   },
   "outputs": [
    {
     "data": {
      "text/plain": [
       "array([[<matplotlib.axes._subplots.AxesSubplot object at 0x7f3ddacf55e0>,\n",
       "        <matplotlib.axes._subplots.AxesSubplot object at 0x7f3ddaca2c40>]],\n",
       "      dtype=object)"
      ]
     },
     "execution_count": 16,
     "metadata": {},
     "output_type": "execute_result"
    },
    {
     "data": {
      "image/png": "[encoded data removed]",
      "text/plain": [
       "<Figure size 432x288 with 2 Axes>"
      ]
     },
     "metadata": {
      "needs_background": "light"
     },
     "output_type": "display_data"
    }
   ],
   "source": [
    "iata.groupby('iata_code').diff().dropna().hist()"
   ]
  },
  {
   "cell_type": "markdown",
   "metadata": {},
   "source": [
    "# TODO: update IATA cleaning logic"
   ]
  },
  {
   "cell_type": "code",
   "execution_count": 8,
   "metadata": {},
   "outputs": [],
   "source": [
    "# just taking means for now so i can move forward\n",
    "iata = iata.groupby('iata_code').mean().reset_index()"
   ]
  },
  {
   "cell_type": "code",
   "execution_count": 17,
   "metadata": {},
   "outputs": [
    {
     "data": {
      "text/html": [
       "<div>\n",
       "<style scoped>\n",
       "    .dataframe tbody tr th:only-of-type {\n",
       "        vertical-align: middle;\n",
       "    }\n",
       "\n",
       "    .dataframe tbody tr th {\n",
       "        vertical-align: top;\n",
       "    }\n",
       "\n",
       "    .dataframe thead th {\n",
       "        text-align: right;\n",
       "    }\n",
       "</style>\n",
       "<table border=\"1\" class=\"dataframe\">\n",
       "  <thead>\n",
       "    <tr style=\"text-align: right;\">\n",
       "      <th></th>\n",
       "      <th>lat</th>\n",
       "      <th>lon</th>\n",
       "    </tr>\n",
       "  </thead>\n",
       "  <tbody>\n",
       "  </tbody>\n",
       "</table>\n",
       "</div>"
      ],
      "text/plain": [
       "Empty DataFrame\n",
       "Columns: [lat, lon]\n",
       "Index: []"
      ]
     },
     "execution_count": 17,
     "metadata": {},
     "output_type": "execute_result"
    }
   ],
   "source": [
    "iata.groupby('iata_code').diff().dropna().sort_values(by=['lon'])"
   ]
  },
  {
   "cell_type": "code",
   "execution_count": 18,
   "metadata": {},
   "outputs": [
    {
     "data": {
      "text/html": [
       "<div>\n",
       "<style scoped>\n",
       "    .dataframe tbody tr th:only-of-type {\n",
       "        vertical-align: middle;\n",
       "    }\n",
       "\n",
       "    .dataframe tbody tr th {\n",
       "        vertical-align: top;\n",
       "    }\n",
       "\n",
       "    .dataframe thead th {\n",
       "        text-align: right;\n",
       "    }\n",
       "</style>\n",
       "<table border=\"1\" class=\"dataframe\">\n",
       "  <thead>\n",
       "    <tr style=\"text-align: right;\">\n",
       "      <th></th>\n",
       "      <th>iata_code</th>\n",
       "      <th>lat</th>\n",
       "      <th>lon</th>\n",
       "    </tr>\n",
       "  </thead>\n",
       "  <tbody>\n",
       "    <tr>\n",
       "      <th>148</th>\n",
       "      <td>LHW</td>\n",
       "      <td>36.29</td>\n",
       "      <td>103.73</td>\n",
       "    </tr>\n",
       "  </tbody>\n",
       "</table>\n",
       "</div>"
      ],
      "text/plain": [
       "    iata_code    lat     lon\n",
       "148       LHW  36.29  103.73"
      ]
     },
     "execution_count": 18,
     "metadata": {},
     "output_type": "execute_result"
    }
   ],
   "source": [
    "iata[iata['iata_code']=='LHW']"
   ]
  },
  {
   "cell_type": "code",
   "execution_count": 9,
   "metadata": {},
   "outputs": [],
   "source": [
    "# merge IATA code dataframe twice; once for origin, once for destination\n",
    "\n",
    "events = events.merge(iata, left_on='origin', right_on='iata_code')\n",
    "events = events.rename(columns = {'lat':'origin_lat', 'lon':'origin_lon'})\n",
    "events.drop(columns='iata_code', inplace=True)\n",
    "\n",
    "events = events.merge(iata, left_on='destination', right_on='iata_code')\n",
    "events = events.rename(columns = {'lat':'dest_lat', 'lon':'dest_lon'})\n",
    "events.drop(columns='iata_code', inplace=True)"
   ]
  },
  {
   "cell_type": "code",
   "execution_count": 10,
   "metadata": {},
   "outputs": [],
   "source": [
    "# sort values for easier interpretation\n",
    "events.sort_values(by=['user_id', 'ts'], inplace=True)"
   ]
  },
  {
   "cell_type": "code",
   "execution_count": 22,
   "metadata": {},
   "outputs": [
    {
     "data": {
      "text/html": [
       "<div>\n",
       "<style scoped>\n",
       "    .dataframe tbody tr th:only-of-type {\n",
       "        vertical-align: middle;\n",
       "    }\n",
       "\n",
       "    .dataframe tbody tr th {\n",
       "        vertical-align: top;\n",
       "    }\n",
       "\n",
       "    .dataframe thead th {\n",
       "        text-align: right;\n",
       "    }\n",
       "</style>\n",
       "<table border=\"1\" class=\"dataframe\">\n",
       "  <thead>\n",
       "    <tr style=\"text-align: right;\">\n",
       "      <th></th>\n",
       "      <th>ts</th>\n",
       "      <th>event_type</th>\n",
       "      <th>user_id</th>\n",
       "      <th>date_from</th>\n",
       "      <th>date_to</th>\n",
       "      <th>origin</th>\n",
       "      <th>destination</th>\n",
       "      <th>num_adults</th>\n",
       "      <th>num_children</th>\n",
       "      <th>origin_lat</th>\n",
       "      <th>origin_lon</th>\n",
       "      <th>dest_lat</th>\n",
       "      <th>dest_lon</th>\n",
       "    </tr>\n",
       "  </thead>\n",
       "  <tbody>\n",
       "    <tr>\n",
       "      <th>15155</th>\n",
       "      <td>2017-04-29 17:59:51</td>\n",
       "      <td>search</td>\n",
       "      <td>000069</td>\n",
       "      <td>2017-05-10</td>\n",
       "      <td>2017-05-26</td>\n",
       "      <td>FRA</td>\n",
       "      <td>ALG</td>\n",
       "      <td>2</td>\n",
       "      <td>3</td>\n",
       "      <td>50.08</td>\n",
       "      <td>8.620</td>\n",
       "      <td>36.725</td>\n",
       "      <td>3.125</td>\n",
       "    </tr>\n",
       "    <tr>\n",
       "      <th>35012</th>\n",
       "      <td>2017-04-28 19:14:23</td>\n",
       "      <td>search</td>\n",
       "      <td>00019d</td>\n",
       "      <td>2017-09-15</td>\n",
       "      <td>2017-10-13</td>\n",
       "      <td>PAR</td>\n",
       "      <td>SSA</td>\n",
       "      <td>4</td>\n",
       "      <td>0</td>\n",
       "      <td>48.85</td>\n",
       "      <td>2.350</td>\n",
       "      <td>-12.940</td>\n",
       "      <td>-38.420</td>\n",
       "    </tr>\n",
       "    <tr>\n",
       "      <th>1981</th>\n",
       "      <td>2017-04-24 21:25:10</td>\n",
       "      <td>search</td>\n",
       "      <td>0002e3</td>\n",
       "      <td>2017-05-01</td>\n",
       "      <td>2017-05-01</td>\n",
       "      <td>PAR</td>\n",
       "      <td>ATH</td>\n",
       "      <td>1</td>\n",
       "      <td>0</td>\n",
       "      <td>48.85</td>\n",
       "      <td>2.350</td>\n",
       "      <td>37.960</td>\n",
       "      <td>23.830</td>\n",
       "    </tr>\n",
       "    <tr>\n",
       "      <th>10897</th>\n",
       "      <td>2017-04-27 16:34:02</td>\n",
       "      <td>search</td>\n",
       "      <td>000332</td>\n",
       "      <td>2017-06-08</td>\n",
       "      <td>2017-07-07</td>\n",
       "      <td>NCE</td>\n",
       "      <td>TLV</td>\n",
       "      <td>1</td>\n",
       "      <td>0</td>\n",
       "      <td>43.68</td>\n",
       "      <td>7.245</td>\n",
       "      <td>32.045</td>\n",
       "      <td>34.835</td>\n",
       "    </tr>\n",
       "    <tr>\n",
       "      <th>10896</th>\n",
       "      <td>2017-04-27 16:35:35</td>\n",
       "      <td>search</td>\n",
       "      <td>000332</td>\n",
       "      <td>2017-06-08</td>\n",
       "      <td>2017-07-07</td>\n",
       "      <td>NCE</td>\n",
       "      <td>TLV</td>\n",
       "      <td>1</td>\n",
       "      <td>0</td>\n",
       "      <td>43.68</td>\n",
       "      <td>7.245</td>\n",
       "      <td>32.045</td>\n",
       "      <td>34.835</td>\n",
       "    </tr>\n",
       "  </tbody>\n",
       "</table>\n",
       "</div>"
      ],
      "text/plain": [
       "                       ts event_type user_id  date_from    date_to origin  \\\n",
       "15155 2017-04-29 17:59:51     search  000069 2017-05-10 2017-05-26    FRA   \n",
       "35012 2017-04-28 19:14:23     search  00019d 2017-09-15 2017-10-13    PAR   \n",
       "1981  2017-04-24 21:25:10     search  0002e3 2017-05-01 2017-05-01    PAR   \n",
       "10897 2017-04-27 16:34:02     search  000332 2017-06-08 2017-07-07    NCE   \n",
       "10896 2017-04-27 16:35:35     search  000332 2017-06-08 2017-07-07    NCE   \n",
       "\n",
       "      destination  num_adults  num_children  origin_lat  origin_lon  dest_lat  \\\n",
       "15155         ALG           2             3       50.08       8.620    36.725   \n",
       "35012         SSA           4             0       48.85       2.350   -12.940   \n",
       "1981          ATH           1             0       48.85       2.350    37.960   \n",
       "10897         TLV           1             0       43.68       7.245    32.045   \n",
       "10896         TLV           1             0       43.68       7.245    32.045   \n",
       "\n",
       "       dest_lon  \n",
       "15155     3.125  \n",
       "35012   -38.420  \n",
       "1981     23.830  \n",
       "10897    34.835  \n",
       "10896    34.835  "
      ]
     },
     "execution_count": 22,
     "metadata": {},
     "output_type": "execute_result"
    }
   ],
   "source": [
    "events.head()"
   ]
  },
  {
   "cell_type": "code",
   "execution_count": 29,
   "metadata": {},
   "outputs": [
    {
     "data": {
      "text/html": [
       "<div>\n",
       "<style scoped>\n",
       "    .dataframe tbody tr th:only-of-type {\n",
       "        vertical-align: middle;\n",
       "    }\n",
       "\n",
       "    .dataframe tbody tr th {\n",
       "        vertical-align: top;\n",
       "    }\n",
       "\n",
       "    .dataframe thead th {\n",
       "        text-align: right;\n",
       "    }\n",
       "</style>\n",
       "<table border=\"1\" class=\"dataframe\">\n",
       "  <thead>\n",
       "    <tr style=\"text-align: right;\">\n",
       "      <th></th>\n",
       "      <th>ts</th>\n",
       "      <th>event_type</th>\n",
       "      <th>user_id</th>\n",
       "      <th>date_from</th>\n",
       "      <th>date_to</th>\n",
       "      <th>origin</th>\n",
       "      <th>destination</th>\n",
       "      <th>num_adults</th>\n",
       "      <th>num_children</th>\n",
       "      <th>origin_lat</th>\n",
       "      <th>origin_lon</th>\n",
       "      <th>dest_lat</th>\n",
       "      <th>dest_lon</th>\n",
       "      <th>distance</th>\n",
       "      <th>target</th>\n",
       "    </tr>\n",
       "  </thead>\n",
       "  <tbody>\n",
       "    <tr>\n",
       "      <th>15155</th>\n",
       "      <td>2017-04-29 17:59:51</td>\n",
       "      <td>search</td>\n",
       "      <td>000069</td>\n",
       "      <td>2017-05-10</td>\n",
       "      <td>2017-05-26</td>\n",
       "      <td>FRA</td>\n",
       "      <td>ALG</td>\n",
       "      <td>2</td>\n",
       "      <td>3</td>\n",
       "      <td>50.08</td>\n",
       "      <td>8.620</td>\n",
       "      <td>36.725</td>\n",
       "      <td>3.125</td>\n",
       "      <td>1549</td>\n",
       "      <td>0</td>\n",
       "    </tr>\n",
       "    <tr>\n",
       "      <th>35012</th>\n",
       "      <td>2017-04-28 19:14:23</td>\n",
       "      <td>search</td>\n",
       "      <td>00019d</td>\n",
       "      <td>2017-09-15</td>\n",
       "      <td>2017-10-13</td>\n",
       "      <td>PAR</td>\n",
       "      <td>SSA</td>\n",
       "      <td>4</td>\n",
       "      <td>0</td>\n",
       "      <td>48.85</td>\n",
       "      <td>2.350</td>\n",
       "      <td>-12.940</td>\n",
       "      <td>-38.420</td>\n",
       "      <td>7952</td>\n",
       "      <td>0</td>\n",
       "    </tr>\n",
       "    <tr>\n",
       "      <th>1981</th>\n",
       "      <td>2017-04-24 21:25:10</td>\n",
       "      <td>search</td>\n",
       "      <td>0002e3</td>\n",
       "      <td>2017-05-01</td>\n",
       "      <td>2017-05-01</td>\n",
       "      <td>PAR</td>\n",
       "      <td>ATH</td>\n",
       "      <td>1</td>\n",
       "      <td>0</td>\n",
       "      <td>48.85</td>\n",
       "      <td>2.350</td>\n",
       "      <td>37.960</td>\n",
       "      <td>23.830</td>\n",
       "      <td>2104</td>\n",
       "      <td>0</td>\n",
       "    </tr>\n",
       "    <tr>\n",
       "      <th>10897</th>\n",
       "      <td>2017-04-27 16:34:02</td>\n",
       "      <td>search</td>\n",
       "      <td>000332</td>\n",
       "      <td>2017-06-08</td>\n",
       "      <td>2017-07-07</td>\n",
       "      <td>NCE</td>\n",
       "      <td>TLV</td>\n",
       "      <td>1</td>\n",
       "      <td>0</td>\n",
       "      <td>43.68</td>\n",
       "      <td>7.245</td>\n",
       "      <td>32.045</td>\n",
       "      <td>34.835</td>\n",
       "      <td>2728</td>\n",
       "      <td>0</td>\n",
       "    </tr>\n",
       "    <tr>\n",
       "      <th>10896</th>\n",
       "      <td>2017-04-27 16:35:35</td>\n",
       "      <td>search</td>\n",
       "      <td>000332</td>\n",
       "      <td>2017-06-08</td>\n",
       "      <td>2017-07-07</td>\n",
       "      <td>NCE</td>\n",
       "      <td>TLV</td>\n",
       "      <td>1</td>\n",
       "      <td>0</td>\n",
       "      <td>43.68</td>\n",
       "      <td>7.245</td>\n",
       "      <td>32.045</td>\n",
       "      <td>34.835</td>\n",
       "      <td>2728</td>\n",
       "      <td>0</td>\n",
       "    </tr>\n",
       "  </tbody>\n",
       "</table>\n",
       "</div>"
      ],
      "text/plain": [
       "                       ts event_type user_id  date_from    date_to origin  \\\n",
       "15155 2017-04-29 17:59:51     search  000069 2017-05-10 2017-05-26    FRA   \n",
       "35012 2017-04-28 19:14:23     search  00019d 2017-09-15 2017-10-13    PAR   \n",
       "1981  2017-04-24 21:25:10     search  0002e3 2017-05-01 2017-05-01    PAR   \n",
       "10897 2017-04-27 16:34:02     search  000332 2017-06-08 2017-07-07    NCE   \n",
       "10896 2017-04-27 16:35:35     search  000332 2017-06-08 2017-07-07    NCE   \n",
       "\n",
       "      destination  num_adults  num_children  origin_lat  origin_lon  dest_lat  \\\n",
       "15155         ALG           2             3       50.08       8.620    36.725   \n",
       "35012         SSA           4             0       48.85       2.350   -12.940   \n",
       "1981          ATH           1             0       48.85       2.350    37.960   \n",
       "10897         TLV           1             0       43.68       7.245    32.045   \n",
       "10896         TLV           1             0       43.68       7.245    32.045   \n",
       "\n",
       "       dest_lon  distance  target  \n",
       "15155     3.125      1549       0  \n",
       "35012   -38.420      7952       0  \n",
       "1981     23.830      2104       0  \n",
       "10897    34.835      2728       0  \n",
       "10896    34.835      2728       0  "
      ]
     },
     "execution_count": 29,
     "metadata": {},
     "output_type": "execute_result"
    }
   ],
   "source": [
    "events.head()"
   ]
  },
  {
   "cell_type": "code",
   "execution_count": 30,
   "metadata": {},
   "outputs": [
    {
     "data": {
      "text/plain": [
       "31165"
      ]
     },
     "execution_count": 30,
     "metadata": {},
     "output_type": "execute_result"
    }
   ],
   "source": [
    "events['user_id'].nunique()"
   ]
  },
  {
   "cell_type": "code",
   "execution_count": 31,
   "metadata": {},
   "outputs": [
    {
     "data": {
      "text/html": [
       "<div>\n",
       "<style scoped>\n",
       "    .dataframe tbody tr th:only-of-type {\n",
       "        vertical-align: middle;\n",
       "    }\n",
       "\n",
       "    .dataframe tbody tr th {\n",
       "        vertical-align: top;\n",
       "    }\n",
       "\n",
       "    .dataframe thead th {\n",
       "        text-align: right;\n",
       "    }\n",
       "</style>\n",
       "<table border=\"1\" class=\"dataframe\">\n",
       "  <thead>\n",
       "    <tr style=\"text-align: right;\">\n",
       "      <th></th>\n",
       "      <th>num_adults</th>\n",
       "      <th>num_children</th>\n",
       "      <th>origin_lat</th>\n",
       "      <th>origin_lon</th>\n",
       "      <th>dest_lat</th>\n",
       "      <th>dest_lon</th>\n",
       "      <th>distance</th>\n",
       "      <th>target</th>\n",
       "    </tr>\n",
       "  </thead>\n",
       "  <tbody>\n",
       "    <tr>\n",
       "      <th>count</th>\n",
       "      <td>45876.000000</td>\n",
       "      <td>45876.000000</td>\n",
       "      <td>45876.000000</td>\n",
       "      <td>45876.000000</td>\n",
       "      <td>45876.000000</td>\n",
       "      <td>45876.000000</td>\n",
       "      <td>45876.000000</td>\n",
       "      <td>45876.000000</td>\n",
       "    </tr>\n",
       "    <tr>\n",
       "      <th>mean</th>\n",
       "      <td>1.675931</td>\n",
       "      <td>0.146133</td>\n",
       "      <td>47.942455</td>\n",
       "      <td>8.343125</td>\n",
       "      <td>37.768583</td>\n",
       "      <td>9.900193</td>\n",
       "      <td>3235.466889</td>\n",
       "      <td>0.039389</td>\n",
       "    </tr>\n",
       "    <tr>\n",
       "      <th>std</th>\n",
       "      <td>0.987431</td>\n",
       "      <td>0.477010</td>\n",
       "      <td>8.590077</td>\n",
       "      <td>21.079646</td>\n",
       "      <td>17.651020</td>\n",
       "      <td>51.943529</td>\n",
       "      <td>3551.107756</td>\n",
       "      <td>0.194520</td>\n",
       "    </tr>\n",
       "    <tr>\n",
       "      <th>min</th>\n",
       "      <td>1.000000</td>\n",
       "      <td>0.000000</td>\n",
       "      <td>-43.510000</td>\n",
       "      <td>-157.925000</td>\n",
       "      <td>-43.510000</td>\n",
       "      <td>-157.925000</td>\n",
       "      <td>9.000000</td>\n",
       "      <td>0.000000</td>\n",
       "    </tr>\n",
       "    <tr>\n",
       "      <th>25%</th>\n",
       "      <td>1.000000</td>\n",
       "      <td>0.000000</td>\n",
       "      <td>48.245000</td>\n",
       "      <td>4.415000</td>\n",
       "      <td>36.695000</td>\n",
       "      <td>-3.285000</td>\n",
       "      <td>836.000000</td>\n",
       "      <td>0.000000</td>\n",
       "    </tr>\n",
       "    <tr>\n",
       "      <th>50%</th>\n",
       "      <td>1.000000</td>\n",
       "      <td>0.000000</td>\n",
       "      <td>48.850000</td>\n",
       "      <td>8.620000</td>\n",
       "      <td>41.010000</td>\n",
       "      <td>7.245000</td>\n",
       "      <td>1574.000000</td>\n",
       "      <td>0.000000</td>\n",
       "    </tr>\n",
       "    <tr>\n",
       "      <th>75%</th>\n",
       "      <td>2.000000</td>\n",
       "      <td>0.000000</td>\n",
       "      <td>51.250000</td>\n",
       "      <td>10.005000</td>\n",
       "      <td>48.850000</td>\n",
       "      <td>27.140000</td>\n",
       "      <td>5250.000000</td>\n",
       "      <td>0.000000</td>\n",
       "    </tr>\n",
       "    <tr>\n",
       "      <th>max</th>\n",
       "      <td>9.000000</td>\n",
       "      <td>5.000000</td>\n",
       "      <td>64.130000</td>\n",
       "      <td>177.430000</td>\n",
       "      <td>64.825000</td>\n",
       "      <td>177.430000</td>\n",
       "      <td>19433.000000</td>\n",
       "      <td>1.000000</td>\n",
       "    </tr>\n",
       "  </tbody>\n",
       "</table>\n",
       "</div>"
      ],
      "text/plain": [
       "         num_adults  num_children    origin_lat    origin_lon      dest_lat  \\\n",
       "count  45876.000000  45876.000000  45876.000000  45876.000000  45876.000000   \n",
       "mean       1.675931      0.146133     47.942455      8.343125     37.768583   \n",
       "std        0.987431      0.477010      8.590077     21.079646     17.651020   \n",
       "min        1.000000      0.000000    -43.510000   -157.925000    -43.510000   \n",
       "25%        1.000000      0.000000     48.245000      4.415000     36.695000   \n",
       "50%        1.000000      0.000000     48.850000      8.620000     41.010000   \n",
       "75%        2.000000      0.000000     51.250000     10.005000     48.850000   \n",
       "max        9.000000      5.000000     64.130000    177.430000     64.825000   \n",
       "\n",
       "           dest_lon      distance        target  \n",
       "count  45876.000000  45876.000000  45876.000000  \n",
       "mean       9.900193   3235.466889      0.039389  \n",
       "std       51.943529   3551.107756      0.194520  \n",
       "min     -157.925000      9.000000      0.000000  \n",
       "25%       -3.285000    836.000000      0.000000  \n",
       "50%        7.245000   1574.000000      0.000000  \n",
       "75%       27.140000   5250.000000      0.000000  \n",
       "max      177.430000  19433.000000      1.000000  "
      ]
     },
     "execution_count": 31,
     "metadata": {},
     "output_type": "execute_result"
    }
   ],
   "source": [
    "events.describe()"
   ]
  },
  {
   "cell_type": "code",
   "execution_count": 23,
   "metadata": {},
   "outputs": [
    {
     "data": {
      "text/plain": [
       "count    31165.000000\n",
       "mean         1.472036\n",
       "std          1.115935\n",
       "min          1.000000\n",
       "25%          1.000000\n",
       "50%          1.000000\n",
       "75%          2.000000\n",
       "max         24.000000\n",
       "Name: ts, dtype: float64"
      ]
     },
     "execution_count": 23,
     "metadata": {},
     "output_type": "execute_result"
    }
   ],
   "source": [
    "events.groupby('user_id')['ts'].count().describe()"
   ]
  },
  {
   "cell_type": "code",
   "execution_count": 24,
   "metadata": {
    "scrolled": false
   },
   "outputs": [
    {
     "data": {
      "text/html": [
       "<div>\n",
       "<style scoped>\n",
       "    .dataframe tbody tr th:only-of-type {\n",
       "        vertical-align: middle;\n",
       "    }\n",
       "\n",
       "    .dataframe tbody tr th {\n",
       "        vertical-align: top;\n",
       "    }\n",
       "\n",
       "    .dataframe thead th {\n",
       "        text-align: right;\n",
       "    }\n",
       "</style>\n",
       "<table border=\"1\" class=\"dataframe\">\n",
       "  <thead>\n",
       "    <tr style=\"text-align: right;\">\n",
       "      <th></th>\n",
       "      <th>ts</th>\n",
       "      <th>event_type</th>\n",
       "      <th>user_id</th>\n",
       "      <th>date_from</th>\n",
       "      <th>date_to</th>\n",
       "      <th>origin</th>\n",
       "      <th>destination</th>\n",
       "      <th>num_adults</th>\n",
       "      <th>num_children</th>\n",
       "      <th>origin_lat</th>\n",
       "      <th>origin_lon</th>\n",
       "      <th>dest_lat</th>\n",
       "      <th>dest_lon</th>\n",
       "      <th>target</th>\n",
       "    </tr>\n",
       "  </thead>\n",
       "  <tbody>\n",
       "    <tr>\n",
       "      <th>15155</th>\n",
       "      <td>2017-04-29 17:59:51</td>\n",
       "      <td>search</td>\n",
       "      <td>000069</td>\n",
       "      <td>2017-05-10</td>\n",
       "      <td>2017-05-26</td>\n",
       "      <td>FRA</td>\n",
       "      <td>ALG</td>\n",
       "      <td>2</td>\n",
       "      <td>3</td>\n",
       "      <td>50.08</td>\n",
       "      <td>8.620</td>\n",
       "      <td>36.725</td>\n",
       "      <td>3.125</td>\n",
       "      <td>0</td>\n",
       "    </tr>\n",
       "    <tr>\n",
       "      <th>35012</th>\n",
       "      <td>2017-04-28 19:14:23</td>\n",
       "      <td>search</td>\n",
       "      <td>00019d</td>\n",
       "      <td>2017-09-15</td>\n",
       "      <td>2017-10-13</td>\n",
       "      <td>PAR</td>\n",
       "      <td>SSA</td>\n",
       "      <td>4</td>\n",
       "      <td>0</td>\n",
       "      <td>48.85</td>\n",
       "      <td>2.350</td>\n",
       "      <td>-12.940</td>\n",
       "      <td>-38.420</td>\n",
       "      <td>0</td>\n",
       "    </tr>\n",
       "    <tr>\n",
       "      <th>1981</th>\n",
       "      <td>2017-04-24 21:25:10</td>\n",
       "      <td>search</td>\n",
       "      <td>0002e3</td>\n",
       "      <td>2017-05-01</td>\n",
       "      <td>2017-05-01</td>\n",
       "      <td>PAR</td>\n",
       "      <td>ATH</td>\n",
       "      <td>1</td>\n",
       "      <td>0</td>\n",
       "      <td>48.85</td>\n",
       "      <td>2.350</td>\n",
       "      <td>37.960</td>\n",
       "      <td>23.830</td>\n",
       "      <td>0</td>\n",
       "    </tr>\n",
       "    <tr>\n",
       "      <th>10897</th>\n",
       "      <td>2017-04-27 16:34:02</td>\n",
       "      <td>search</td>\n",
       "      <td>000332</td>\n",
       "      <td>2017-06-08</td>\n",
       "      <td>2017-07-07</td>\n",
       "      <td>NCE</td>\n",
       "      <td>TLV</td>\n",
       "      <td>1</td>\n",
       "      <td>0</td>\n",
       "      <td>43.68</td>\n",
       "      <td>7.245</td>\n",
       "      <td>32.045</td>\n",
       "      <td>34.835</td>\n",
       "      <td>0</td>\n",
       "    </tr>\n",
       "    <tr>\n",
       "      <th>10896</th>\n",
       "      <td>2017-04-27 16:35:35</td>\n",
       "      <td>search</td>\n",
       "      <td>000332</td>\n",
       "      <td>2017-06-08</td>\n",
       "      <td>2017-07-07</td>\n",
       "      <td>NCE</td>\n",
       "      <td>TLV</td>\n",
       "      <td>1</td>\n",
       "      <td>0</td>\n",
       "      <td>43.68</td>\n",
       "      <td>7.245</td>\n",
       "      <td>32.045</td>\n",
       "      <td>34.835</td>\n",
       "      <td>0</td>\n",
       "    </tr>\n",
       "  </tbody>\n",
       "</table>\n",
       "</div>"
      ],
      "text/plain": [
       "                       ts event_type user_id  date_from    date_to origin  \\\n",
       "15155 2017-04-29 17:59:51     search  000069 2017-05-10 2017-05-26    FRA   \n",
       "35012 2017-04-28 19:14:23     search  00019d 2017-09-15 2017-10-13    PAR   \n",
       "1981  2017-04-24 21:25:10     search  0002e3 2017-05-01 2017-05-01    PAR   \n",
       "10897 2017-04-27 16:34:02     search  000332 2017-06-08 2017-07-07    NCE   \n",
       "10896 2017-04-27 16:35:35     search  000332 2017-06-08 2017-07-07    NCE   \n",
       "\n",
       "      destination  num_adults  num_children  origin_lat  origin_lon  dest_lat  \\\n",
       "15155         ALG           2             3       50.08       8.620    36.725   \n",
       "35012         SSA           4             0       48.85       2.350   -12.940   \n",
       "1981          ATH           1             0       48.85       2.350    37.960   \n",
       "10897         TLV           1             0       43.68       7.245    32.045   \n",
       "10896         TLV           1             0       43.68       7.245    32.045   \n",
       "\n",
       "       dest_lon  target  \n",
       "15155     3.125       0  \n",
       "35012   -38.420       0  \n",
       "1981     23.830       0  \n",
       "10897    34.835       0  \n",
       "10896    34.835       0  "
      ]
     },
     "execution_count": 24,
     "metadata": {},
     "output_type": "execute_result"
    }
   ],
   "source": [
    "events.head()"
   ]
  },
  {
   "cell_type": "markdown",
   "metadata": {},
   "source": [
    "# Adding some features"
   ]
  },
  {
   "cell_type": "code",
   "execution_count": 11,
   "metadata": {},
   "outputs": [],
   "source": [
    "events['ts_dow'] = events['ts'].dt.dayofweek + 1\n",
    "events['ts_sin'] = np.sin(2 * np.pi * events['ts_dow']/7)\n",
    "events['ts_cos'] = np.cos(2 * np.pi * events['ts_dow']/7)"
   ]
  },
  {
   "cell_type": "code",
   "execution_count": 36,
   "metadata": {},
   "outputs": [],
   "source": [
    "events['from_dow'] = events['date_from'].dt.dayofweek + 1\n",
    "events['from_sin'] = np.sin(2 * np.pi * events['from_dow']/7)\n",
    "events['from_cos'] = np.cos(2 * np.pi * events['from_dow']/7)"
   ]
  },
  {
   "cell_type": "code",
   "execution_count": 35,
   "metadata": {},
   "outputs": [],
   "source": [
    "events['to_dow'] = events['date_to'].dt.dayofweek + 1\n",
    "events['to_sin'] = np.sin(2 * np.pi * events['to_dow']/7)\n",
    "events['to_cos'] = np.cos(2 * np.pi * events['to_dow']/7)"
   ]
  },
  {
   "cell_type": "code",
   "execution_count": null,
   "metadata": {},
   "outputs": [],
   "source": [
    "# let's see what event types are available\n",
    "events['event_type'].unique()"
   ]
  },
  {
   "cell_type": "code",
   "execution_count": 13,
   "metadata": {},
   "outputs": [],
   "source": [
    "# let's encode these. this will be our target variable\n",
    "events['target'] = events['event_type'].apply(lambda x: 1 if x =='book' else 0)"
   ]
  },
  {
   "cell_type": "code",
   "execution_count": 14,
   "metadata": {},
   "outputs": [
    {
     "data": {
      "text/plain": [
       "0.03938878716540239"
      ]
     },
     "execution_count": 14,
     "metadata": {},
     "output_type": "execute_result"
    }
   ],
   "source": [
    "# what is our balance of classes?\n",
    "\n",
    "events['target'].sum()/len(events)"
   ]
  },
  {
   "cell_type": "code",
   "execution_count": 15,
   "metadata": {},
   "outputs": [],
   "source": [
    "# haversine formula to calculate distance between origin and destination\n",
    "def haversine(lat1, lon1, lat2, lon2):\n",
    "    \"\"\"\n",
    "    Determines the great-circle distance between two points \n",
    "    on a sphere given their longitudes and latitudes.\n",
    "    \"\"\"\n",
    "    # convert decimal degrees to radians \n",
    "    lon1, lat1, lon2, lat2 = map(radians, [lon1, lat1, lon2, lat2])\n",
    "\n",
    "    # haversine formula \n",
    "    dlon = lon2 - lon1 \n",
    "    dlat = lat2 - lat1 \n",
    "    a = sin(dlat/2)**2 + cos(lat1) * cos(lat2) * sin(dlon/2)**2\n",
    "    c = 2 * asin(sqrt(a)) \n",
    "    r = 6371 # radius of earth in km\n",
    "    return round(c * r)"
   ]
  },
  {
   "cell_type": "code",
   "execution_count": 16,
   "metadata": {},
   "outputs": [],
   "source": [
    "# add haversine distance between origin and destination\n",
    "\n",
    "events['distance'] = events.apply(lambda row: haversine(row['origin_lat'],\n",
    "                                                        row['origin_lon'],\n",
    "                                                        row['dest_lat'],\n",
    "                                                        row['dest_lon']),\n",
    "                                  axis=1)"
   ]
  },
  {
   "cell_type": "code",
   "execution_count": 17,
   "metadata": {},
   "outputs": [],
   "source": [
    "# this represents the number of times that customer has visited\n",
    "events['num_visits'] = events.groupby(\"user_id\")[\"ts\"].rank(\"dense\")"
   ]
  },
  {
   "cell_type": "code",
   "execution_count": 18,
   "metadata": {},
   "outputs": [],
   "source": [
    "# number of days to arrival\n",
    "events['days_to_arrival'] = (events['date_from'] - events['ts']).apply(lambda l: int(l/pd.Timedelta('1 hour')/24))"
   ]
  },
  {
   "cell_type": "code",
   "execution_count": 19,
   "metadata": {},
   "outputs": [],
   "source": [
    "# length of customer stay/holiday\n",
    "events['length_of_stay'] = (events['date_to'] - events['date_from']).apply(lambda l: l.days)"
   ]
  },
  {
   "cell_type": "code",
   "execution_count": 30,
   "metadata": {},
   "outputs": [
    {
     "data": {
      "text/html": [
       "<div>\n",
       "<style scoped>\n",
       "    .dataframe tbody tr th:only-of-type {\n",
       "        vertical-align: middle;\n",
       "    }\n",
       "\n",
       "    .dataframe tbody tr th {\n",
       "        vertical-align: top;\n",
       "    }\n",
       "\n",
       "    .dataframe thead th {\n",
       "        text-align: right;\n",
       "    }\n",
       "</style>\n",
       "<table border=\"1\" class=\"dataframe\">\n",
       "  <thead>\n",
       "    <tr style=\"text-align: right;\">\n",
       "      <th></th>\n",
       "      <th>ts</th>\n",
       "      <th>event_type</th>\n",
       "      <th>user_id</th>\n",
       "      <th>date_from</th>\n",
       "      <th>date_to</th>\n",
       "      <th>origin</th>\n",
       "      <th>destination</th>\n",
       "      <th>num_adults</th>\n",
       "      <th>num_children</th>\n",
       "      <th>origin_lat</th>\n",
       "      <th>origin_lon</th>\n",
       "      <th>dest_lat</th>\n",
       "      <th>dest_lon</th>\n",
       "      <th>target</th>\n",
       "      <th>distance</th>\n",
       "      <th>num_visits</th>\n",
       "      <th>days_to_arrival</th>\n",
       "      <th>length_of_stay</th>\n",
       "    </tr>\n",
       "  </thead>\n",
       "  <tbody>\n",
       "    <tr>\n",
       "      <th>15155</th>\n",
       "      <td>2017-04-29 17:59:51</td>\n",
       "      <td>search</td>\n",
       "      <td>000069</td>\n",
       "      <td>2017-05-10</td>\n",
       "      <td>2017-05-26</td>\n",
       "      <td>FRA</td>\n",
       "      <td>ALG</td>\n",
       "      <td>2</td>\n",
       "      <td>3</td>\n",
       "      <td>50.08</td>\n",
       "      <td>8.620</td>\n",
       "      <td>36.725</td>\n",
       "      <td>3.125</td>\n",
       "      <td>0</td>\n",
       "      <td>1549</td>\n",
       "      <td>1.0</td>\n",
       "      <td>10</td>\n",
       "      <td>16</td>\n",
       "    </tr>\n",
       "    <tr>\n",
       "      <th>35012</th>\n",
       "      <td>2017-04-28 19:14:23</td>\n",
       "      <td>search</td>\n",
       "      <td>00019d</td>\n",
       "      <td>2017-09-15</td>\n",
       "      <td>2017-10-13</td>\n",
       "      <td>PAR</td>\n",
       "      <td>SSA</td>\n",
       "      <td>4</td>\n",
       "      <td>0</td>\n",
       "      <td>48.85</td>\n",
       "      <td>2.350</td>\n",
       "      <td>-12.940</td>\n",
       "      <td>-38.420</td>\n",
       "      <td>0</td>\n",
       "      <td>7952</td>\n",
       "      <td>1.0</td>\n",
       "      <td>139</td>\n",
       "      <td>28</td>\n",
       "    </tr>\n",
       "    <tr>\n",
       "      <th>1981</th>\n",
       "      <td>2017-04-24 21:25:10</td>\n",
       "      <td>search</td>\n",
       "      <td>0002e3</td>\n",
       "      <td>2017-05-01</td>\n",
       "      <td>2017-05-01</td>\n",
       "      <td>PAR</td>\n",
       "      <td>ATH</td>\n",
       "      <td>1</td>\n",
       "      <td>0</td>\n",
       "      <td>48.85</td>\n",
       "      <td>2.350</td>\n",
       "      <td>37.960</td>\n",
       "      <td>23.830</td>\n",
       "      <td>0</td>\n",
       "      <td>2104</td>\n",
       "      <td>1.0</td>\n",
       "      <td>6</td>\n",
       "      <td>0</td>\n",
       "    </tr>\n",
       "    <tr>\n",
       "      <th>10897</th>\n",
       "      <td>2017-04-27 16:34:02</td>\n",
       "      <td>search</td>\n",
       "      <td>000332</td>\n",
       "      <td>2017-06-08</td>\n",
       "      <td>2017-07-07</td>\n",
       "      <td>NCE</td>\n",
       "      <td>TLV</td>\n",
       "      <td>1</td>\n",
       "      <td>0</td>\n",
       "      <td>43.68</td>\n",
       "      <td>7.245</td>\n",
       "      <td>32.045</td>\n",
       "      <td>34.835</td>\n",
       "      <td>0</td>\n",
       "      <td>2728</td>\n",
       "      <td>1.0</td>\n",
       "      <td>41</td>\n",
       "      <td>29</td>\n",
       "    </tr>\n",
       "    <tr>\n",
       "      <th>10896</th>\n",
       "      <td>2017-04-27 16:35:35</td>\n",
       "      <td>search</td>\n",
       "      <td>000332</td>\n",
       "      <td>2017-06-08</td>\n",
       "      <td>2017-07-07</td>\n",
       "      <td>NCE</td>\n",
       "      <td>TLV</td>\n",
       "      <td>1</td>\n",
       "      <td>0</td>\n",
       "      <td>43.68</td>\n",
       "      <td>7.245</td>\n",
       "      <td>32.045</td>\n",
       "      <td>34.835</td>\n",
       "      <td>0</td>\n",
       "      <td>2728</td>\n",
       "      <td>2.0</td>\n",
       "      <td>41</td>\n",
       "      <td>29</td>\n",
       "    </tr>\n",
       "  </tbody>\n",
       "</table>\n",
       "</div>"
      ],
      "text/plain": [
       "                       ts event_type user_id  date_from    date_to origin  \\\n",
       "15155 2017-04-29 17:59:51     search  000069 2017-05-10 2017-05-26    FRA   \n",
       "35012 2017-04-28 19:14:23     search  00019d 2017-09-15 2017-10-13    PAR   \n",
       "1981  2017-04-24 21:25:10     search  0002e3 2017-05-01 2017-05-01    PAR   \n",
       "10897 2017-04-27 16:34:02     search  000332 2017-06-08 2017-07-07    NCE   \n",
       "10896 2017-04-27 16:35:35     search  000332 2017-06-08 2017-07-07    NCE   \n",
       "\n",
       "      destination  num_adults  num_children  origin_lat  origin_lon  dest_lat  \\\n",
       "15155         ALG           2             3       50.08       8.620    36.725   \n",
       "35012         SSA           4             0       48.85       2.350   -12.940   \n",
       "1981          ATH           1             0       48.85       2.350    37.960   \n",
       "10897         TLV           1             0       43.68       7.245    32.045   \n",
       "10896         TLV           1             0       43.68       7.245    32.045   \n",
       "\n",
       "       dest_lon  target  distance  num_visits  days_to_arrival  length_of_stay  \n",
       "15155     3.125       0      1549         1.0               10              16  \n",
       "35012   -38.420       0      7952         1.0              139              28  \n",
       "1981     23.830       0      2104         1.0                6               0  \n",
       "10897    34.835       0      2728         1.0               41              29  \n",
       "10896    34.835       0      2728         2.0               41              29  "
      ]
     },
     "execution_count": 30,
     "metadata": {},
     "output_type": "execute_result"
    }
   ],
   "source": [
    "events.head()"
   ]
  },
  {
   "cell_type": "code",
   "execution_count": 20,
   "metadata": {},
   "outputs": [],
   "source": [
    "# distance between events\n",
    "events['hours_since_last_event'] = (events.groupby('user_id')['ts'].diff().dt.total_seconds()/3600)"
   ]
  },
  {
   "cell_type": "code",
   "execution_count": 21,
   "metadata": {},
   "outputs": [],
   "source": [
    "# test if origin/destination changed\n",
    "events['last_origin'] = events.groupby('user_id')['origin'].shift()\n",
    "events['origin_changed_from_last_event'] = np.where((events['origin'] != events['last_origin']) & ( ~events['last_origin'].isna()), 1, 0)\n",
    "\n",
    "events['last_dest'] = events.groupby('user_id')['destination'].shift()\n",
    "events['dest_changed_from_last_event'] = np.where((events['destination'] != events['last_dest']) & ( ~events['last_dest'].isna()), 1, 0)\n"
   ]
  },
  {
   "cell_type": "code",
   "execution_count": 22,
   "metadata": {},
   "outputs": [],
   "source": [
    "# get diffs for num_adults and num_children\n",
    "events['num_adults_delta_from_last'] = events.groupby('user_id')['num_adults'].diff()\n",
    "events['num_children_delta_from_last'] = events.groupby('user_id')['num_children'].diff()"
   ]
  },
  {
   "cell_type": "code",
   "execution_count": 29,
   "metadata": {
    "scrolled": true
   },
   "outputs": [
    {
     "data": {
      "text/html": [
       "<div>\n",
       "<style scoped>\n",
       "    .dataframe tbody tr th:only-of-type {\n",
       "        vertical-align: middle;\n",
       "    }\n",
       "\n",
       "    .dataframe tbody tr th {\n",
       "        vertical-align: top;\n",
       "    }\n",
       "\n",
       "    .dataframe thead th {\n",
       "        text-align: right;\n",
       "    }\n",
       "</style>\n",
       "<table border=\"1\" class=\"dataframe\">\n",
       "  <thead>\n",
       "    <tr style=\"text-align: right;\">\n",
       "      <th></th>\n",
       "      <th>ts</th>\n",
       "      <th>event_type</th>\n",
       "      <th>user_id</th>\n",
       "      <th>date_from</th>\n",
       "      <th>date_to</th>\n",
       "      <th>origin</th>\n",
       "      <th>destination</th>\n",
       "      <th>num_adults</th>\n",
       "      <th>num_children</th>\n",
       "      <th>origin_lat</th>\n",
       "      <th>...</th>\n",
       "      <th>ts_cos</th>\n",
       "      <th>target</th>\n",
       "      <th>distance</th>\n",
       "      <th>num_visits</th>\n",
       "      <th>last_origin</th>\n",
       "      <th>origin_changed_from_last_event</th>\n",
       "      <th>last_dest</th>\n",
       "      <th>dest_changed_from_last_event</th>\n",
       "      <th>num_adults_delta_from_last</th>\n",
       "      <th>num_children_delta_from_last</th>\n",
       "    </tr>\n",
       "  </thead>\n",
       "  <tbody>\n",
       "    <tr>\n",
       "      <th>0</th>\n",
       "      <td>2017-04-27 11:06:51</td>\n",
       "      <td>search</td>\n",
       "      <td>60225f</td>\n",
       "      <td>2017-06-01</td>\n",
       "      <td>2017-06-07</td>\n",
       "      <td>PAR</td>\n",
       "      <td>NYC</td>\n",
       "      <td>6</td>\n",
       "      <td>1</td>\n",
       "      <td>48.85</td>\n",
       "      <td>...</td>\n",
       "      <td>-0.900969</td>\n",
       "      <td>0</td>\n",
       "      <td>5838</td>\n",
       "      <td>6.0</td>\n",
       "      <td>NaN</td>\n",
       "      <td>0</td>\n",
       "      <td>NaN</td>\n",
       "      <td>0</td>\n",
       "      <td>NaN</td>\n",
       "      <td>NaN</td>\n",
       "    </tr>\n",
       "    <tr>\n",
       "      <th>1</th>\n",
       "      <td>2017-04-29 21:24:06</td>\n",
       "      <td>search</td>\n",
       "      <td>b32ef3</td>\n",
       "      <td>2017-05-02</td>\n",
       "      <td>2017-05-08</td>\n",
       "      <td>PAR</td>\n",
       "      <td>NYC</td>\n",
       "      <td>1</td>\n",
       "      <td>0</td>\n",
       "      <td>48.85</td>\n",
       "      <td>...</td>\n",
       "      <td>0.623490</td>\n",
       "      <td>0</td>\n",
       "      <td>5838</td>\n",
       "      <td>1.0</td>\n",
       "      <td>NaN</td>\n",
       "      <td>0</td>\n",
       "      <td>NaN</td>\n",
       "      <td>0</td>\n",
       "      <td>NaN</td>\n",
       "      <td>NaN</td>\n",
       "    </tr>\n",
       "    <tr>\n",
       "      <th>2</th>\n",
       "      <td>2017-04-27 21:14:19</td>\n",
       "      <td>search</td>\n",
       "      <td>565d54</td>\n",
       "      <td>2017-06-01</td>\n",
       "      <td>2017-06-18</td>\n",
       "      <td>PAR</td>\n",
       "      <td>NYC</td>\n",
       "      <td>3</td>\n",
       "      <td>1</td>\n",
       "      <td>48.85</td>\n",
       "      <td>...</td>\n",
       "      <td>-0.900969</td>\n",
       "      <td>0</td>\n",
       "      <td>5838</td>\n",
       "      <td>1.0</td>\n",
       "      <td>NaN</td>\n",
       "      <td>0</td>\n",
       "      <td>NaN</td>\n",
       "      <td>0</td>\n",
       "      <td>NaN</td>\n",
       "      <td>NaN</td>\n",
       "    </tr>\n",
       "    <tr>\n",
       "      <th>3</th>\n",
       "      <td>2017-04-21 11:50:02</td>\n",
       "      <td>search</td>\n",
       "      <td>6d7b79</td>\n",
       "      <td>2017-08-23</td>\n",
       "      <td>2017-09-13</td>\n",
       "      <td>PAR</td>\n",
       "      <td>NYC</td>\n",
       "      <td>2</td>\n",
       "      <td>2</td>\n",
       "      <td>48.85</td>\n",
       "      <td>...</td>\n",
       "      <td>-0.222521</td>\n",
       "      <td>0</td>\n",
       "      <td>5838</td>\n",
       "      <td>2.0</td>\n",
       "      <td>NaN</td>\n",
       "      <td>0</td>\n",
       "      <td>NaN</td>\n",
       "      <td>0</td>\n",
       "      <td>NaN</td>\n",
       "      <td>NaN</td>\n",
       "    </tr>\n",
       "    <tr>\n",
       "      <th>4</th>\n",
       "      <td>2017-04-21 18:05:01</td>\n",
       "      <td>search</td>\n",
       "      <td>60225f</td>\n",
       "      <td>2017-06-01</td>\n",
       "      <td>2017-06-07</td>\n",
       "      <td>PAR</td>\n",
       "      <td>NYC</td>\n",
       "      <td>6</td>\n",
       "      <td>1</td>\n",
       "      <td>48.85</td>\n",
       "      <td>...</td>\n",
       "      <td>-0.222521</td>\n",
       "      <td>0</td>\n",
       "      <td>5838</td>\n",
       "      <td>1.0</td>\n",
       "      <td>PAR</td>\n",
       "      <td>0</td>\n",
       "      <td>NYC</td>\n",
       "      <td>0</td>\n",
       "      <td>0.0</td>\n",
       "      <td>0.0</td>\n",
       "    </tr>\n",
       "  </tbody>\n",
       "</table>\n",
       "<p>5 rows × 25 columns</p>\n",
       "</div>"
      ],
      "text/plain": [
       "                   ts event_type user_id  date_from    date_to origin  \\\n",
       "0 2017-04-27 11:06:51     search  60225f 2017-06-01 2017-06-07    PAR   \n",
       "1 2017-04-29 21:24:06     search  b32ef3 2017-05-02 2017-05-08    PAR   \n",
       "2 2017-04-27 21:14:19     search  565d54 2017-06-01 2017-06-18    PAR   \n",
       "3 2017-04-21 11:50:02     search  6d7b79 2017-08-23 2017-09-13    PAR   \n",
       "4 2017-04-21 18:05:01     search  60225f 2017-06-01 2017-06-07    PAR   \n",
       "\n",
       "  destination  num_adults  num_children  origin_lat  ...    ts_cos  target  \\\n",
       "0         NYC           6             1       48.85  ... -0.900969       0   \n",
       "1         NYC           1             0       48.85  ...  0.623490       0   \n",
       "2         NYC           3             1       48.85  ... -0.900969       0   \n",
       "3         NYC           2             2       48.85  ... -0.222521       0   \n",
       "4         NYC           6             1       48.85  ... -0.222521       0   \n",
       "\n",
       "   distance  num_visits  last_origin  origin_changed_from_last_event  \\\n",
       "0      5838         6.0          NaN                               0   \n",
       "1      5838         1.0          NaN                               0   \n",
       "2      5838         1.0          NaN                               0   \n",
       "3      5838         2.0          NaN                               0   \n",
       "4      5838         1.0          PAR                               0   \n",
       "\n",
       "   last_dest  dest_changed_from_last_event  num_adults_delta_from_last  \\\n",
       "0        NaN                             0                         NaN   \n",
       "1        NaN                             0                         NaN   \n",
       "2        NaN                             0                         NaN   \n",
       "3        NaN                             0                         NaN   \n",
       "4        NYC                             0                         0.0   \n",
       "\n",
       "  num_children_delta_from_last  \n",
       "0                          NaN  \n",
       "1                          NaN  \n",
       "2                          NaN  \n",
       "3                          NaN  \n",
       "4                          0.0  \n",
       "\n",
       "[5 rows x 25 columns]"
      ]
     },
     "execution_count": 29,
     "metadata": {},
     "output_type": "execute_result"
    }
   ],
   "source": [
    "events.head()"
   ]
  },
  {
   "cell_type": "code",
   "execution_count": 23,
   "metadata": {},
   "outputs": [],
   "source": [
    "events.drop(columns=['event_type', 'origin_lat', 'origin_lon', 'dest_lat', 'dest_lon', 'last_origin', 'last_dest'], inplace=True)"
   ]
  },
  {
   "cell_type": "code",
   "execution_count": 37,
   "metadata": {},
   "outputs": [
    {
     "data": {
      "text/html": [
       "<div>\n",
       "<style scoped>\n",
       "    .dataframe tbody tr th:only-of-type {\n",
       "        vertical-align: middle;\n",
       "    }\n",
       "\n",
       "    .dataframe tbody tr th {\n",
       "        vertical-align: top;\n",
       "    }\n",
       "\n",
       "    .dataframe thead th {\n",
       "        text-align: right;\n",
       "    }\n",
       "</style>\n",
       "<table border=\"1\" class=\"dataframe\">\n",
       "  <thead>\n",
       "    <tr style=\"text-align: right;\">\n",
       "      <th></th>\n",
       "      <th>num_adults</th>\n",
       "      <th>num_children</th>\n",
       "      <th>origin_lat</th>\n",
       "      <th>origin_lon</th>\n",
       "      <th>dest_lat</th>\n",
       "      <th>dest_lon</th>\n",
       "      <th>target</th>\n",
       "      <th>distance</th>\n",
       "      <th>num_visits</th>\n",
       "      <th>days_to_arrival</th>\n",
       "      <th>length_of_stay</th>\n",
       "      <th>hours_since_last_event</th>\n",
       "      <th>origin_changed_from_last_event</th>\n",
       "      <th>dest_changed_from_last_event</th>\n",
       "      <th>num_adults_delta_from_last</th>\n",
       "      <th>num_children_delta_from_last</th>\n",
       "    </tr>\n",
       "  </thead>\n",
       "  <tbody>\n",
       "    <tr>\n",
       "      <th>count</th>\n",
       "      <td>45872.000000</td>\n",
       "      <td>45872.000000</td>\n",
       "      <td>45872.000000</td>\n",
       "      <td>45872.000000</td>\n",
       "      <td>45872.000000</td>\n",
       "      <td>45872.00000</td>\n",
       "      <td>45872.000000</td>\n",
       "      <td>45872.000000</td>\n",
       "      <td>45872.000000</td>\n",
       "      <td>45872.000000</td>\n",
       "      <td>45872.000000</td>\n",
       "      <td>14711.000000</td>\n",
       "      <td>45872.000000</td>\n",
       "      <td>45872.000000</td>\n",
       "      <td>14711.000000</td>\n",
       "      <td>14711.000000</td>\n",
       "    </tr>\n",
       "    <tr>\n",
       "      <th>mean</th>\n",
       "      <td>1.675990</td>\n",
       "      <td>0.146146</td>\n",
       "      <td>47.943153</td>\n",
       "      <td>8.348806</td>\n",
       "      <td>37.769555</td>\n",
       "      <td>9.90100</td>\n",
       "      <td>0.039392</td>\n",
       "      <td>3235.402860</td>\n",
       "      <td>1.638080</td>\n",
       "      <td>76.648784</td>\n",
       "      <td>9.307551</td>\n",
       "      <td>7.434882</td>\n",
       "      <td>0.036907</td>\n",
       "      <td>0.039196</td>\n",
       "      <td>0.008565</td>\n",
       "      <td>-0.000204</td>\n",
       "    </tr>\n",
       "    <tr>\n",
       "      <th>std</th>\n",
       "      <td>0.987454</td>\n",
       "      <td>0.477029</td>\n",
       "      <td>8.589483</td>\n",
       "      <td>21.062718</td>\n",
       "      <td>17.650928</td>\n",
       "      <td>51.94153</td>\n",
       "      <td>0.194528</td>\n",
       "      <td>3551.063541</td>\n",
       "      <td>1.269795</td>\n",
       "      <td>74.849010</td>\n",
       "      <td>15.094685</td>\n",
       "      <td>26.714603</td>\n",
       "      <td>0.188536</td>\n",
       "      <td>0.194063</td>\n",
       "      <td>0.497780</td>\n",
       "      <td>0.199762</td>\n",
       "    </tr>\n",
       "    <tr>\n",
       "      <th>min</th>\n",
       "      <td>1.000000</td>\n",
       "      <td>0.000000</td>\n",
       "      <td>-43.510000</td>\n",
       "      <td>-157.925000</td>\n",
       "      <td>-43.510000</td>\n",
       "      <td>-157.92500</td>\n",
       "      <td>0.000000</td>\n",
       "      <td>9.000000</td>\n",
       "      <td>1.000000</td>\n",
       "      <td>0.000000</td>\n",
       "      <td>0.000000</td>\n",
       "      <td>0.000000</td>\n",
       "      <td>0.000000</td>\n",
       "      <td>0.000000</td>\n",
       "      <td>-8.000000</td>\n",
       "      <td>-5.000000</td>\n",
       "    </tr>\n",
       "    <tr>\n",
       "      <th>25%</th>\n",
       "      <td>1.000000</td>\n",
       "      <td>0.000000</td>\n",
       "      <td>48.245000</td>\n",
       "      <td>4.415000</td>\n",
       "      <td>36.695000</td>\n",
       "      <td>-3.28500</td>\n",
       "      <td>0.000000</td>\n",
       "      <td>836.000000</td>\n",
       "      <td>1.000000</td>\n",
       "      <td>17.000000</td>\n",
       "      <td>2.000000</td>\n",
       "      <td>0.023333</td>\n",
       "      <td>0.000000</td>\n",
       "      <td>0.000000</td>\n",
       "      <td>0.000000</td>\n",
       "      <td>0.000000</td>\n",
       "    </tr>\n",
       "    <tr>\n",
       "      <th>50%</th>\n",
       "      <td>1.000000</td>\n",
       "      <td>0.000000</td>\n",
       "      <td>48.850000</td>\n",
       "      <td>8.620000</td>\n",
       "      <td>41.010000</td>\n",
       "      <td>7.24500</td>\n",
       "      <td>0.000000</td>\n",
       "      <td>1574.000000</td>\n",
       "      <td>1.000000</td>\n",
       "      <td>51.000000</td>\n",
       "      <td>5.000000</td>\n",
       "      <td>0.100000</td>\n",
       "      <td>0.000000</td>\n",
       "      <td>0.000000</td>\n",
       "      <td>0.000000</td>\n",
       "      <td>0.000000</td>\n",
       "    </tr>\n",
       "    <tr>\n",
       "      <th>75%</th>\n",
       "      <td>2.000000</td>\n",
       "      <td>0.000000</td>\n",
       "      <td>51.250000</td>\n",
       "      <td>10.005000</td>\n",
       "      <td>48.850000</td>\n",
       "      <td>27.14000</td>\n",
       "      <td>0.000000</td>\n",
       "      <td>5250.000000</td>\n",
       "      <td>2.000000</td>\n",
       "      <td>125.000000</td>\n",
       "      <td>12.000000</td>\n",
       "      <td>0.460139</td>\n",
       "      <td>0.000000</td>\n",
       "      <td>0.000000</td>\n",
       "      <td>0.000000</td>\n",
       "      <td>0.000000</td>\n",
       "    </tr>\n",
       "    <tr>\n",
       "      <th>max</th>\n",
       "      <td>9.000000</td>\n",
       "      <td>5.000000</td>\n",
       "      <td>64.130000</td>\n",
       "      <td>177.430000</td>\n",
       "      <td>64.825000</td>\n",
       "      <td>177.43000</td>\n",
       "      <td>1.000000</td>\n",
       "      <td>19433.000000</td>\n",
       "      <td>23.000000</td>\n",
       "      <td>362.000000</td>\n",
       "      <td>331.000000</td>\n",
       "      <td>295.940278</td>\n",
       "      <td>1.000000</td>\n",
       "      <td>1.000000</td>\n",
       "      <td>7.000000</td>\n",
       "      <td>4.000000</td>\n",
       "    </tr>\n",
       "  </tbody>\n",
       "</table>\n",
       "</div>"
      ],
      "text/plain": [
       "         num_adults  num_children    origin_lat    origin_lon      dest_lat  \\\n",
       "count  45872.000000  45872.000000  45872.000000  45872.000000  45872.000000   \n",
       "mean       1.675990      0.146146     47.943153      8.348806     37.769555   \n",
       "std        0.987454      0.477029      8.589483     21.062718     17.650928   \n",
       "min        1.000000      0.000000    -43.510000   -157.925000    -43.510000   \n",
       "25%        1.000000      0.000000     48.245000      4.415000     36.695000   \n",
       "50%        1.000000      0.000000     48.850000      8.620000     41.010000   \n",
       "75%        2.000000      0.000000     51.250000     10.005000     48.850000   \n",
       "max        9.000000      5.000000     64.130000    177.430000     64.825000   \n",
       "\n",
       "          dest_lon        target      distance    num_visits  days_to_arrival  \\\n",
       "count  45872.00000  45872.000000  45872.000000  45872.000000     45872.000000   \n",
       "mean       9.90100      0.039392   3235.402860      1.638080        76.648784   \n",
       "std       51.94153      0.194528   3551.063541      1.269795        74.849010   \n",
       "min     -157.92500      0.000000      9.000000      1.000000         0.000000   \n",
       "25%       -3.28500      0.000000    836.000000      1.000000        17.000000   \n",
       "50%        7.24500      0.000000   1574.000000      1.000000        51.000000   \n",
       "75%       27.14000      0.000000   5250.000000      2.000000       125.000000   \n",
       "max      177.43000      1.000000  19433.000000     23.000000       362.000000   \n",
       "\n",
       "       length_of_stay  hours_since_last_event  origin_changed_from_last_event  \\\n",
       "count    45872.000000            14711.000000                    45872.000000   \n",
       "mean         9.307551                7.434882                        0.036907   \n",
       "std         15.094685               26.714603                        0.188536   \n",
       "min          0.000000                0.000000                        0.000000   \n",
       "25%          2.000000                0.023333                        0.000000   \n",
       "50%          5.000000                0.100000                        0.000000   \n",
       "75%         12.000000                0.460139                        0.000000   \n",
       "max        331.000000              295.940278                        1.000000   \n",
       "\n",
       "       dest_changed_from_last_event  num_adults_delta_from_last  \\\n",
       "count                  45872.000000                14711.000000   \n",
       "mean                       0.039196                    0.008565   \n",
       "std                        0.194063                    0.497780   \n",
       "min                        0.000000                   -8.000000   \n",
       "25%                        0.000000                    0.000000   \n",
       "50%                        0.000000                    0.000000   \n",
       "75%                        0.000000                    0.000000   \n",
       "max                        1.000000                    7.000000   \n",
       "\n",
       "       num_children_delta_from_last  \n",
       "count                  14711.000000  \n",
       "mean                      -0.000204  \n",
       "std                        0.199762  \n",
       "min                       -5.000000  \n",
       "25%                        0.000000  \n",
       "50%                        0.000000  \n",
       "75%                        0.000000  \n",
       "max                        4.000000  "
      ]
     },
     "execution_count": 37,
     "metadata": {},
     "output_type": "execute_result"
    }
   ],
   "source": [
    "events.describe()"
   ]
  },
  {
   "cell_type": "code",
   "execution_count": 24,
   "metadata": {},
   "outputs": [],
   "source": [
    "# remove any rows where days_to_arrival is negative\n",
    "events = events[events['days_to_arrival'] >= 0]"
   ]
  },
  {
   "cell_type": "code",
   "execution_count": 92,
   "metadata": {},
   "outputs": [
    {
     "data": {
      "text/plain": [
       "0.9000     21.0000\n",
       "0.9500     29.0000\n",
       "0.9900     67.0000\n",
       "0.9990    182.0000\n",
       "0.9999    273.8258\n",
       "Name: length_of_stay, dtype: float64"
      ]
     },
     "execution_count": 92,
     "metadata": {},
     "output_type": "execute_result"
    }
   ],
   "source": [
    "# let's look at the percentiles of lenght_of_stay in more detail\n",
    "events['length_of_stay'].quantile([0.9, 0.95, 0.99, 0.999, 0.9999])"
   ]
  },
  {
   "cell_type": "code",
   "execution_count": 38,
   "metadata": {},
   "outputs": [
    {
     "data": {
      "text/plain": [
       "444"
      ]
     },
     "execution_count": 38,
     "metadata": {},
     "output_type": "execute_result"
    }
   ],
   "source": [
    "len(events[events['length_of_stay'] >= 70])"
   ]
  },
  {
   "cell_type": "code",
   "execution_count": 97,
   "metadata": {},
   "outputs": [
    {
     "data": {
      "text/plain": [
       "14"
      ]
     },
     "execution_count": 97,
     "metadata": {},
     "output_type": "execute_result"
    }
   ],
   "source": [
    "events[events['length_of_stay'] >= 70]['target'].sum()"
   ]
  },
  {
   "cell_type": "code",
   "execution_count": 25,
   "metadata": {},
   "outputs": [],
   "source": [
    "# remove these outliers\n",
    "events = events[events['length_of_stay'] <= 70]"
   ]
  },
  {
   "cell_type": "code",
   "execution_count": 43,
   "metadata": {},
   "outputs": [
    {
     "data": {
      "text/plain": [
       "array([[<matplotlib.axes._subplots.AxesSubplot object at 0x7fbda68b9070>,\n",
       "        <matplotlib.axes._subplots.AxesSubplot object at 0x7fbda3c34c70>,\n",
       "        <matplotlib.axes._subplots.AxesSubplot object at 0x7fbda6179130>],\n",
       "       [<matplotlib.axes._subplots.AxesSubplot object at 0x7fbda61a8580>,\n",
       "        <matplotlib.axes._subplots.AxesSubplot object at 0x7fbda408b9d0>,\n",
       "        <matplotlib.axes._subplots.AxesSubplot object at 0x7fbda463dd60>],\n",
       "       [<matplotlib.axes._subplots.AxesSubplot object at 0x7fbda463de50>,\n",
       "        <matplotlib.axes._subplots.AxesSubplot object at 0x7fbda3f2c2e0>,\n",
       "        <matplotlib.axes._subplots.AxesSubplot object at 0x7fbda4796190>],\n",
       "       [<matplotlib.axes._subplots.AxesSubplot object at 0x7fbda62f7910>,\n",
       "        <matplotlib.axes._subplots.AxesSubplot object at 0x7fbda62a3130>,\n",
       "        <matplotlib.axes._subplots.AxesSubplot object at 0x7fbda62d8850>]],\n",
       "      dtype=object)"
      ]
     },
     "execution_count": 43,
     "metadata": {},
     "output_type": "execute_result"
    },
    {
     "data": {
      "image/png": "[encoded data removed]",
      "text/plain": [
       "<Figure size 720x720 with 12 Axes>"
      ]
     },
     "metadata": {
      "needs_background": "light"
     },
     "output_type": "display_data"
    }
   ],
   "source": [
    "events.hist(figsize=(10,10))"
   ]
  },
  {
   "cell_type": "code",
   "execution_count": 44,
   "metadata": {},
   "outputs": [
    {
     "data": {
      "text/html": [
       "<div>\n",
       "<style scoped>\n",
       "    .dataframe tbody tr th:only-of-type {\n",
       "        vertical-align: middle;\n",
       "    }\n",
       "\n",
       "    .dataframe tbody tr th {\n",
       "        vertical-align: top;\n",
       "    }\n",
       "\n",
       "    .dataframe thead th {\n",
       "        text-align: right;\n",
       "    }\n",
       "</style>\n",
       "<table border=\"1\" class=\"dataframe\">\n",
       "  <thead>\n",
       "    <tr style=\"text-align: right;\">\n",
       "      <th></th>\n",
       "      <th>num_adults</th>\n",
       "      <th>num_children</th>\n",
       "      <th>target</th>\n",
       "      <th>distance</th>\n",
       "      <th>num_visits</th>\n",
       "      <th>days_to_arrival</th>\n",
       "      <th>length_of_stay</th>\n",
       "      <th>hours_since_last_event</th>\n",
       "      <th>origin_changed_from_last_event</th>\n",
       "      <th>dest_changed_from_last_event</th>\n",
       "      <th>num_adults_delta_from_last</th>\n",
       "      <th>num_children_delta_from_last</th>\n",
       "    </tr>\n",
       "  </thead>\n",
       "  <tbody>\n",
       "    <tr>\n",
       "      <th>num_adults</th>\n",
       "      <td>1.000000</td>\n",
       "      <td>0.150465</td>\n",
       "      <td>0.015745</td>\n",
       "      <td>-0.043439</td>\n",
       "      <td>0.023951</td>\n",
       "      <td>0.209567</td>\n",
       "      <td>0.022297</td>\n",
       "      <td>-0.005033</td>\n",
       "      <td>-0.006010</td>\n",
       "      <td>-0.011267</td>\n",
       "      <td>0.234997</td>\n",
       "      <td>0.010328</td>\n",
       "    </tr>\n",
       "    <tr>\n",
       "      <th>num_children</th>\n",
       "      <td>0.150465</td>\n",
       "      <td>1.000000</td>\n",
       "      <td>-0.012963</td>\n",
       "      <td>-0.020840</td>\n",
       "      <td>-0.017567</td>\n",
       "      <td>0.099948</td>\n",
       "      <td>0.134922</td>\n",
       "      <td>-0.014687</td>\n",
       "      <td>-0.013760</td>\n",
       "      <td>-0.012174</td>\n",
       "      <td>-0.003897</td>\n",
       "      <td>0.207620</td>\n",
       "    </tr>\n",
       "    <tr>\n",
       "      <th>target</th>\n",
       "      <td>0.015745</td>\n",
       "      <td>-0.012963</td>\n",
       "      <td>1.000000</td>\n",
       "      <td>-0.046665</td>\n",
       "      <td>0.469133</td>\n",
       "      <td>-0.038891</td>\n",
       "      <td>-0.043283</td>\n",
       "      <td>-0.070697</td>\n",
       "      <td>-0.001996</td>\n",
       "      <td>-0.010688</td>\n",
       "      <td>0.011924</td>\n",
       "      <td>0.004600</td>\n",
       "    </tr>\n",
       "    <tr>\n",
       "      <th>distance</th>\n",
       "      <td>-0.043439</td>\n",
       "      <td>-0.020840</td>\n",
       "      <td>-0.046665</td>\n",
       "      <td>1.000000</td>\n",
       "      <td>-0.057546</td>\n",
       "      <td>0.310675</td>\n",
       "      <td>0.409056</td>\n",
       "      <td>0.010608</td>\n",
       "      <td>0.005779</td>\n",
       "      <td>-0.002935</td>\n",
       "      <td>-0.011990</td>\n",
       "      <td>-0.003964</td>\n",
       "    </tr>\n",
       "    <tr>\n",
       "      <th>num_visits</th>\n",
       "      <td>0.023951</td>\n",
       "      <td>-0.017567</td>\n",
       "      <td>0.469133</td>\n",
       "      <td>-0.057546</td>\n",
       "      <td>1.000000</td>\n",
       "      <td>-0.062880</td>\n",
       "      <td>-0.052149</td>\n",
       "      <td>-0.007743</td>\n",
       "      <td>0.188048</td>\n",
       "      <td>0.189838</td>\n",
       "      <td>0.002345</td>\n",
       "      <td>0.003798</td>\n",
       "    </tr>\n",
       "    <tr>\n",
       "      <th>days_to_arrival</th>\n",
       "      <td>0.209567</td>\n",
       "      <td>0.099948</td>\n",
       "      <td>-0.038891</td>\n",
       "      <td>0.310675</td>\n",
       "      <td>-0.062880</td>\n",
       "      <td>1.000000</td>\n",
       "      <td>0.264248</td>\n",
       "      <td>-0.001037</td>\n",
       "      <td>0.000312</td>\n",
       "      <td>0.000786</td>\n",
       "      <td>0.016279</td>\n",
       "      <td>0.009075</td>\n",
       "    </tr>\n",
       "    <tr>\n",
       "      <th>length_of_stay</th>\n",
       "      <td>0.022297</td>\n",
       "      <td>0.134922</td>\n",
       "      <td>-0.043283</td>\n",
       "      <td>0.409056</td>\n",
       "      <td>-0.052149</td>\n",
       "      <td>0.264248</td>\n",
       "      <td>1.000000</td>\n",
       "      <td>0.011072</td>\n",
       "      <td>-0.026096</td>\n",
       "      <td>-0.040306</td>\n",
       "      <td>0.003962</td>\n",
       "      <td>0.012479</td>\n",
       "    </tr>\n",
       "    <tr>\n",
       "      <th>hours_since_last_event</th>\n",
       "      <td>-0.005033</td>\n",
       "      <td>-0.014687</td>\n",
       "      <td>-0.070697</td>\n",
       "      <td>0.010608</td>\n",
       "      <td>-0.007743</td>\n",
       "      <td>-0.001037</td>\n",
       "      <td>0.011072</td>\n",
       "      <td>1.000000</td>\n",
       "      <td>0.127655</td>\n",
       "      <td>0.210281</td>\n",
       "      <td>-0.013015</td>\n",
       "      <td>0.003633</td>\n",
       "    </tr>\n",
       "    <tr>\n",
       "      <th>origin_changed_from_last_event</th>\n",
       "      <td>-0.006010</td>\n",
       "      <td>-0.013760</td>\n",
       "      <td>-0.001996</td>\n",
       "      <td>0.005779</td>\n",
       "      <td>0.188048</td>\n",
       "      <td>0.000312</td>\n",
       "      <td>-0.026096</td>\n",
       "      <td>0.127655</td>\n",
       "      <td>1.000000</td>\n",
       "      <td>0.435991</td>\n",
       "      <td>-0.004003</td>\n",
       "      <td>-0.004990</td>\n",
       "    </tr>\n",
       "    <tr>\n",
       "      <th>dest_changed_from_last_event</th>\n",
       "      <td>-0.011267</td>\n",
       "      <td>-0.012174</td>\n",
       "      <td>-0.010688</td>\n",
       "      <td>-0.002935</td>\n",
       "      <td>0.189838</td>\n",
       "      <td>0.000786</td>\n",
       "      <td>-0.040306</td>\n",
       "      <td>0.210281</td>\n",
       "      <td>0.435991</td>\n",
       "      <td>1.000000</td>\n",
       "      <td>-0.009718</td>\n",
       "      <td>-0.025746</td>\n",
       "    </tr>\n",
       "    <tr>\n",
       "      <th>num_adults_delta_from_last</th>\n",
       "      <td>0.234997</td>\n",
       "      <td>-0.003897</td>\n",
       "      <td>0.011924</td>\n",
       "      <td>-0.011990</td>\n",
       "      <td>0.002345</td>\n",
       "      <td>0.016279</td>\n",
       "      <td>0.003962</td>\n",
       "      <td>-0.013015</td>\n",
       "      <td>-0.004003</td>\n",
       "      <td>-0.009718</td>\n",
       "      <td>1.000000</td>\n",
       "      <td>0.025398</td>\n",
       "    </tr>\n",
       "    <tr>\n",
       "      <th>num_children_delta_from_last</th>\n",
       "      <td>0.010328</td>\n",
       "      <td>0.207620</td>\n",
       "      <td>0.004600</td>\n",
       "      <td>-0.003964</td>\n",
       "      <td>0.003798</td>\n",
       "      <td>0.009075</td>\n",
       "      <td>0.012479</td>\n",
       "      <td>0.003633</td>\n",
       "      <td>-0.004990</td>\n",
       "      <td>-0.025746</td>\n",
       "      <td>0.025398</td>\n",
       "      <td>1.000000</td>\n",
       "    </tr>\n",
       "  </tbody>\n",
       "</table>\n",
       "</div>"
      ],
      "text/plain": [
       "                                num_adults  num_children    target  distance  \\\n",
       "num_adults                        1.000000      0.150465  0.015745 -0.043439   \n",
       "num_children                      0.150465      1.000000 -0.012963 -0.020840   \n",
       "target                            0.015745     -0.012963  1.000000 -0.046665   \n",
       "distance                         -0.043439     -0.020840 -0.046665  1.000000   \n",
       "num_visits                        0.023951     -0.017567  0.469133 -0.057546   \n",
       "days_to_arrival                   0.209567      0.099948 -0.038891  0.310675   \n",
       "length_of_stay                    0.022297      0.134922 -0.043283  0.409056   \n",
       "hours_since_last_event           -0.005033     -0.014687 -0.070697  0.010608   \n",
       "origin_changed_from_last_event   -0.006010     -0.013760 -0.001996  0.005779   \n",
       "dest_changed_from_last_event     -0.011267     -0.012174 -0.010688 -0.002935   \n",
       "num_adults_delta_from_last        0.234997     -0.003897  0.011924 -0.011990   \n",
       "num_children_delta_from_last      0.010328      0.207620  0.004600 -0.003964   \n",
       "\n",
       "                                num_visits  days_to_arrival  length_of_stay  \\\n",
       "num_adults                        0.023951         0.209567        0.022297   \n",
       "num_children                     -0.017567         0.099948        0.134922   \n",
       "target                            0.469133        -0.038891       -0.043283   \n",
       "distance                         -0.057546         0.310675        0.409056   \n",
       "num_visits                        1.000000        -0.062880       -0.052149   \n",
       "days_to_arrival                  -0.062880         1.000000        0.264248   \n",
       "length_of_stay                   -0.052149         0.264248        1.000000   \n",
       "hours_since_last_event           -0.007743        -0.001037        0.011072   \n",
       "origin_changed_from_last_event    0.188048         0.000312       -0.026096   \n",
       "dest_changed_from_last_event      0.189838         0.000786       -0.040306   \n",
       "num_adults_delta_from_last        0.002345         0.016279        0.003962   \n",
       "num_children_delta_from_last      0.003798         0.009075        0.012479   \n",
       "\n",
       "                                hours_since_last_event  \\\n",
       "num_adults                                   -0.005033   \n",
       "num_children                                 -0.014687   \n",
       "target                                       -0.070697   \n",
       "distance                                      0.010608   \n",
       "num_visits                                   -0.007743   \n",
       "days_to_arrival                              -0.001037   \n",
       "length_of_stay                                0.011072   \n",
       "hours_since_last_event                        1.000000   \n",
       "origin_changed_from_last_event                0.127655   \n",
       "dest_changed_from_last_event                  0.210281   \n",
       "num_adults_delta_from_last                   -0.013015   \n",
       "num_children_delta_from_last                  0.003633   \n",
       "\n",
       "                                origin_changed_from_last_event  \\\n",
       "num_adults                                           -0.006010   \n",
       "num_children                                         -0.013760   \n",
       "target                                               -0.001996   \n",
       "distance                                              0.005779   \n",
       "num_visits                                            0.188048   \n",
       "days_to_arrival                                       0.000312   \n",
       "length_of_stay                                       -0.026096   \n",
       "hours_since_last_event                                0.127655   \n",
       "origin_changed_from_last_event                        1.000000   \n",
       "dest_changed_from_last_event                          0.435991   \n",
       "num_adults_delta_from_last                           -0.004003   \n",
       "num_children_delta_from_last                         -0.004990   \n",
       "\n",
       "                                dest_changed_from_last_event  \\\n",
       "num_adults                                         -0.011267   \n",
       "num_children                                       -0.012174   \n",
       "target                                             -0.010688   \n",
       "distance                                           -0.002935   \n",
       "num_visits                                          0.189838   \n",
       "days_to_arrival                                     0.000786   \n",
       "length_of_stay                                     -0.040306   \n",
       "hours_since_last_event                              0.210281   \n",
       "origin_changed_from_last_event                      0.435991   \n",
       "dest_changed_from_last_event                        1.000000   \n",
       "num_adults_delta_from_last                         -0.009718   \n",
       "num_children_delta_from_last                       -0.025746   \n",
       "\n",
       "                                num_adults_delta_from_last  \\\n",
       "num_adults                                        0.234997   \n",
       "num_children                                     -0.003897   \n",
       "target                                            0.011924   \n",
       "distance                                         -0.011990   \n",
       "num_visits                                        0.002345   \n",
       "days_to_arrival                                   0.016279   \n",
       "length_of_stay                                    0.003962   \n",
       "hours_since_last_event                           -0.013015   \n",
       "origin_changed_from_last_event                   -0.004003   \n",
       "dest_changed_from_last_event                     -0.009718   \n",
       "num_adults_delta_from_last                        1.000000   \n",
       "num_children_delta_from_last                      0.025398   \n",
       "\n",
       "                                num_children_delta_from_last  \n",
       "num_adults                                          0.010328  \n",
       "num_children                                        0.207620  \n",
       "target                                              0.004600  \n",
       "distance                                           -0.003964  \n",
       "num_visits                                          0.003798  \n",
       "days_to_arrival                                     0.009075  \n",
       "length_of_stay                                      0.012479  \n",
       "hours_since_last_event                              0.003633  \n",
       "origin_changed_from_last_event                     -0.004990  \n",
       "dest_changed_from_last_event                       -0.025746  \n",
       "num_adults_delta_from_last                          0.025398  \n",
       "num_children_delta_from_last                        1.000000  "
      ]
     },
     "execution_count": 44,
     "metadata": {},
     "output_type": "execute_result"
    }
   ],
   "source": [
    "events.corr()"
   ]
  },
  {
   "cell_type": "code",
   "execution_count": 73,
   "metadata": {},
   "outputs": [
    {
     "data": {
      "text/plain": [
       "target\n",
       "0    AxesSubplot(0.125,0.125;0.775x0.755)\n",
       "1    AxesSubplot(0.125,0.125;0.775x0.755)\n",
       "Name: distance, dtype: object"
      ]
     },
     "execution_count": 73,
     "metadata": {},
     "output_type": "execute_result"
    },
    {
     "data": {
      "image/png": "[encoded data removed]",
      "text/plain": [
       "<Figure size 432x288 with 1 Axes>"
      ]
     },
     "metadata": {
      "needs_background": "light"
     },
     "output_type": "display_data"
    }
   ],
   "source": [
    "events.groupby('target')['distance'].plot.kde()"
   ]
  },
  {
   "cell_type": "code",
   "execution_count": 74,
   "metadata": {},
   "outputs": [
    {
     "data": {
      "text/plain": [
       "target\n",
       "0    AxesSubplot(0.125,0.125;0.775x0.755)\n",
       "1    AxesSubplot(0.125,0.125;0.775x0.755)\n",
       "Name: days_to_arrival, dtype: object"
      ]
     },
     "execution_count": 74,
     "metadata": {},
     "output_type": "execute_result"
    },
    {
     "data": {
      "image/png": "[encoded data removed]",
      "text/plain": [
       "<Figure size 432x288 with 1 Axes>"
      ]
     },
     "metadata": {
      "needs_background": "light"
     },
     "output_type": "display_data"
    }
   ],
   "source": [
    "events.groupby('target')['days_to_arrival'].plot.kde()"
   ]
  },
  {
   "cell_type": "code",
   "execution_count": 75,
   "metadata": {
    "scrolled": true
   },
   "outputs": [
    {
     "data": {
      "text/plain": [
       "target\n",
       "0    AxesSubplot(0.125,0.125;0.775x0.755)\n",
       "1    AxesSubplot(0.125,0.125;0.775x0.755)\n",
       "Name: length_of_stay, dtype: object"
      ]
     },
     "execution_count": 75,
     "metadata": {},
     "output_type": "execute_result"
    },
    {
     "data": {
      "image/png": "[encoded data removed]",
      "text/plain": [
       "<Figure size 432x288 with 1 Axes>"
      ]
     },
     "metadata": {
      "needs_background": "light"
     },
     "output_type": "display_data"
    }
   ],
   "source": [
    "events.groupby('target')['length_of_stay'].plot.kde()"
   ]
  },
  {
   "cell_type": "code",
   "execution_count": 45,
   "metadata": {},
   "outputs": [
    {
     "data": {
      "text/plain": [
       "target\n",
       "0    AxesSubplot(0.125,0.125;0.775x0.755)\n",
       "1    AxesSubplot(0.125,0.125;0.775x0.755)\n",
       "Name: num_visits, dtype: object"
      ]
     },
     "execution_count": 45,
     "metadata": {},
     "output_type": "execute_result"
    },
    {
     "data": {
      "image/png": "[encoded data removed]",
      "text/plain": [
       "<Figure size 432x288 with 1 Axes>"
      ]
     },
     "metadata": {
      "needs_background": "light"
     },
     "output_type": "display_data"
    }
   ],
   "source": [
    "events.groupby('target')['num_visits'].plot.kde()"
   ]
  },
  {
   "cell_type": "code",
   "execution_count": 48,
   "metadata": {},
   "outputs": [
    {
     "data": {
      "text/html": [
       "<div>\n",
       "<style scoped>\n",
       "    .dataframe tbody tr th:only-of-type {\n",
       "        vertical-align: middle;\n",
       "    }\n",
       "\n",
       "    .dataframe tbody tr th {\n",
       "        vertical-align: top;\n",
       "    }\n",
       "\n",
       "    .dataframe thead th {\n",
       "        text-align: right;\n",
       "    }\n",
       "</style>\n",
       "<table border=\"1\" class=\"dataframe\">\n",
       "  <thead>\n",
       "    <tr style=\"text-align: right;\">\n",
       "      <th></th>\n",
       "      <th>count</th>\n",
       "      <th>mean</th>\n",
       "      <th>std</th>\n",
       "      <th>min</th>\n",
       "      <th>25%</th>\n",
       "      <th>50%</th>\n",
       "      <th>75%</th>\n",
       "      <th>max</th>\n",
       "    </tr>\n",
       "    <tr>\n",
       "      <th>target</th>\n",
       "      <th></th>\n",
       "      <th></th>\n",
       "      <th></th>\n",
       "      <th></th>\n",
       "      <th></th>\n",
       "      <th></th>\n",
       "      <th></th>\n",
       "      <th></th>\n",
       "    </tr>\n",
       "  </thead>\n",
       "  <tbody>\n",
       "    <tr>\n",
       "      <th>0</th>\n",
       "      <td>12829.0</td>\n",
       "      <td>8.106813</td>\n",
       "      <td>27.810429</td>\n",
       "      <td>0.000000</td>\n",
       "      <td>0.019167</td>\n",
       "      <td>0.074167</td>\n",
       "      <td>0.523056</td>\n",
       "      <td>295.940278</td>\n",
       "    </tr>\n",
       "    <tr>\n",
       "      <th>1</th>\n",
       "      <td>1744.0</td>\n",
       "      <td>2.303192</td>\n",
       "      <td>14.634470</td>\n",
       "      <td>0.001944</td>\n",
       "      <td>0.129167</td>\n",
       "      <td>0.212778</td>\n",
       "      <td>0.352083</td>\n",
       "      <td>286.338611</td>\n",
       "    </tr>\n",
       "  </tbody>\n",
       "</table>\n",
       "</div>"
      ],
      "text/plain": [
       "          count      mean        std       min       25%       50%       75%  \\\n",
       "target                                                                         \n",
       "0       12829.0  8.106813  27.810429  0.000000  0.019167  0.074167  0.523056   \n",
       "1        1744.0  2.303192  14.634470  0.001944  0.129167  0.212778  0.352083   \n",
       "\n",
       "               max  \n",
       "target              \n",
       "0       295.940278  \n",
       "1       286.338611  "
      ]
     },
     "execution_count": 48,
     "metadata": {},
     "output_type": "execute_result"
    }
   ],
   "source": [
    "events.groupby('target')['hours_since_last_event'].describe()"
   ]
  },
  {
   "cell_type": "markdown",
   "metadata": {},
   "source": [
    "# Building the classifier"
   ]
  },
  {
   "cell_type": "code",
   "execution_count": 50,
   "metadata": {},
   "outputs": [
    {
     "data": {
      "text/plain": [
       "Index(['ts', 'user_id', 'date_from', 'date_to', 'origin', 'destination',\n",
       "       'num_adults', 'num_children', 'distance', 'target', 'num_visits',\n",
       "       'days_to_arrival', 'length_of_stay', 'hours_since_last_event',\n",
       "       'origin_changed_from_last_event', 'dest_changed_from_last_event',\n",
       "       'num_adults_delta_from_last', 'num_children_delta_from_last'],\n",
       "      dtype='object')"
      ]
     },
     "execution_count": 50,
     "metadata": {},
     "output_type": "execute_result"
    }
   ],
   "source": [
    "events.columns"
   ]
  },
  {
   "cell_type": "code",
   "execution_count": 37,
   "metadata": {},
   "outputs": [],
   "source": [
    "features = ['num_adults',\n",
    "            #'num_children',\n",
    "            'ts_sin',\n",
    "            'ts_cos',\n",
    "            'from_sin',\n",
    "            'from_cos',\n",
    "            'to_sin',\n",
    "            'to_cos',\n",
    "            'distance',\n",
    "            'num_visits',\n",
    "            'days_to_arrival',\n",
    "            'length_of_stay',\n",
    "            'hours_since_last_event',\n",
    "            'origin_changed_from_last_event',\n",
    "            'dest_changed_from_last_event',\n",
    "            'num_adults_delta_from_last'\n",
    "            #'num_children_delta_from_last'\n",
    "           ]"
   ]
  },
  {
   "cell_type": "code",
   "execution_count": 38,
   "metadata": {},
   "outputs": [],
   "source": [
    "X = events[features]\n",
    "y = events['target']"
   ]
  },
  {
   "cell_type": "code",
   "execution_count": 59,
   "metadata": {},
   "outputs": [],
   "source": [
    "# we'll use this function to perform grid search + CV to find optimum hyperparameters\n",
    "\n",
    "def get_xgb_baseline(features_dataframe, target_dataframe):\n",
    "\n",
    "    xgb_model = xgb.XGBClassifier()\n",
    "\n",
    "    parameters = {'objective': ['binary:logistic'],\n",
    "                  'learning_rate': [0.05, 0.1],\n",
    "                  'gamma': [1],\n",
    "                  'max_depth': [5, 6],\n",
    "                  'min_child_weight': [3],\n",
    "                  'subsample': [0.8],\n",
    "                  'colsample_bytree': [0.8],\n",
    "                  'n_estimators': [100, 200],\n",
    "                  'scale_pos_weight': [1, 2, 3, 5, 7, 9, 10],\n",
    "                  'seed': [123]}\n",
    "\n",
    "    grid_search = GridSearchCV(estimator=xgb_model,\n",
    "                               param_grid=parameters,\n",
    "                               scoring='roc_auc',\n",
    "                               cv=5,\n",
    "                               verbose=2,\n",
    "                               n_jobs=-1)\n",
    "\n",
    "    grid_search.fit(features_dataframe, target_dataframe)\n",
    "\n",
    "    optimized_parameters = grid_search.best_params_\n",
    "    cv_auc = grid_search.best_score_\n",
    "    model = grid_search.best_estimator_\n",
    "    importance_scores = model.get_booster().get_score(importance_type='total_gain')\n",
    "\n",
    "    predicted_binary = model.predict(features_dataframe)\n",
    "    predicted_probs  = model.predict_proba(features_dataframe)\n",
    "\n",
    "    conf_matrix = metrics.confusion_matrix(target_dataframe, predicted_binary)\n",
    "\n",
    "    return {'parameters':optimized_parameters,\n",
    "            'cv_auc':cv_auc,\n",
    "            'model':grid_search.best_estimator_,\n",
    "            'feature_importance':importance_scores,\n",
    "            'confusion_matrix':conf_matrix}"
   ]
  },
  {
   "cell_type": "code",
   "execution_count": 60,
   "metadata": {},
   "outputs": [
    {
     "name": "stdout",
     "output_type": "stream",
     "text": [
      "Fitting 5 folds for each of 56 candidates, totalling 280 fits\n"
     ]
    },
    {
     "name": "stderr",
     "output_type": "stream",
     "text": [
      "[Parallel(n_jobs=-1)]: Using backend LokyBackend with 4 concurrent workers.\n",
      "[Parallel(n_jobs=-1)]: Done  33 tasks      | elapsed:   44.6s\n",
      "[Parallel(n_jobs=-1)]: Done 154 tasks      | elapsed:  5.4min\n",
      "[Parallel(n_jobs=-1)]: Done 280 out of 280 | elapsed: 10.1min finished\n"
     ]
    },
    {
     "name": "stdout",
     "output_type": "stream",
     "text": [
      "Cross-Validation AUC score\n",
      "0.9662975826317363\n",
      "{'colsample_bytree': 0.8, 'gamma': 1, 'learning_rate': 0.1, 'max_depth': 6, 'min_child_weight': 3, 'n_estimators': 100, 'objective': 'binary:logistic', 'scale_pos_weight': 2, 'seed': 123, 'subsample': 0.8}\n"
     ]
    }
   ],
   "source": [
    "result = get_xgb_baseline(X, y)\n",
    "\n",
    "print('Cross-Validation AUC score')\n",
    "print(result['cv_auc'])\n",
    "\n",
    "# Optimised values of XGB hyperparameters\n",
    "print(result['parameters'])"
   ]
  },
  {
   "cell_type": "code",
   "execution_count": 165,
   "metadata": {},
   "outputs": [
    {
     "data": {
      "text/plain": [
       "{'num_visits': 229001.0580953052,\n",
       " 'origin_changed_from_last_event': 3892.6861032539987,\n",
       " 'num_children_delta_from_last': 1158.5099200180007,\n",
       " 'num_adults_delta_from_last': 25575.240101444993,\n",
       " 'hours_since_last_event': 166006.0847866256,\n",
       " 'dest_changed_from_last_event': 4965.813778747001}"
      ]
     },
     "execution_count": 165,
     "metadata": {},
     "output_type": "execute_result"
    }
   ],
   "source": [
    "result['feature_importance']"
   ]
  },
  {
   "cell_type": "code",
   "execution_count": 78,
   "metadata": {},
   "outputs": [],
   "source": [
    "# let's split the original data set into train and test sets\n",
    "X_train, X_test, y_train, y_test= train_test_split(X,y,test_size=0.30,random_state=0)"
   ]
  },
  {
   "cell_type": "code",
   "execution_count": 122,
   "metadata": {},
   "outputs": [
    {
     "name": "stdout",
     "output_type": "stream",
     "text": [
      "[(0, 30545), (1, 15272)]\n"
     ]
    }
   ],
   "source": [
    "# test over/under sampling to balance the classes\n",
    "ros = RandomOverSampler(sampling_strategy=0.1,random_state=0)\n",
    "X_train_r, y_train_r = ros.fit_resample(X_train, y_train)\n",
    "\n",
    "rus = RandomOverSampler(sampling_strategy=0.5,random_state=0)\n",
    "X_train_r, y_train_r = rus.fit_resample(X_train_r, y_train_r)\n",
    "\n",
    "from collections import Counter\n",
    "print(sorted(Counter(y_train_r).items()))"
   ]
  },
  {
   "cell_type": "code",
   "execution_count": 126,
   "metadata": {
    "scrolled": true
   },
   "outputs": [
    {
     "name": "stdout",
     "output_type": "stream",
     "text": [
      "[0]\tvalidation_0-auc:0.95525\tvalidation_1-auc:0.95698\n",
      "[1]\tvalidation_0-auc:0.95541\tvalidation_1-auc:0.95709\n",
      "[2]\tvalidation_0-auc:0.95544\tvalidation_1-auc:0.95688\n",
      "[3]\tvalidation_0-auc:0.95658\tvalidation_1-auc:0.95745\n",
      "[4]\tvalidation_0-auc:0.95732\tvalidation_1-auc:0.95784\n",
      "[5]\tvalidation_0-auc:0.96253\tvalidation_1-auc:0.96169\n",
      "[6]\tvalidation_0-auc:0.96414\tvalidation_1-auc:0.96323\n",
      "[7]\tvalidation_0-auc:0.96423\tvalidation_1-auc:0.96286\n",
      "[8]\tvalidation_0-auc:0.96478\tvalidation_1-auc:0.96322\n",
      "[9]\tvalidation_0-auc:0.96492\tvalidation_1-auc:0.96332\n",
      "[10]\tvalidation_0-auc:0.96494\tvalidation_1-auc:0.96338\n",
      "[11]\tvalidation_0-auc:0.96503\tvalidation_1-auc:0.96336\n",
      "[12]\tvalidation_0-auc:0.96512\tvalidation_1-auc:0.96348\n",
      "[13]\tvalidation_0-auc:0.96507\tvalidation_1-auc:0.96316\n",
      "[14]\tvalidation_0-auc:0.96520\tvalidation_1-auc:0.96342\n",
      "[15]\tvalidation_0-auc:0.96524\tvalidation_1-auc:0.96328\n",
      "[16]\tvalidation_0-auc:0.96532\tvalidation_1-auc:0.96325\n",
      "[17]\tvalidation_0-auc:0.96550\tvalidation_1-auc:0.96354\n",
      "[18]\tvalidation_0-auc:0.96562\tvalidation_1-auc:0.96358\n",
      "[19]\tvalidation_0-auc:0.96621\tvalidation_1-auc:0.96362\n",
      "[20]\tvalidation_0-auc:0.96637\tvalidation_1-auc:0.96371\n",
      "[21]\tvalidation_0-auc:0.96637\tvalidation_1-auc:0.96380\n",
      "[22]\tvalidation_0-auc:0.96644\tvalidation_1-auc:0.96381\n",
      "[23]\tvalidation_0-auc:0.96651\tvalidation_1-auc:0.96383\n",
      "[24]\tvalidation_0-auc:0.96658\tvalidation_1-auc:0.96390\n",
      "[25]\tvalidation_0-auc:0.96667\tvalidation_1-auc:0.96393\n",
      "[26]\tvalidation_0-auc:0.96671\tvalidation_1-auc:0.96391\n",
      "[27]\tvalidation_0-auc:0.96619\tvalidation_1-auc:0.96286\n",
      "[28]\tvalidation_0-auc:0.96625\tvalidation_1-auc:0.96295\n",
      "[29]\tvalidation_0-auc:0.96633\tvalidation_1-auc:0.96307\n",
      "[30]\tvalidation_0-auc:0.96643\tvalidation_1-auc:0.96306\n",
      "[31]\tvalidation_0-auc:0.96645\tvalidation_1-auc:0.96305\n",
      "[32]\tvalidation_0-auc:0.96850\tvalidation_1-auc:0.96478\n",
      "[33]\tvalidation_0-auc:0.96858\tvalidation_1-auc:0.96472\n",
      "[34]\tvalidation_0-auc:0.96857\tvalidation_1-auc:0.96472\n",
      "[35]\tvalidation_0-auc:0.96865\tvalidation_1-auc:0.96437\n",
      "[36]\tvalidation_0-auc:0.96867\tvalidation_1-auc:0.96439\n",
      "[37]\tvalidation_0-auc:0.96872\tvalidation_1-auc:0.96444\n",
      "[38]\tvalidation_0-auc:0.96898\tvalidation_1-auc:0.96460\n",
      "[39]\tvalidation_0-auc:0.96922\tvalidation_1-auc:0.96472\n",
      "[40]\tvalidation_0-auc:0.96933\tvalidation_1-auc:0.96477\n",
      "[41]\tvalidation_0-auc:0.97000\tvalidation_1-auc:0.96456\n",
      "[42]\tvalidation_0-auc:0.97007\tvalidation_1-auc:0.96459\n",
      "[43]\tvalidation_0-auc:0.97009\tvalidation_1-auc:0.96461\n",
      "[44]\tvalidation_0-auc:0.97008\tvalidation_1-auc:0.96513\n",
      "[45]\tvalidation_0-auc:0.97015\tvalidation_1-auc:0.96509\n",
      "[46]\tvalidation_0-auc:0.97023\tvalidation_1-auc:0.96514\n",
      "[47]\tvalidation_0-auc:0.97164\tvalidation_1-auc:0.96653\n",
      "[48]\tvalidation_0-auc:0.97174\tvalidation_1-auc:0.96653\n",
      "[49]\tvalidation_0-auc:0.97250\tvalidation_1-auc:0.96731\n",
      "[50]\tvalidation_0-auc:0.97258\tvalidation_1-auc:0.96741\n",
      "[51]\tvalidation_0-auc:0.97261\tvalidation_1-auc:0.96705\n",
      "[52]\tvalidation_0-auc:0.97261\tvalidation_1-auc:0.96727\n",
      "[53]\tvalidation_0-auc:0.97259\tvalidation_1-auc:0.96711\n",
      "[54]\tvalidation_0-auc:0.97306\tvalidation_1-auc:0.96686\n",
      "[55]\tvalidation_0-auc:0.97308\tvalidation_1-auc:0.96739\n",
      "[56]\tvalidation_0-auc:0.97300\tvalidation_1-auc:0.96735\n",
      "[57]\tvalidation_0-auc:0.97346\tvalidation_1-auc:0.96732\n",
      "[58]\tvalidation_0-auc:0.97405\tvalidation_1-auc:0.96717\n",
      "[59]\tvalidation_0-auc:0.97395\tvalidation_1-auc:0.96693\n",
      "[60]\tvalidation_0-auc:0.97396\tvalidation_1-auc:0.96690\n",
      "[61]\tvalidation_0-auc:0.97397\tvalidation_1-auc:0.96682\n",
      "[62]\tvalidation_0-auc:0.97437\tvalidation_1-auc:0.96676\n",
      "[63]\tvalidation_0-auc:0.97450\tvalidation_1-auc:0.96674\n",
      "[64]\tvalidation_0-auc:0.97464\tvalidation_1-auc:0.96692\n",
      "[65]\tvalidation_0-auc:0.97488\tvalidation_1-auc:0.96687\n",
      "[66]\tvalidation_0-auc:0.97511\tvalidation_1-auc:0.96685\n",
      "[67]\tvalidation_0-auc:0.97545\tvalidation_1-auc:0.96684\n",
      "[68]\tvalidation_0-auc:0.97552\tvalidation_1-auc:0.96692\n",
      "[69]\tvalidation_0-auc:0.97576\tvalidation_1-auc:0.96697\n",
      "[70]\tvalidation_0-auc:0.97591\tvalidation_1-auc:0.96700\n",
      "[71]\tvalidation_0-auc:0.97615\tvalidation_1-auc:0.96704\n",
      "[72]\tvalidation_0-auc:0.97617\tvalidation_1-auc:0.96698\n",
      "[73]\tvalidation_0-auc:0.97627\tvalidation_1-auc:0.96671\n",
      "[74]\tvalidation_0-auc:0.97635\tvalidation_1-auc:0.96675\n",
      "[75]\tvalidation_0-auc:0.97661\tvalidation_1-auc:0.96643\n",
      "[76]\tvalidation_0-auc:0.97673\tvalidation_1-auc:0.96652\n",
      "[77]\tvalidation_0-auc:0.97685\tvalidation_1-auc:0.96638\n",
      "[78]\tvalidation_0-auc:0.97697\tvalidation_1-auc:0.96634\n",
      "[79]\tvalidation_0-auc:0.97708\tvalidation_1-auc:0.96652\n",
      "[80]\tvalidation_0-auc:0.97726\tvalidation_1-auc:0.96667\n",
      "[81]\tvalidation_0-auc:0.97732\tvalidation_1-auc:0.96658\n",
      "[82]\tvalidation_0-auc:0.97747\tvalidation_1-auc:0.96651\n",
      "[83]\tvalidation_0-auc:0.97755\tvalidation_1-auc:0.96640\n",
      "[84]\tvalidation_0-auc:0.97768\tvalidation_1-auc:0.96606\n",
      "[85]\tvalidation_0-auc:0.97772\tvalidation_1-auc:0.96607\n",
      "[86]\tvalidation_0-auc:0.97784\tvalidation_1-auc:0.96616\n",
      "[87]\tvalidation_0-auc:0.97800\tvalidation_1-auc:0.96613\n",
      "[88]\tvalidation_0-auc:0.97807\tvalidation_1-auc:0.96597\n",
      "[89]\tvalidation_0-auc:0.97820\tvalidation_1-auc:0.96613\n",
      "[90]\tvalidation_0-auc:0.97827\tvalidation_1-auc:0.96606\n",
      "[91]\tvalidation_0-auc:0.97833\tvalidation_1-auc:0.96602\n",
      "[92]\tvalidation_0-auc:0.97845\tvalidation_1-auc:0.96606\n",
      "[93]\tvalidation_0-auc:0.97856\tvalidation_1-auc:0.96627\n",
      "[94]\tvalidation_0-auc:0.97865\tvalidation_1-auc:0.96626\n",
      "[95]\tvalidation_0-auc:0.97873\tvalidation_1-auc:0.96638\n",
      "[96]\tvalidation_0-auc:0.97878\tvalidation_1-auc:0.96640\n",
      "[97]\tvalidation_0-auc:0.97887\tvalidation_1-auc:0.96648\n",
      "[98]\tvalidation_0-auc:0.97898\tvalidation_1-auc:0.96647\n",
      "[99]\tvalidation_0-auc:0.97913\tvalidation_1-auc:0.96655\n"
     ]
    }
   ],
   "source": [
    "# using optimal hyperparameters from above grid search, let's run and evaluate a model\n",
    "xgb_classifier = xgb.XGBClassifier(objective='binary:logistic', \n",
    "                                   colsample_bytree = 0.8, \n",
    "                                   learning_rate = 0.1,\n",
    "                                   max_depth =6, \n",
    "                                   alpha = 10, \n",
    "                                   gamma=1,\n",
    "                                   min_child_weight=3,\n",
    "                                   subsample=0.8,\n",
    "                                   n_estimators = 100,\n",
    "                                   scale_pos_weight=2)\n",
    "\n",
    "eval_set = [(X_train, y_train), (X_test, y_test)]\n",
    "\n",
    "\n",
    "xgb_classifier.fit(X_train,\n",
    "                   y_train, \n",
    "                   #verbose=True, \n",
    "                   eval_set=eval_set, \n",
    "                   #early_stopping_rounds=50, \n",
    "                   eval_metric='auc')\n",
    "\n",
    "# make predictions with test data set\n",
    "\n",
    "preds_prob = xgb_classifier.predict_proba(X_test)[:,1]\n",
    "preds_binary = xgb_classifier.predict(X_test)"
   ]
  },
  {
   "cell_type": "code",
   "execution_count": 127,
   "metadata": {},
   "outputs": [
    {
     "data": {
      "text/plain": [
       "Text(0.5, 257.44, 'Predicted label')"
      ]
     },
     "execution_count": 127,
     "metadata": {},
     "output_type": "execute_result"
    },
    {
     "data": {
      "image/png": "[encoded data removed]",
      "text/plain": [
       "<Figure size 432x288 with 2 Axes>"
      ]
     },
     "metadata": {
      "needs_background": "light"
     },
     "output_type": "display_data"
    }
   ],
   "source": [
    "# show confusion matrix to understand the share of correct/incorrect predictions\n",
    "\n",
    "confusion_matrix = metrics.confusion_matrix(y_test, preds_binary)\n",
    "\n",
    "fig, ax = plt.subplots()\n",
    "tick_marks = np.arange(2)\n",
    "plt.xticks(tick_marks, [0,1])\n",
    "plt.yticks(tick_marks, [0,1])\n",
    "\n",
    "sns.heatmap(pd.DataFrame(confusion_matrix), annot=True, cmap=\"YlGnBu\" ,fmt='g')\n",
    "ax.xaxis.set_label_position(\"top\")\n",
    "plt.tight_layout()\n",
    "plt.ylabel('Actual label')\n",
    "plt.xlabel('Predicted label')"
   ]
  },
  {
   "cell_type": "code",
   "execution_count": 128,
   "metadata": {},
   "outputs": [
    {
     "name": "stdout",
     "output_type": "stream",
     "text": [
      "Accuracy:  0.9721244131455399\n",
      "AUC:  0.9665526172300981\n",
      "F1 Score:  0.6557971014492754\n",
      "Precision Score:  0.6328671328671329\n",
      "Recall Score:  0.6804511278195489\n"
     ]
    }
   ],
   "source": [
    "print(\"Accuracy: \",  metrics.accuracy_score(y_test, preds_binary))\n",
    "print(\"AUC: \", metrics.roc_auc_score(y_test, preds_prob))\n",
    "print(\"F1 Score: \", metrics.f1_score(y_test, preds_binary))\n",
    "print(\"Precision Score: \", metrics.precision_score(y_test, preds_binary))\n",
    "print(\"Recall Score: \", metrics.recall_score(y_test, preds_binary))"
   ]
  },
  {
   "cell_type": "code",
   "execution_count": 129,
   "metadata": {
    "scrolled": true
   },
   "outputs": [
    {
     "ename": "ValueError",
     "evalue": "Input contains NaN, infinity or a value too large for dtype('float32').",
     "output_type": "error",
     "traceback": [
      "\u001b[0;31m---------------------------------------------------------------------------\u001b[0m",
      "\u001b[0;31mValueError\u001b[0m                                Traceback (most recent call last)",
      "\u001b[0;32m<ipython-input-129-2ac2b9792d68>\u001b[0m in \u001b[0;36m<module>\u001b[0;34m\u001b[0m\n\u001b[1;32m      1\u001b[0m \u001b[0;32mfrom\u001b[0m \u001b[0msklearn\u001b[0m\u001b[0;34m.\u001b[0m\u001b[0mensemble\u001b[0m \u001b[0;32mimport\u001b[0m \u001b[0mRandomForestClassifier\u001b[0m\u001b[0;34m\u001b[0m\u001b[0;34m\u001b[0m\u001b[0m\n\u001b[0;32m----> 2\u001b[0;31m \u001b[0mrfc\u001b[0m \u001b[0;34m=\u001b[0m \u001b[0mRandomForestClassifier\u001b[0m\u001b[0;34m(\u001b[0m\u001b[0mn_estimators\u001b[0m\u001b[0;34m=\u001b[0m\u001b[0;36m10\u001b[0m\u001b[0;34m)\u001b[0m\u001b[0;34m.\u001b[0m\u001b[0mfit\u001b[0m\u001b[0;34m(\u001b[0m\u001b[0mX_train\u001b[0m\u001b[0;34m,\u001b[0m \u001b[0my_train\u001b[0m\u001b[0;34m)\u001b[0m\u001b[0;34m\u001b[0m\u001b[0;34m\u001b[0m\u001b[0m\n\u001b[0m\u001b[1;32m      3\u001b[0m \u001b[0mpreds_binary\u001b[0m \u001b[0;34m=\u001b[0m \u001b[0mrfc\u001b[0m\u001b[0;34m.\u001b[0m\u001b[0mpredict\u001b[0m\u001b[0;34m(\u001b[0m\u001b[0mX_test\u001b[0m\u001b[0;34m)\u001b[0m\u001b[0;34m\u001b[0m\u001b[0;34m\u001b[0m\u001b[0m\n",
      "\u001b[0;32m~/dev/cw-travel-audience/ta-venv/lib/python3.8/site-packages/sklearn/ensemble/_forest.py\u001b[0m in \u001b[0;36mfit\u001b[0;34m(self, X, y, sample_weight)\u001b[0m\n\u001b[1;32m    301\u001b[0m                 \u001b[0;34m\"sparse multilabel-indicator for y is not supported.\"\u001b[0m\u001b[0;34m\u001b[0m\u001b[0;34m\u001b[0m\u001b[0m\n\u001b[1;32m    302\u001b[0m             )\n\u001b[0;32m--> 303\u001b[0;31m         X, y = self._validate_data(X, y, multi_output=True,\n\u001b[0m\u001b[1;32m    304\u001b[0m                                    accept_sparse=\"csc\", dtype=DTYPE)\n\u001b[1;32m    305\u001b[0m         \u001b[0;32mif\u001b[0m \u001b[0msample_weight\u001b[0m \u001b[0;32mis\u001b[0m \u001b[0;32mnot\u001b[0m \u001b[0;32mNone\u001b[0m\u001b[0;34m:\u001b[0m\u001b[0;34m\u001b[0m\u001b[0;34m\u001b[0m\u001b[0m\n",
      "\u001b[0;32m~/dev/cw-travel-audience/ta-venv/lib/python3.8/site-packages/sklearn/base.py\u001b[0m in \u001b[0;36m_validate_data\u001b[0;34m(self, X, y, reset, validate_separately, **check_params)\u001b[0m\n\u001b[1;32m    430\u001b[0m                 \u001b[0my\u001b[0m \u001b[0;34m=\u001b[0m \u001b[0mcheck_array\u001b[0m\u001b[0;34m(\u001b[0m\u001b[0my\u001b[0m\u001b[0;34m,\u001b[0m \u001b[0;34m**\u001b[0m\u001b[0mcheck_y_params\u001b[0m\u001b[0;34m)\u001b[0m\u001b[0;34m\u001b[0m\u001b[0;34m\u001b[0m\u001b[0m\n\u001b[1;32m    431\u001b[0m             \u001b[0;32melse\u001b[0m\u001b[0;34m:\u001b[0m\u001b[0;34m\u001b[0m\u001b[0;34m\u001b[0m\u001b[0m\n\u001b[0;32m--> 432\u001b[0;31m                 \u001b[0mX\u001b[0m\u001b[0;34m,\u001b[0m \u001b[0my\u001b[0m \u001b[0;34m=\u001b[0m \u001b[0mcheck_X_y\u001b[0m\u001b[0;34m(\u001b[0m\u001b[0mX\u001b[0m\u001b[0;34m,\u001b[0m \u001b[0my\u001b[0m\u001b[0;34m,\u001b[0m \u001b[0;34m**\u001b[0m\u001b[0mcheck_params\u001b[0m\u001b[0;34m)\u001b[0m\u001b[0;34m\u001b[0m\u001b[0;34m\u001b[0m\u001b[0m\n\u001b[0m\u001b[1;32m    433\u001b[0m             \u001b[0mout\u001b[0m \u001b[0;34m=\u001b[0m \u001b[0mX\u001b[0m\u001b[0;34m,\u001b[0m \u001b[0my\u001b[0m\u001b[0;34m\u001b[0m\u001b[0;34m\u001b[0m\u001b[0m\n\u001b[1;32m    434\u001b[0m \u001b[0;34m\u001b[0m\u001b[0m\n",
      "\u001b[0;32m~/dev/cw-travel-audience/ta-venv/lib/python3.8/site-packages/sklearn/utils/validation.py\u001b[0m in \u001b[0;36minner_f\u001b[0;34m(*args, **kwargs)\u001b[0m\n\u001b[1;32m     71\u001b[0m                           FutureWarning)\n\u001b[1;32m     72\u001b[0m         \u001b[0mkwargs\u001b[0m\u001b[0;34m.\u001b[0m\u001b[0mupdate\u001b[0m\u001b[0;34m(\u001b[0m\u001b[0;34m{\u001b[0m\u001b[0mk\u001b[0m\u001b[0;34m:\u001b[0m \u001b[0marg\u001b[0m \u001b[0;32mfor\u001b[0m \u001b[0mk\u001b[0m\u001b[0;34m,\u001b[0m \u001b[0marg\u001b[0m \u001b[0;32min\u001b[0m \u001b[0mzip\u001b[0m\u001b[0;34m(\u001b[0m\u001b[0msig\u001b[0m\u001b[0;34m.\u001b[0m\u001b[0mparameters\u001b[0m\u001b[0;34m,\u001b[0m \u001b[0margs\u001b[0m\u001b[0;34m)\u001b[0m\u001b[0;34m}\u001b[0m\u001b[0;34m)\u001b[0m\u001b[0;34m\u001b[0m\u001b[0;34m\u001b[0m\u001b[0m\n\u001b[0;32m---> 73\u001b[0;31m         \u001b[0;32mreturn\u001b[0m \u001b[0mf\u001b[0m\u001b[0;34m(\u001b[0m\u001b[0;34m**\u001b[0m\u001b[0mkwargs\u001b[0m\u001b[0;34m)\u001b[0m\u001b[0;34m\u001b[0m\u001b[0;34m\u001b[0m\u001b[0m\n\u001b[0m\u001b[1;32m     74\u001b[0m     \u001b[0;32mreturn\u001b[0m \u001b[0minner_f\u001b[0m\u001b[0;34m\u001b[0m\u001b[0;34m\u001b[0m\u001b[0m\n\u001b[1;32m     75\u001b[0m \u001b[0;34m\u001b[0m\u001b[0m\n",
      "\u001b[0;32m~/dev/cw-travel-audience/ta-venv/lib/python3.8/site-packages/sklearn/utils/validation.py\u001b[0m in \u001b[0;36mcheck_X_y\u001b[0;34m(X, y, accept_sparse, accept_large_sparse, dtype, order, copy, force_all_finite, ensure_2d, allow_nd, multi_output, ensure_min_samples, ensure_min_features, y_numeric, estimator)\u001b[0m\n\u001b[1;32m    794\u001b[0m         \u001b[0;32mraise\u001b[0m \u001b[0mValueError\u001b[0m\u001b[0;34m(\u001b[0m\u001b[0;34m\"y cannot be None\"\u001b[0m\u001b[0;34m)\u001b[0m\u001b[0;34m\u001b[0m\u001b[0;34m\u001b[0m\u001b[0m\n\u001b[1;32m    795\u001b[0m \u001b[0;34m\u001b[0m\u001b[0m\n\u001b[0;32m--> 796\u001b[0;31m     X = check_array(X, accept_sparse=accept_sparse,\n\u001b[0m\u001b[1;32m    797\u001b[0m                     \u001b[0maccept_large_sparse\u001b[0m\u001b[0;34m=\u001b[0m\u001b[0maccept_large_sparse\u001b[0m\u001b[0;34m,\u001b[0m\u001b[0;34m\u001b[0m\u001b[0;34m\u001b[0m\u001b[0m\n\u001b[1;32m    798\u001b[0m                     \u001b[0mdtype\u001b[0m\u001b[0;34m=\u001b[0m\u001b[0mdtype\u001b[0m\u001b[0;34m,\u001b[0m \u001b[0morder\u001b[0m\u001b[0;34m=\u001b[0m\u001b[0morder\u001b[0m\u001b[0;34m,\u001b[0m \u001b[0mcopy\u001b[0m\u001b[0;34m=\u001b[0m\u001b[0mcopy\u001b[0m\u001b[0;34m,\u001b[0m\u001b[0;34m\u001b[0m\u001b[0;34m\u001b[0m\u001b[0m\n",
      "\u001b[0;32m~/dev/cw-travel-audience/ta-venv/lib/python3.8/site-packages/sklearn/utils/validation.py\u001b[0m in \u001b[0;36minner_f\u001b[0;34m(*args, **kwargs)\u001b[0m\n\u001b[1;32m     71\u001b[0m                           FutureWarning)\n\u001b[1;32m     72\u001b[0m         \u001b[0mkwargs\u001b[0m\u001b[0;34m.\u001b[0m\u001b[0mupdate\u001b[0m\u001b[0;34m(\u001b[0m\u001b[0;34m{\u001b[0m\u001b[0mk\u001b[0m\u001b[0;34m:\u001b[0m \u001b[0marg\u001b[0m \u001b[0;32mfor\u001b[0m \u001b[0mk\u001b[0m\u001b[0;34m,\u001b[0m \u001b[0marg\u001b[0m \u001b[0;32min\u001b[0m \u001b[0mzip\u001b[0m\u001b[0;34m(\u001b[0m\u001b[0msig\u001b[0m\u001b[0;34m.\u001b[0m\u001b[0mparameters\u001b[0m\u001b[0;34m,\u001b[0m \u001b[0margs\u001b[0m\u001b[0;34m)\u001b[0m\u001b[0;34m}\u001b[0m\u001b[0;34m)\u001b[0m\u001b[0;34m\u001b[0m\u001b[0;34m\u001b[0m\u001b[0m\n\u001b[0;32m---> 73\u001b[0;31m         \u001b[0;32mreturn\u001b[0m \u001b[0mf\u001b[0m\u001b[0;34m(\u001b[0m\u001b[0;34m**\u001b[0m\u001b[0mkwargs\u001b[0m\u001b[0;34m)\u001b[0m\u001b[0;34m\u001b[0m\u001b[0;34m\u001b[0m\u001b[0m\n\u001b[0m\u001b[1;32m     74\u001b[0m     \u001b[0;32mreturn\u001b[0m \u001b[0minner_f\u001b[0m\u001b[0;34m\u001b[0m\u001b[0;34m\u001b[0m\u001b[0m\n\u001b[1;32m     75\u001b[0m \u001b[0;34m\u001b[0m\u001b[0m\n",
      "\u001b[0;32m~/dev/cw-travel-audience/ta-venv/lib/python3.8/site-packages/sklearn/utils/validation.py\u001b[0m in \u001b[0;36mcheck_array\u001b[0;34m(array, accept_sparse, accept_large_sparse, dtype, order, copy, force_all_finite, ensure_2d, allow_nd, ensure_min_samples, ensure_min_features, estimator)\u001b[0m\n\u001b[1;32m    643\u001b[0m \u001b[0;34m\u001b[0m\u001b[0m\n\u001b[1;32m    644\u001b[0m         \u001b[0;32mif\u001b[0m \u001b[0mforce_all_finite\u001b[0m\u001b[0;34m:\u001b[0m\u001b[0;34m\u001b[0m\u001b[0;34m\u001b[0m\u001b[0m\n\u001b[0;32m--> 645\u001b[0;31m             _assert_all_finite(array,\n\u001b[0m\u001b[1;32m    646\u001b[0m                                allow_nan=force_all_finite == 'allow-nan')\n\u001b[1;32m    647\u001b[0m \u001b[0;34m\u001b[0m\u001b[0m\n",
      "\u001b[0;32m~/dev/cw-travel-audience/ta-venv/lib/python3.8/site-packages/sklearn/utils/validation.py\u001b[0m in \u001b[0;36m_assert_all_finite\u001b[0;34m(X, allow_nan, msg_dtype)\u001b[0m\n\u001b[1;32m     95\u001b[0m                 not allow_nan and not np.isfinite(X).all()):\n\u001b[1;32m     96\u001b[0m             \u001b[0mtype_err\u001b[0m \u001b[0;34m=\u001b[0m \u001b[0;34m'infinity'\u001b[0m \u001b[0;32mif\u001b[0m \u001b[0mallow_nan\u001b[0m \u001b[0;32melse\u001b[0m \u001b[0;34m'NaN, infinity'\u001b[0m\u001b[0;34m\u001b[0m\u001b[0;34m\u001b[0m\u001b[0m\n\u001b[0;32m---> 97\u001b[0;31m             raise ValueError(\n\u001b[0m\u001b[1;32m     98\u001b[0m                     \u001b[0mmsg_err\u001b[0m\u001b[0;34m.\u001b[0m\u001b[0mformat\u001b[0m\u001b[0;34m\u001b[0m\u001b[0;34m\u001b[0m\u001b[0m\n\u001b[1;32m     99\u001b[0m                     (type_err,\n",
      "\u001b[0;31mValueError\u001b[0m: Input contains NaN, infinity or a value too large for dtype('float32')."
     ]
    }
   ],
   "source": [
    "from sklearn.ensemble import RandomForestClassifier\n",
    "rfc = RandomForestClassifier(n_estimators=10).fit(X_train, y_train)\n",
    "preds_binary = rfc.predict(X_test)"
   ]
  },
  {
   "cell_type": "code",
   "execution_count": 55,
   "metadata": {},
   "outputs": [
    {
     "name": "stderr",
     "output_type": "stream",
     "text": [
      "Setting feature_perturbation = \"tree_path_dependent\" because no background data was given.\n"
     ]
    },
    {
     "data": {
      "image/png": "[encoded data removed]",
      "text/plain": [
       "<Figure size 576x540 with 1 Axes>"
      ]
     },
     "metadata": {
      "needs_background": "light"
     },
     "output_type": "display_data"
    }
   ],
   "source": [
    "explainer = shap.TreeExplainer(xgb_classifier)\n",
    "shap_values = explainer.shap_values(X_train)\n",
    "shap.summary_plot(shap_values, X_train, plot_type=\"bar\")"
   ]
  },
  {
   "cell_type": "code",
   "execution_count": 44,
   "metadata": {},
   "outputs": [
    {
     "data": {
      "image/png": "[encoded data removed]",
      "text/plain": [
       "<Figure size 576x540 with 2 Axes>"
      ]
     },
     "metadata": {
      "needs_background": "light"
     },
     "output_type": "display_data"
    }
   ],
   "source": [
    "shap.summary_plot(shap_values, X_train)"
   ]
  }
 ],
 "metadata": {
  "kernelspec": {
   "display_name": "ta-venv",
   "language": "python",
   "name": "ta-venv"
  },
  "language_info": {
   "codemirror_mode": {
    "name": "ipython",
    "version": 3
   },
   "file_extension": ".py",
   "mimetype": "text/x-python",
   "name": "python",
   "nbconvert_exporter": "python",
   "pygments_lexer": "ipython3",
   "version": "3.8.2"
  }
 },
 "nbformat": 4,
 "nbformat_minor": 4
}

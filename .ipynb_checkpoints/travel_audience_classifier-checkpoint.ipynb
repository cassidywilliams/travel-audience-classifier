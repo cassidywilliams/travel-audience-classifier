{
 "cells": [
  {
   "cell_type": "code",
   "execution_count": 1,
   "metadata": {},
   "outputs": [],
   "source": [
    "import numpy as np\n",
    "import matplotlib.pyplot as plt\n",
    "import pandas as pd\n",
    "import seaborn as sns\n",
    "import shap\n",
    "import xgboost as xgb\n",
    "from math import radians, cos, sin, asin, sqrt, ceil\n",
    "from sklearn import metrics\n",
    "from sklearn.model_selection import train_test_split"
   ]
  },
  {
   "cell_type": "code",
   "execution_count": 2,
   "metadata": {},
   "outputs": [],
   "source": [
    "# load in data sets\n",
    "events = pd.read_csv('events_1_1.csv')\n",
    "iata = pd.read_csv('iata_1_1.csv')"
   ]
  },
  {
   "cell_type": "code",
   "execution_count": 3,
   "metadata": {},
   "outputs": [
    {
     "data": {
      "text/html": [
       "<div>\n",
       "<style scoped>\n",
       "    .dataframe tbody tr th:only-of-type {\n",
       "        vertical-align: middle;\n",
       "    }\n",
       "\n",
       "    .dataframe tbody tr th {\n",
       "        vertical-align: top;\n",
       "    }\n",
       "\n",
       "    .dataframe thead th {\n",
       "        text-align: right;\n",
       "    }\n",
       "</style>\n",
       "<table border=\"1\" class=\"dataframe\">\n",
       "  <thead>\n",
       "    <tr style=\"text-align: right;\">\n",
       "      <th></th>\n",
       "      <th>ts</th>\n",
       "      <th>event_type</th>\n",
       "      <th>user_id</th>\n",
       "      <th>date_from</th>\n",
       "      <th>date_to</th>\n",
       "      <th>origin</th>\n",
       "      <th>destination</th>\n",
       "      <th>num_adults</th>\n",
       "      <th>num_children</th>\n",
       "    </tr>\n",
       "  </thead>\n",
       "  <tbody>\n",
       "    <tr>\n",
       "      <th>0</th>\n",
       "      <td>2017-04-27 11:06:51</td>\n",
       "      <td>search</td>\n",
       "      <td>60225f</td>\n",
       "      <td>2017-06-01</td>\n",
       "      <td>2017-06-07</td>\n",
       "      <td>PAR</td>\n",
       "      <td>NYC</td>\n",
       "      <td>6</td>\n",
       "      <td>1</td>\n",
       "    </tr>\n",
       "    <tr>\n",
       "      <th>1</th>\n",
       "      <td>2017-04-27 20:15:27</td>\n",
       "      <td>book</td>\n",
       "      <td>e5d69e</td>\n",
       "      <td>2017-08-12</td>\n",
       "      <td>2017-09-02</td>\n",
       "      <td>FRA</td>\n",
       "      <td>WAS</td>\n",
       "      <td>3</td>\n",
       "      <td>1</td>\n",
       "    </tr>\n",
       "    <tr>\n",
       "      <th>2</th>\n",
       "      <td>2017-04-27 23:03:43</td>\n",
       "      <td>book</td>\n",
       "      <td>f953f0</td>\n",
       "      <td>2017-10-08</td>\n",
       "      <td>2017-10-11</td>\n",
       "      <td>BER</td>\n",
       "      <td>CGN</td>\n",
       "      <td>2</td>\n",
       "      <td>0</td>\n",
       "    </tr>\n",
       "    <tr>\n",
       "      <th>3</th>\n",
       "      <td>2017-04-27 15:17:50</td>\n",
       "      <td>book</td>\n",
       "      <td>794d35</td>\n",
       "      <td>2017-04-28</td>\n",
       "      <td>2017-05-01</td>\n",
       "      <td>BER</td>\n",
       "      <td>BCN</td>\n",
       "      <td>1</td>\n",
       "      <td>0</td>\n",
       "    </tr>\n",
       "    <tr>\n",
       "      <th>4</th>\n",
       "      <td>2017-04-27 22:51:57</td>\n",
       "      <td>book</td>\n",
       "      <td>ca4f94</td>\n",
       "      <td>2017-05-16</td>\n",
       "      <td>2017-05-22</td>\n",
       "      <td>DEL</td>\n",
       "      <td>BKK</td>\n",
       "      <td>4</td>\n",
       "      <td>0</td>\n",
       "    </tr>\n",
       "  </tbody>\n",
       "</table>\n",
       "</div>"
      ],
      "text/plain": [
       "                    ts event_type user_id   date_from     date_to origin  \\\n",
       "0  2017-04-27 11:06:51     search  60225f  2017-06-01  2017-06-07    PAR   \n",
       "1  2017-04-27 20:15:27       book  e5d69e  2017-08-12  2017-09-02    FRA   \n",
       "2  2017-04-27 23:03:43       book  f953f0  2017-10-08  2017-10-11    BER   \n",
       "3  2017-04-27 15:17:50       book  794d35  2017-04-28  2017-05-01    BER   \n",
       "4  2017-04-27 22:51:57       book  ca4f94  2017-05-16  2017-05-22    DEL   \n",
       "\n",
       "  destination  num_adults  num_children  \n",
       "0         NYC           6             1  \n",
       "1         WAS           3             1  \n",
       "2         CGN           2             0  \n",
       "3         BCN           1             0  \n",
       "4         BKK           4             0  "
      ]
     },
     "execution_count": 3,
     "metadata": {},
     "output_type": "execute_result"
    }
   ],
   "source": [
    "events.head()"
   ]
  },
  {
   "cell_type": "code",
   "execution_count": 4,
   "metadata": {},
   "outputs": [
    {
     "data": {
      "text/plain": [
       "(47007, 9)"
      ]
     },
     "execution_count": 4,
     "metadata": {},
     "output_type": "execute_result"
    }
   ],
   "source": [
    "# expect the shape of the df\n",
    "events.shape"
   ]
  },
  {
   "cell_type": "code",
   "execution_count": 5,
   "metadata": {},
   "outputs": [
    {
     "data": {
      "text/plain": [
       "45898"
      ]
     },
     "execution_count": 5,
     "metadata": {},
     "output_type": "execute_result"
    }
   ],
   "source": [
    "# ensure we don't have duplicates\n",
    "len(events.drop_duplicates())"
   ]
  },
  {
   "cell_type": "code",
   "execution_count": 6,
   "metadata": {},
   "outputs": [],
   "source": [
    "# drop duplicates\n",
    "events = events.drop_duplicates()"
   ]
  },
  {
   "cell_type": "code",
   "execution_count": 7,
   "metadata": {},
   "outputs": [
    {
     "data": {
      "text/plain": [
       "ts               0\n",
       "event_type       0\n",
       "user_id          0\n",
       "date_from       22\n",
       "date_to          3\n",
       "origin           0\n",
       "destination      0\n",
       "num_adults       0\n",
       "num_children     0\n",
       "dtype: int64"
      ]
     },
     "execution_count": 7,
     "metadata": {},
     "output_type": "execute_result"
    }
   ],
   "source": [
    "# check for nulls\n",
    "events.isna().sum()"
   ]
  },
  {
   "cell_type": "code",
   "execution_count": 8,
   "metadata": {},
   "outputs": [],
   "source": [
    "# let's get rid of those few rows which are null\n",
    "events = events.dropna()"
   ]
  },
  {
   "cell_type": "code",
   "execution_count": 9,
   "metadata": {},
   "outputs": [
    {
     "data": {
      "text/plain": [
       "ts              object\n",
       "event_type      object\n",
       "user_id         object\n",
       "date_from       object\n",
       "date_to         object\n",
       "origin          object\n",
       "destination     object\n",
       "num_adults       int64\n",
       "num_children     int64\n",
       "dtype: object"
      ]
     },
     "execution_count": 9,
     "metadata": {},
     "output_type": "execute_result"
    }
   ],
   "source": [
    "# inspect data types\n",
    "events.dtypes"
   ]
  },
  {
   "cell_type": "code",
   "execution_count": 10,
   "metadata": {},
   "outputs": [],
   "source": [
    "# convert timestamps and dates to datetime objects\n",
    "events['ts'] = pd.to_datetime(events['ts'])\n",
    "events['date_from'] = pd.to_datetime(events['date_from'])\n",
    "events['date_to'] = pd.to_datetime(events['date_to'])"
   ]
  },
  {
   "cell_type": "code",
   "execution_count": 11,
   "metadata": {},
   "outputs": [
    {
     "data": {
      "text/plain": [
       "ts              datetime64[ns]\n",
       "event_type              object\n",
       "user_id                 object\n",
       "date_from       datetime64[ns]\n",
       "date_to         datetime64[ns]\n",
       "origin                  object\n",
       "destination             object\n",
       "num_adults               int64\n",
       "num_children             int64\n",
       "dtype: object"
      ]
     },
     "execution_count": 11,
     "metadata": {},
     "output_type": "execute_result"
    }
   ],
   "source": [
    "events.dtypes"
   ]
  },
  {
   "cell_type": "code",
   "execution_count": 12,
   "metadata": {},
   "outputs": [
    {
     "data": {
      "text/html": [
       "<div>\n",
       "<style scoped>\n",
       "    .dataframe tbody tr th:only-of-type {\n",
       "        vertical-align: middle;\n",
       "    }\n",
       "\n",
       "    .dataframe tbody tr th {\n",
       "        vertical-align: top;\n",
       "    }\n",
       "\n",
       "    .dataframe thead th {\n",
       "        text-align: right;\n",
       "    }\n",
       "</style>\n",
       "<table border=\"1\" class=\"dataframe\">\n",
       "  <thead>\n",
       "    <tr style=\"text-align: right;\">\n",
       "      <th></th>\n",
       "      <th>iata_code</th>\n",
       "      <th>lat</th>\n",
       "      <th>lon</th>\n",
       "    </tr>\n",
       "  </thead>\n",
       "  <tbody>\n",
       "    <tr>\n",
       "      <th>0</th>\n",
       "      <td>LON</td>\n",
       "      <td>51.50</td>\n",
       "      <td>-0.17</td>\n",
       "    </tr>\n",
       "    <tr>\n",
       "      <th>1</th>\n",
       "      <td>MOW</td>\n",
       "      <td>55.75</td>\n",
       "      <td>37.70</td>\n",
       "    </tr>\n",
       "    <tr>\n",
       "      <th>2</th>\n",
       "      <td>NYC</td>\n",
       "      <td>40.71</td>\n",
       "      <td>-74.01</td>\n",
       "    </tr>\n",
       "    <tr>\n",
       "      <th>3</th>\n",
       "      <td>PAR</td>\n",
       "      <td>48.85</td>\n",
       "      <td>2.35</td>\n",
       "    </tr>\n",
       "    <tr>\n",
       "      <th>4</th>\n",
       "      <td>IST</td>\n",
       "      <td>41.01</td>\n",
       "      <td>28.95</td>\n",
       "    </tr>\n",
       "  </tbody>\n",
       "</table>\n",
       "</div>"
      ],
      "text/plain": [
       "  iata_code    lat    lon\n",
       "0       LON  51.50  -0.17\n",
       "1       MOW  55.75  37.70\n",
       "2       NYC  40.71 -74.01\n",
       "3       PAR  48.85   2.35\n",
       "4       IST  41.01  28.95"
      ]
     },
     "execution_count": 12,
     "metadata": {},
     "output_type": "execute_result"
    }
   ],
   "source": [
    "iata.head()"
   ]
  },
  {
   "cell_type": "code",
   "execution_count": 13,
   "metadata": {},
   "outputs": [
    {
     "data": {
      "text/plain": [
       "500"
      ]
     },
     "execution_count": 13,
     "metadata": {},
     "output_type": "execute_result"
    }
   ],
   "source": [
    "# check length of df\n",
    "len(iata)"
   ]
  },
  {
   "cell_type": "code",
   "execution_count": 14,
   "metadata": {},
   "outputs": [
    {
     "data": {
      "text/plain": [
       "298"
      ]
     },
     "execution_count": 14,
     "metadata": {},
     "output_type": "execute_result"
    }
   ],
   "source": [
    "# ensure there are no duplicates\n",
    "iata['iata_code'].nunique()"
   ]
  },
  {
   "cell_type": "code",
   "execution_count": 15,
   "metadata": {},
   "outputs": [
    {
     "data": {
      "text/html": [
       "<div>\n",
       "<style scoped>\n",
       "    .dataframe tbody tr th:only-of-type {\n",
       "        vertical-align: middle;\n",
       "    }\n",
       "\n",
       "    .dataframe tbody tr th {\n",
       "        vertical-align: top;\n",
       "    }\n",
       "\n",
       "    .dataframe thead th {\n",
       "        text-align: right;\n",
       "    }\n",
       "</style>\n",
       "<table border=\"1\" class=\"dataframe\">\n",
       "  <thead>\n",
       "    <tr style=\"text-align: right;\">\n",
       "      <th></th>\n",
       "      <th>lat</th>\n",
       "      <th>lon</th>\n",
       "    </tr>\n",
       "  </thead>\n",
       "  <tbody>\n",
       "    <tr>\n",
       "      <th>count</th>\n",
       "      <td>202.000000</td>\n",
       "      <td>202.000000</td>\n",
       "    </tr>\n",
       "    <tr>\n",
       "      <th>mean</th>\n",
       "      <td>0.007327</td>\n",
       "      <td>0.014950</td>\n",
       "    </tr>\n",
       "    <tr>\n",
       "      <th>std</th>\n",
       "      <td>0.108810</td>\n",
       "      <td>0.125814</td>\n",
       "    </tr>\n",
       "    <tr>\n",
       "      <th>min</th>\n",
       "      <td>-0.390000</td>\n",
       "      <td>-0.400000</td>\n",
       "    </tr>\n",
       "    <tr>\n",
       "      <th>25%</th>\n",
       "      <td>-0.050000</td>\n",
       "      <td>-0.060000</td>\n",
       "    </tr>\n",
       "    <tr>\n",
       "      <th>50%</th>\n",
       "      <td>0.000000</td>\n",
       "      <td>0.015000</td>\n",
       "    </tr>\n",
       "    <tr>\n",
       "      <th>75%</th>\n",
       "      <td>0.067500</td>\n",
       "      <td>0.090000</td>\n",
       "    </tr>\n",
       "    <tr>\n",
       "      <th>max</th>\n",
       "      <td>0.460000</td>\n",
       "      <td>0.350000</td>\n",
       "    </tr>\n",
       "  </tbody>\n",
       "</table>\n",
       "</div>"
      ],
      "text/plain": [
       "              lat         lon\n",
       "count  202.000000  202.000000\n",
       "mean     0.007327    0.014950\n",
       "std      0.108810    0.125814\n",
       "min     -0.390000   -0.400000\n",
       "25%     -0.050000   -0.060000\n",
       "50%      0.000000    0.015000\n",
       "75%      0.067500    0.090000\n",
       "max      0.460000    0.350000"
      ]
     },
     "execution_count": 15,
     "metadata": {},
     "output_type": "execute_result"
    }
   ],
   "source": [
    "# let's see how wildly these are varying on average\n",
    "iata.groupby('iata_code').diff().dropna().describe()"
   ]
  },
  {
   "cell_type": "code",
   "execution_count": 16,
   "metadata": {
    "scrolled": false
   },
   "outputs": [
    {
     "data": {
      "text/plain": [
       "array([[<matplotlib.axes._subplots.AxesSubplot object at 0x7f3ddacf55e0>,\n",
       "        <matplotlib.axes._subplots.AxesSubplot object at 0x7f3ddaca2c40>]],\n",
       "      dtype=object)"
      ]
     },
     "execution_count": 16,
     "metadata": {},
     "output_type": "execute_result"
    },
    {
     "data": {
      "image/png": "[encoded data removed]",
      "text/plain": [
       "<Figure size 432x288 with 2 Axes>"
      ]
     },
     "metadata": {
      "needs_background": "light"
     },
     "output_type": "display_data"
    }
   ],
   "source": [
    "iata.groupby('iata_code').diff().dropna().hist()"
   ]
  },
  {
   "cell_type": "markdown",
   "metadata": {},
   "source": [
    "# TODO: update IATA cleaning logic"
   ]
  },
  {
   "cell_type": "code",
   "execution_count": 17,
   "metadata": {},
   "outputs": [],
   "source": [
    "# just taking means for now so i can move forward\n",
    "iata = iata.groupby('iata_code').mean().reset_index()"
   ]
  },
  {
   "cell_type": "code",
   "execution_count": 18,
   "metadata": {},
   "outputs": [
    {
     "data": {
      "text/html": [
       "<div>\n",
       "<style scoped>\n",
       "    .dataframe tbody tr th:only-of-type {\n",
       "        vertical-align: middle;\n",
       "    }\n",
       "\n",
       "    .dataframe tbody tr th {\n",
       "        vertical-align: top;\n",
       "    }\n",
       "\n",
       "    .dataframe thead th {\n",
       "        text-align: right;\n",
       "    }\n",
       "</style>\n",
       "<table border=\"1\" class=\"dataframe\">\n",
       "  <thead>\n",
       "    <tr style=\"text-align: right;\">\n",
       "      <th></th>\n",
       "      <th>lat</th>\n",
       "      <th>lon</th>\n",
       "    </tr>\n",
       "  </thead>\n",
       "  <tbody>\n",
       "  </tbody>\n",
       "</table>\n",
       "</div>"
      ],
      "text/plain": [
       "Empty DataFrame\n",
       "Columns: [lat, lon]\n",
       "Index: []"
      ]
     },
     "execution_count": 18,
     "metadata": {},
     "output_type": "execute_result"
    }
   ],
   "source": [
    "iata.groupby('iata_code').diff().dropna().sort_values(by=['lon'])"
   ]
  },
  {
   "cell_type": "code",
   "execution_count": 19,
   "metadata": {},
   "outputs": [
    {
     "data": {
      "text/html": [
       "<div>\n",
       "<style scoped>\n",
       "    .dataframe tbody tr th:only-of-type {\n",
       "        vertical-align: middle;\n",
       "    }\n",
       "\n",
       "    .dataframe tbody tr th {\n",
       "        vertical-align: top;\n",
       "    }\n",
       "\n",
       "    .dataframe thead th {\n",
       "        text-align: right;\n",
       "    }\n",
       "</style>\n",
       "<table border=\"1\" class=\"dataframe\">\n",
       "  <thead>\n",
       "    <tr style=\"text-align: right;\">\n",
       "      <th></th>\n",
       "      <th>iata_code</th>\n",
       "      <th>lat</th>\n",
       "      <th>lon</th>\n",
       "    </tr>\n",
       "  </thead>\n",
       "  <tbody>\n",
       "    <tr>\n",
       "      <th>148</th>\n",
       "      <td>LHW</td>\n",
       "      <td>36.29</td>\n",
       "      <td>103.73</td>\n",
       "    </tr>\n",
       "  </tbody>\n",
       "</table>\n",
       "</div>"
      ],
      "text/plain": [
       "    iata_code    lat     lon\n",
       "148       LHW  36.29  103.73"
      ]
     },
     "execution_count": 19,
     "metadata": {},
     "output_type": "execute_result"
    }
   ],
   "source": [
    "iata[iata['iata_code']=='LHW']"
   ]
  },
  {
   "cell_type": "code",
   "execution_count": 20,
   "metadata": {},
   "outputs": [],
   "source": [
    "# merge IATA code dataframe twice; once for origin, once for destination\n",
    "\n",
    "events = events.merge(iata, left_on='origin', right_on='iata_code')\n",
    "events = events.rename(columns = {'lat':'origin_lat', 'lon':'origin_lon'})\n",
    "events.drop(columns='iata_code', inplace=True)\n",
    "\n",
    "events = events.merge(iata, left_on='destination', right_on='iata_code')\n",
    "events = events.rename(columns = {'lat':'dest_lat', 'lon':'dest_lon'})\n",
    "events.drop(columns='iata_code', inplace=True)"
   ]
  },
  {
   "cell_type": "code",
   "execution_count": 21,
   "metadata": {},
   "outputs": [],
   "source": [
    "# sort values for easier interpretation\n",
    "events.sort_values(by=['user_id', 'ts'], inplace=True)"
   ]
  },
  {
   "cell_type": "code",
   "execution_count": 22,
   "metadata": {},
   "outputs": [
    {
     "data": {
      "text/html": [
       "<div>\n",
       "<style scoped>\n",
       "    .dataframe tbody tr th:only-of-type {\n",
       "        vertical-align: middle;\n",
       "    }\n",
       "\n",
       "    .dataframe tbody tr th {\n",
       "        vertical-align: top;\n",
       "    }\n",
       "\n",
       "    .dataframe thead th {\n",
       "        text-align: right;\n",
       "    }\n",
       "</style>\n",
       "<table border=\"1\" class=\"dataframe\">\n",
       "  <thead>\n",
       "    <tr style=\"text-align: right;\">\n",
       "      <th></th>\n",
       "      <th>ts</th>\n",
       "      <th>event_type</th>\n",
       "      <th>user_id</th>\n",
       "      <th>date_from</th>\n",
       "      <th>date_to</th>\n",
       "      <th>origin</th>\n",
       "      <th>destination</th>\n",
       "      <th>num_adults</th>\n",
       "      <th>num_children</th>\n",
       "      <th>origin_lat</th>\n",
       "      <th>origin_lon</th>\n",
       "      <th>dest_lat</th>\n",
       "      <th>dest_lon</th>\n",
       "    </tr>\n",
       "  </thead>\n",
       "  <tbody>\n",
       "    <tr>\n",
       "      <th>15155</th>\n",
       "      <td>2017-04-29 17:59:51</td>\n",
       "      <td>search</td>\n",
       "      <td>000069</td>\n",
       "      <td>2017-05-10</td>\n",
       "      <td>2017-05-26</td>\n",
       "      <td>FRA</td>\n",
       "      <td>ALG</td>\n",
       "      <td>2</td>\n",
       "      <td>3</td>\n",
       "      <td>50.08</td>\n",
       "      <td>8.620</td>\n",
       "      <td>36.725</td>\n",
       "      <td>3.125</td>\n",
       "    </tr>\n",
       "    <tr>\n",
       "      <th>35012</th>\n",
       "      <td>2017-04-28 19:14:23</td>\n",
       "      <td>search</td>\n",
       "      <td>00019d</td>\n",
       "      <td>2017-09-15</td>\n",
       "      <td>2017-10-13</td>\n",
       "      <td>PAR</td>\n",
       "      <td>SSA</td>\n",
       "      <td>4</td>\n",
       "      <td>0</td>\n",
       "      <td>48.85</td>\n",
       "      <td>2.350</td>\n",
       "      <td>-12.940</td>\n",
       "      <td>-38.420</td>\n",
       "    </tr>\n",
       "    <tr>\n",
       "      <th>1981</th>\n",
       "      <td>2017-04-24 21:25:10</td>\n",
       "      <td>search</td>\n",
       "      <td>0002e3</td>\n",
       "      <td>2017-05-01</td>\n",
       "      <td>2017-05-01</td>\n",
       "      <td>PAR</td>\n",
       "      <td>ATH</td>\n",
       "      <td>1</td>\n",
       "      <td>0</td>\n",
       "      <td>48.85</td>\n",
       "      <td>2.350</td>\n",
       "      <td>37.960</td>\n",
       "      <td>23.830</td>\n",
       "    </tr>\n",
       "    <tr>\n",
       "      <th>10897</th>\n",
       "      <td>2017-04-27 16:34:02</td>\n",
       "      <td>search</td>\n",
       "      <td>000332</td>\n",
       "      <td>2017-06-08</td>\n",
       "      <td>2017-07-07</td>\n",
       "      <td>NCE</td>\n",
       "      <td>TLV</td>\n",
       "      <td>1</td>\n",
       "      <td>0</td>\n",
       "      <td>43.68</td>\n",
       "      <td>7.245</td>\n",
       "      <td>32.045</td>\n",
       "      <td>34.835</td>\n",
       "    </tr>\n",
       "    <tr>\n",
       "      <th>10896</th>\n",
       "      <td>2017-04-27 16:35:35</td>\n",
       "      <td>search</td>\n",
       "      <td>000332</td>\n",
       "      <td>2017-06-08</td>\n",
       "      <td>2017-07-07</td>\n",
       "      <td>NCE</td>\n",
       "      <td>TLV</td>\n",
       "      <td>1</td>\n",
       "      <td>0</td>\n",
       "      <td>43.68</td>\n",
       "      <td>7.245</td>\n",
       "      <td>32.045</td>\n",
       "      <td>34.835</td>\n",
       "    </tr>\n",
       "  </tbody>\n",
       "</table>\n",
       "</div>"
      ],
      "text/plain": [
       "                       ts event_type user_id  date_from    date_to origin  \\\n",
       "15155 2017-04-29 17:59:51     search  000069 2017-05-10 2017-05-26    FRA   \n",
       "35012 2017-04-28 19:14:23     search  00019d 2017-09-15 2017-10-13    PAR   \n",
       "1981  2017-04-24 21:25:10     search  0002e3 2017-05-01 2017-05-01    PAR   \n",
       "10897 2017-04-27 16:34:02     search  000332 2017-06-08 2017-07-07    NCE   \n",
       "10896 2017-04-27 16:35:35     search  000332 2017-06-08 2017-07-07    NCE   \n",
       "\n",
       "      destination  num_adults  num_children  origin_lat  origin_lon  dest_lat  \\\n",
       "15155         ALG           2             3       50.08       8.620    36.725   \n",
       "35012         SSA           4             0       48.85       2.350   -12.940   \n",
       "1981          ATH           1             0       48.85       2.350    37.960   \n",
       "10897         TLV           1             0       43.68       7.245    32.045   \n",
       "10896         TLV           1             0       43.68       7.245    32.045   \n",
       "\n",
       "       dest_lon  \n",
       "15155     3.125  \n",
       "35012   -38.420  \n",
       "1981     23.830  \n",
       "10897    34.835  \n",
       "10896    34.835  "
      ]
     },
     "execution_count": 22,
     "metadata": {},
     "output_type": "execute_result"
    }
   ],
   "source": [
    "events.head()"
   ]
  },
  {
   "cell_type": "code",
   "execution_count": 26,
   "metadata": {},
   "outputs": [
    {
     "data": {
      "text/plain": [
       "array(['search', 'book'], dtype=object)"
      ]
     },
     "execution_count": 26,
     "metadata": {},
     "output_type": "execute_result"
    }
   ],
   "source": [
    "# let's see what event types are available\n",
    "events['event_type'].unique()"
   ]
  },
  {
   "cell_type": "code",
   "execution_count": 27,
   "metadata": {},
   "outputs": [],
   "source": [
    "# let's encode these. this will be our target variable\n",
    "events['target'] = events['event_type'].apply(lambda x: 1 if x =='book' else 0)"
   ]
  },
  {
   "cell_type": "code",
   "execution_count": 28,
   "metadata": {},
   "outputs": [
    {
     "data": {
      "text/plain": [
       "0.03938878716540239"
      ]
     },
     "execution_count": 28,
     "metadata": {},
     "output_type": "execute_result"
    }
   ],
   "source": [
    "# what is our balance of classes?\n",
    "\n",
    "events['target'].sum()/len(events)"
   ]
  },
  {
   "cell_type": "code",
   "execution_count": 29,
   "metadata": {},
   "outputs": [
    {
     "data": {
      "text/html": [
       "<div>\n",
       "<style scoped>\n",
       "    .dataframe tbody tr th:only-of-type {\n",
       "        vertical-align: middle;\n",
       "    }\n",
       "\n",
       "    .dataframe tbody tr th {\n",
       "        vertical-align: top;\n",
       "    }\n",
       "\n",
       "    .dataframe thead th {\n",
       "        text-align: right;\n",
       "    }\n",
       "</style>\n",
       "<table border=\"1\" class=\"dataframe\">\n",
       "  <thead>\n",
       "    <tr style=\"text-align: right;\">\n",
       "      <th></th>\n",
       "      <th>ts</th>\n",
       "      <th>event_type</th>\n",
       "      <th>user_id</th>\n",
       "      <th>date_from</th>\n",
       "      <th>date_to</th>\n",
       "      <th>origin</th>\n",
       "      <th>destination</th>\n",
       "      <th>num_adults</th>\n",
       "      <th>num_children</th>\n",
       "      <th>origin_lat</th>\n",
       "      <th>origin_lon</th>\n",
       "      <th>dest_lat</th>\n",
       "      <th>dest_lon</th>\n",
       "      <th>distance</th>\n",
       "      <th>target</th>\n",
       "    </tr>\n",
       "  </thead>\n",
       "  <tbody>\n",
       "    <tr>\n",
       "      <th>15155</th>\n",
       "      <td>2017-04-29 17:59:51</td>\n",
       "      <td>search</td>\n",
       "      <td>000069</td>\n",
       "      <td>2017-05-10</td>\n",
       "      <td>2017-05-26</td>\n",
       "      <td>FRA</td>\n",
       "      <td>ALG</td>\n",
       "      <td>2</td>\n",
       "      <td>3</td>\n",
       "      <td>50.08</td>\n",
       "      <td>8.620</td>\n",
       "      <td>36.725</td>\n",
       "      <td>3.125</td>\n",
       "      <td>1549</td>\n",
       "      <td>0</td>\n",
       "    </tr>\n",
       "    <tr>\n",
       "      <th>35012</th>\n",
       "      <td>2017-04-28 19:14:23</td>\n",
       "      <td>search</td>\n",
       "      <td>00019d</td>\n",
       "      <td>2017-09-15</td>\n",
       "      <td>2017-10-13</td>\n",
       "      <td>PAR</td>\n",
       "      <td>SSA</td>\n",
       "      <td>4</td>\n",
       "      <td>0</td>\n",
       "      <td>48.85</td>\n",
       "      <td>2.350</td>\n",
       "      <td>-12.940</td>\n",
       "      <td>-38.420</td>\n",
       "      <td>7952</td>\n",
       "      <td>0</td>\n",
       "    </tr>\n",
       "    <tr>\n",
       "      <th>1981</th>\n",
       "      <td>2017-04-24 21:25:10</td>\n",
       "      <td>search</td>\n",
       "      <td>0002e3</td>\n",
       "      <td>2017-05-01</td>\n",
       "      <td>2017-05-01</td>\n",
       "      <td>PAR</td>\n",
       "      <td>ATH</td>\n",
       "      <td>1</td>\n",
       "      <td>0</td>\n",
       "      <td>48.85</td>\n",
       "      <td>2.350</td>\n",
       "      <td>37.960</td>\n",
       "      <td>23.830</td>\n",
       "      <td>2104</td>\n",
       "      <td>0</td>\n",
       "    </tr>\n",
       "    <tr>\n",
       "      <th>10897</th>\n",
       "      <td>2017-04-27 16:34:02</td>\n",
       "      <td>search</td>\n",
       "      <td>000332</td>\n",
       "      <td>2017-06-08</td>\n",
       "      <td>2017-07-07</td>\n",
       "      <td>NCE</td>\n",
       "      <td>TLV</td>\n",
       "      <td>1</td>\n",
       "      <td>0</td>\n",
       "      <td>43.68</td>\n",
       "      <td>7.245</td>\n",
       "      <td>32.045</td>\n",
       "      <td>34.835</td>\n",
       "      <td>2728</td>\n",
       "      <td>0</td>\n",
       "    </tr>\n",
       "    <tr>\n",
       "      <th>10896</th>\n",
       "      <td>2017-04-27 16:35:35</td>\n",
       "      <td>search</td>\n",
       "      <td>000332</td>\n",
       "      <td>2017-06-08</td>\n",
       "      <td>2017-07-07</td>\n",
       "      <td>NCE</td>\n",
       "      <td>TLV</td>\n",
       "      <td>1</td>\n",
       "      <td>0</td>\n",
       "      <td>43.68</td>\n",
       "      <td>7.245</td>\n",
       "      <td>32.045</td>\n",
       "      <td>34.835</td>\n",
       "      <td>2728</td>\n",
       "      <td>0</td>\n",
       "    </tr>\n",
       "  </tbody>\n",
       "</table>\n",
       "</div>"
      ],
      "text/plain": [
       "                       ts event_type user_id  date_from    date_to origin  \\\n",
       "15155 2017-04-29 17:59:51     search  000069 2017-05-10 2017-05-26    FRA   \n",
       "35012 2017-04-28 19:14:23     search  00019d 2017-09-15 2017-10-13    PAR   \n",
       "1981  2017-04-24 21:25:10     search  0002e3 2017-05-01 2017-05-01    PAR   \n",
       "10897 2017-04-27 16:34:02     search  000332 2017-06-08 2017-07-07    NCE   \n",
       "10896 2017-04-27 16:35:35     search  000332 2017-06-08 2017-07-07    NCE   \n",
       "\n",
       "      destination  num_adults  num_children  origin_lat  origin_lon  dest_lat  \\\n",
       "15155         ALG           2             3       50.08       8.620    36.725   \n",
       "35012         SSA           4             0       48.85       2.350   -12.940   \n",
       "1981          ATH           1             0       48.85       2.350    37.960   \n",
       "10897         TLV           1             0       43.68       7.245    32.045   \n",
       "10896         TLV           1             0       43.68       7.245    32.045   \n",
       "\n",
       "       dest_lon  distance  target  \n",
       "15155     3.125      1549       0  \n",
       "35012   -38.420      7952       0  \n",
       "1981     23.830      2104       0  \n",
       "10897    34.835      2728       0  \n",
       "10896    34.835      2728       0  "
      ]
     },
     "execution_count": 29,
     "metadata": {},
     "output_type": "execute_result"
    }
   ],
   "source": [
    "events.head()"
   ]
  },
  {
   "cell_type": "code",
   "execution_count": 30,
   "metadata": {},
   "outputs": [
    {
     "data": {
      "text/plain": [
       "31165"
      ]
     },
     "execution_count": 30,
     "metadata": {},
     "output_type": "execute_result"
    }
   ],
   "source": [
    "events['user_id'].nunique()"
   ]
  },
  {
   "cell_type": "code",
   "execution_count": 31,
   "metadata": {},
   "outputs": [
    {
     "data": {
      "text/html": [
       "<div>\n",
       "<style scoped>\n",
       "    .dataframe tbody tr th:only-of-type {\n",
       "        vertical-align: middle;\n",
       "    }\n",
       "\n",
       "    .dataframe tbody tr th {\n",
       "        vertical-align: top;\n",
       "    }\n",
       "\n",
       "    .dataframe thead th {\n",
       "        text-align: right;\n",
       "    }\n",
       "</style>\n",
       "<table border=\"1\" class=\"dataframe\">\n",
       "  <thead>\n",
       "    <tr style=\"text-align: right;\">\n",
       "      <th></th>\n",
       "      <th>num_adults</th>\n",
       "      <th>num_children</th>\n",
       "      <th>origin_lat</th>\n",
       "      <th>origin_lon</th>\n",
       "      <th>dest_lat</th>\n",
       "      <th>dest_lon</th>\n",
       "      <th>distance</th>\n",
       "      <th>target</th>\n",
       "    </tr>\n",
       "  </thead>\n",
       "  <tbody>\n",
       "    <tr>\n",
       "      <th>count</th>\n",
       "      <td>45876.000000</td>\n",
       "      <td>45876.000000</td>\n",
       "      <td>45876.000000</td>\n",
       "      <td>45876.000000</td>\n",
       "      <td>45876.000000</td>\n",
       "      <td>45876.000000</td>\n",
       "      <td>45876.000000</td>\n",
       "      <td>45876.000000</td>\n",
       "    </tr>\n",
       "    <tr>\n",
       "      <th>mean</th>\n",
       "      <td>1.675931</td>\n",
       "      <td>0.146133</td>\n",
       "      <td>47.942455</td>\n",
       "      <td>8.343125</td>\n",
       "      <td>37.768583</td>\n",
       "      <td>9.900193</td>\n",
       "      <td>3235.466889</td>\n",
       "      <td>0.039389</td>\n",
       "    </tr>\n",
       "    <tr>\n",
       "      <th>std</th>\n",
       "      <td>0.987431</td>\n",
       "      <td>0.477010</td>\n",
       "      <td>8.590077</td>\n",
       "      <td>21.079646</td>\n",
       "      <td>17.651020</td>\n",
       "      <td>51.943529</td>\n",
       "      <td>3551.107756</td>\n",
       "      <td>0.194520</td>\n",
       "    </tr>\n",
       "    <tr>\n",
       "      <th>min</th>\n",
       "      <td>1.000000</td>\n",
       "      <td>0.000000</td>\n",
       "      <td>-43.510000</td>\n",
       "      <td>-157.925000</td>\n",
       "      <td>-43.510000</td>\n",
       "      <td>-157.925000</td>\n",
       "      <td>9.000000</td>\n",
       "      <td>0.000000</td>\n",
       "    </tr>\n",
       "    <tr>\n",
       "      <th>25%</th>\n",
       "      <td>1.000000</td>\n",
       "      <td>0.000000</td>\n",
       "      <td>48.245000</td>\n",
       "      <td>4.415000</td>\n",
       "      <td>36.695000</td>\n",
       "      <td>-3.285000</td>\n",
       "      <td>836.000000</td>\n",
       "      <td>0.000000</td>\n",
       "    </tr>\n",
       "    <tr>\n",
       "      <th>50%</th>\n",
       "      <td>1.000000</td>\n",
       "      <td>0.000000</td>\n",
       "      <td>48.850000</td>\n",
       "      <td>8.620000</td>\n",
       "      <td>41.010000</td>\n",
       "      <td>7.245000</td>\n",
       "      <td>1574.000000</td>\n",
       "      <td>0.000000</td>\n",
       "    </tr>\n",
       "    <tr>\n",
       "      <th>75%</th>\n",
       "      <td>2.000000</td>\n",
       "      <td>0.000000</td>\n",
       "      <td>51.250000</td>\n",
       "      <td>10.005000</td>\n",
       "      <td>48.850000</td>\n",
       "      <td>27.140000</td>\n",
       "      <td>5250.000000</td>\n",
       "      <td>0.000000</td>\n",
       "    </tr>\n",
       "    <tr>\n",
       "      <th>max</th>\n",
       "      <td>9.000000</td>\n",
       "      <td>5.000000</td>\n",
       "      <td>64.130000</td>\n",
       "      <td>177.430000</td>\n",
       "      <td>64.825000</td>\n",
       "      <td>177.430000</td>\n",
       "      <td>19433.000000</td>\n",
       "      <td>1.000000</td>\n",
       "    </tr>\n",
       "  </tbody>\n",
       "</table>\n",
       "</div>"
      ],
      "text/plain": [
       "         num_adults  num_children    origin_lat    origin_lon      dest_lat  \\\n",
       "count  45876.000000  45876.000000  45876.000000  45876.000000  45876.000000   \n",
       "mean       1.675931      0.146133     47.942455      8.343125     37.768583   \n",
       "std        0.987431      0.477010      8.590077     21.079646     17.651020   \n",
       "min        1.000000      0.000000    -43.510000   -157.925000    -43.510000   \n",
       "25%        1.000000      0.000000     48.245000      4.415000     36.695000   \n",
       "50%        1.000000      0.000000     48.850000      8.620000     41.010000   \n",
       "75%        2.000000      0.000000     51.250000     10.005000     48.850000   \n",
       "max        9.000000      5.000000     64.130000    177.430000     64.825000   \n",
       "\n",
       "           dest_lon      distance        target  \n",
       "count  45876.000000  45876.000000  45876.000000  \n",
       "mean       9.900193   3235.466889      0.039389  \n",
       "std       51.943529   3551.107756      0.194520  \n",
       "min     -157.925000      9.000000      0.000000  \n",
       "25%       -3.285000    836.000000      0.000000  \n",
       "50%        7.245000   1574.000000      0.000000  \n",
       "75%       27.140000   5250.000000      0.000000  \n",
       "max      177.430000  19433.000000      1.000000  "
      ]
     },
     "execution_count": 31,
     "metadata": {},
     "output_type": "execute_result"
    }
   ],
   "source": [
    "events.describe()"
   ]
  },
  {
   "cell_type": "code",
   "execution_count": 32,
   "metadata": {},
   "outputs": [
    {
     "data": {
      "text/plain": [
       "count    31165.000000\n",
       "mean         1.472036\n",
       "std          1.115935\n",
       "min          1.000000\n",
       "25%          1.000000\n",
       "50%          1.000000\n",
       "75%          2.000000\n",
       "max         24.000000\n",
       "Name: ts, dtype: float64"
      ]
     },
     "execution_count": 32,
     "metadata": {},
     "output_type": "execute_result"
    }
   ],
   "source": [
    "events.groupby('user_id')['ts'].count().describe()"
   ]
  },
  {
   "cell_type": "code",
   "execution_count": 33,
   "metadata": {
    "scrolled": false
   },
   "outputs": [
    {
     "data": {
      "text/html": [
       "<div>\n",
       "<style scoped>\n",
       "    .dataframe tbody tr th:only-of-type {\n",
       "        vertical-align: middle;\n",
       "    }\n",
       "\n",
       "    .dataframe tbody tr th {\n",
       "        vertical-align: top;\n",
       "    }\n",
       "\n",
       "    .dataframe thead th {\n",
       "        text-align: right;\n",
       "    }\n",
       "</style>\n",
       "<table border=\"1\" class=\"dataframe\">\n",
       "  <thead>\n",
       "    <tr style=\"text-align: right;\">\n",
       "      <th></th>\n",
       "      <th>ts</th>\n",
       "      <th>event_type</th>\n",
       "      <th>user_id</th>\n",
       "      <th>date_from</th>\n",
       "      <th>date_to</th>\n",
       "      <th>origin</th>\n",
       "      <th>destination</th>\n",
       "      <th>num_adults</th>\n",
       "      <th>num_children</th>\n",
       "      <th>origin_lat</th>\n",
       "      <th>origin_lon</th>\n",
       "      <th>dest_lat</th>\n",
       "      <th>dest_lon</th>\n",
       "      <th>distance</th>\n",
       "      <th>target</th>\n",
       "    </tr>\n",
       "  </thead>\n",
       "  <tbody>\n",
       "    <tr>\n",
       "      <th>15155</th>\n",
       "      <td>2017-04-29 17:59:51</td>\n",
       "      <td>search</td>\n",
       "      <td>000069</td>\n",
       "      <td>2017-05-10</td>\n",
       "      <td>2017-05-26</td>\n",
       "      <td>FRA</td>\n",
       "      <td>ALG</td>\n",
       "      <td>2</td>\n",
       "      <td>3</td>\n",
       "      <td>50.08</td>\n",
       "      <td>8.620</td>\n",
       "      <td>36.725</td>\n",
       "      <td>3.125</td>\n",
       "      <td>1549</td>\n",
       "      <td>0</td>\n",
       "    </tr>\n",
       "    <tr>\n",
       "      <th>35012</th>\n",
       "      <td>2017-04-28 19:14:23</td>\n",
       "      <td>search</td>\n",
       "      <td>00019d</td>\n",
       "      <td>2017-09-15</td>\n",
       "      <td>2017-10-13</td>\n",
       "      <td>PAR</td>\n",
       "      <td>SSA</td>\n",
       "      <td>4</td>\n",
       "      <td>0</td>\n",
       "      <td>48.85</td>\n",
       "      <td>2.350</td>\n",
       "      <td>-12.940</td>\n",
       "      <td>-38.420</td>\n",
       "      <td>7952</td>\n",
       "      <td>0</td>\n",
       "    </tr>\n",
       "    <tr>\n",
       "      <th>1981</th>\n",
       "      <td>2017-04-24 21:25:10</td>\n",
       "      <td>search</td>\n",
       "      <td>0002e3</td>\n",
       "      <td>2017-05-01</td>\n",
       "      <td>2017-05-01</td>\n",
       "      <td>PAR</td>\n",
       "      <td>ATH</td>\n",
       "      <td>1</td>\n",
       "      <td>0</td>\n",
       "      <td>48.85</td>\n",
       "      <td>2.350</td>\n",
       "      <td>37.960</td>\n",
       "      <td>23.830</td>\n",
       "      <td>2104</td>\n",
       "      <td>0</td>\n",
       "    </tr>\n",
       "    <tr>\n",
       "      <th>10897</th>\n",
       "      <td>2017-04-27 16:34:02</td>\n",
       "      <td>search</td>\n",
       "      <td>000332</td>\n",
       "      <td>2017-06-08</td>\n",
       "      <td>2017-07-07</td>\n",
       "      <td>NCE</td>\n",
       "      <td>TLV</td>\n",
       "      <td>1</td>\n",
       "      <td>0</td>\n",
       "      <td>43.68</td>\n",
       "      <td>7.245</td>\n",
       "      <td>32.045</td>\n",
       "      <td>34.835</td>\n",
       "      <td>2728</td>\n",
       "      <td>0</td>\n",
       "    </tr>\n",
       "    <tr>\n",
       "      <th>10896</th>\n",
       "      <td>2017-04-27 16:35:35</td>\n",
       "      <td>search</td>\n",
       "      <td>000332</td>\n",
       "      <td>2017-06-08</td>\n",
       "      <td>2017-07-07</td>\n",
       "      <td>NCE</td>\n",
       "      <td>TLV</td>\n",
       "      <td>1</td>\n",
       "      <td>0</td>\n",
       "      <td>43.68</td>\n",
       "      <td>7.245</td>\n",
       "      <td>32.045</td>\n",
       "      <td>34.835</td>\n",
       "      <td>2728</td>\n",
       "      <td>0</td>\n",
       "    </tr>\n",
       "  </tbody>\n",
       "</table>\n",
       "</div>"
      ],
      "text/plain": [
       "                       ts event_type user_id  date_from    date_to origin  \\\n",
       "15155 2017-04-29 17:59:51     search  000069 2017-05-10 2017-05-26    FRA   \n",
       "35012 2017-04-28 19:14:23     search  00019d 2017-09-15 2017-10-13    PAR   \n",
       "1981  2017-04-24 21:25:10     search  0002e3 2017-05-01 2017-05-01    PAR   \n",
       "10897 2017-04-27 16:34:02     search  000332 2017-06-08 2017-07-07    NCE   \n",
       "10896 2017-04-27 16:35:35     search  000332 2017-06-08 2017-07-07    NCE   \n",
       "\n",
       "      destination  num_adults  num_children  origin_lat  origin_lon  dest_lat  \\\n",
       "15155         ALG           2             3       50.08       8.620    36.725   \n",
       "35012         SSA           4             0       48.85       2.350   -12.940   \n",
       "1981          ATH           1             0       48.85       2.350    37.960   \n",
       "10897         TLV           1             0       43.68       7.245    32.045   \n",
       "10896         TLV           1             0       43.68       7.245    32.045   \n",
       "\n",
       "       dest_lon  distance  target  \n",
       "15155     3.125      1549       0  \n",
       "35012   -38.420      7952       0  \n",
       "1981     23.830      2104       0  \n",
       "10897    34.835      2728       0  \n",
       "10896    34.835      2728       0  "
      ]
     },
     "execution_count": 33,
     "metadata": {},
     "output_type": "execute_result"
    }
   ],
   "source": [
    "events.head()"
   ]
  },
  {
   "cell_type": "markdown",
   "metadata": {},
   "source": [
    "# Adding some features"
   ]
  },
  {
   "cell_type": "code",
   "execution_count": null,
   "metadata": {},
   "outputs": [],
   "source": [
    "# haversine formula to calculate distance between origin and destination\n",
    "def haversine(lat1, lon1, lat2, lon2):\n",
    "    \"\"\"\n",
    "    Determines the great-circle distance between two points \n",
    "    on a sphere given their longitudes and latitudes.\n",
    "    \"\"\"\n",
    "    # convert decimal degrees to radians \n",
    "    lon1, lat1, lon2, lat2 = map(radians, [lon1, lat1, lon2, lat2])\n",
    "\n",
    "    # haversine formula \n",
    "    dlon = lon2 - lon1 \n",
    "    dlat = lat2 - lat1 \n",
    "    a = sin(dlat/2)**2 + cos(lat1) * cos(lat2) * sin(dlon/2)**2\n",
    "    c = 2 * asin(sqrt(a)) \n",
    "    r = 6371 # radius of earth in km\n",
    "    return round(c * r)"
   ]
  },
  {
   "cell_type": "code",
   "execution_count": null,
   "metadata": {},
   "outputs": [],
   "source": [
    "# add haversine distance between origin and destination\n",
    "\n",
    "events['distance'] = events.apply(lambda row: haversine(row['origin_lat'],\n",
    "                                                        row['origin_lon'],\n",
    "                                                        row['dest_lat'],\n",
    "                                                        row['dest_lon']),\n",
    "                                  axis=1)"
   ]
  },
  {
   "cell_type": "code",
   "execution_count": 34,
   "metadata": {},
   "outputs": [],
   "source": [
    "# this represents the number of times that customer has visited\n",
    "events['num_visits'] = events.groupby(\"user_id\")[\"ts\"].rank(\"dense\")"
   ]
  },
  {
   "cell_type": "code",
   "execution_count": 71,
   "metadata": {},
   "outputs": [],
   "source": [
    "# number of days to arrival\n",
    "events['days_to_arrival'] = (events['date_from'] - events['ts']).apply(lambda l: int(l/pd.Timedelta('1 hour')/24))"
   ]
  },
  {
   "cell_type": "code",
   "execution_count": 38,
   "metadata": {},
   "outputs": [],
   "source": [
    "# length of customer stay/holiday\n",
    "events['length_of_stay'] = (events['date_to'] - events['date_from']).apply(lambda l: l.days)"
   ]
  },
  {
   "cell_type": "code",
   "execution_count": 39,
   "metadata": {},
   "outputs": [
    {
     "data": {
      "text/html": [
       "<div>\n",
       "<style scoped>\n",
       "    .dataframe tbody tr th:only-of-type {\n",
       "        vertical-align: middle;\n",
       "    }\n",
       "\n",
       "    .dataframe tbody tr th {\n",
       "        vertical-align: top;\n",
       "    }\n",
       "\n",
       "    .dataframe thead th {\n",
       "        text-align: right;\n",
       "    }\n",
       "</style>\n",
       "<table border=\"1\" class=\"dataframe\">\n",
       "  <thead>\n",
       "    <tr style=\"text-align: right;\">\n",
       "      <th></th>\n",
       "      <th>ts</th>\n",
       "      <th>event_type</th>\n",
       "      <th>user_id</th>\n",
       "      <th>date_from</th>\n",
       "      <th>date_to</th>\n",
       "      <th>origin</th>\n",
       "      <th>destination</th>\n",
       "      <th>num_adults</th>\n",
       "      <th>num_children</th>\n",
       "      <th>origin_lat</th>\n",
       "      <th>origin_lon</th>\n",
       "      <th>dest_lat</th>\n",
       "      <th>dest_lon</th>\n",
       "      <th>distance</th>\n",
       "      <th>target</th>\n",
       "      <th>num_visits</th>\n",
       "      <th>days_to_arrival</th>\n",
       "      <th>length_of_stay</th>\n",
       "    </tr>\n",
       "  </thead>\n",
       "  <tbody>\n",
       "    <tr>\n",
       "      <th>15155</th>\n",
       "      <td>2017-04-29 17:59:51</td>\n",
       "      <td>search</td>\n",
       "      <td>000069</td>\n",
       "      <td>2017-05-10</td>\n",
       "      <td>2017-05-26</td>\n",
       "      <td>FRA</td>\n",
       "      <td>ALG</td>\n",
       "      <td>2</td>\n",
       "      <td>3</td>\n",
       "      <td>50.08</td>\n",
       "      <td>8.620</td>\n",
       "      <td>36.725</td>\n",
       "      <td>3.125</td>\n",
       "      <td>1549</td>\n",
       "      <td>0</td>\n",
       "      <td>1.0</td>\n",
       "      <td>10</td>\n",
       "      <td>16</td>\n",
       "    </tr>\n",
       "    <tr>\n",
       "      <th>35012</th>\n",
       "      <td>2017-04-28 19:14:23</td>\n",
       "      <td>search</td>\n",
       "      <td>00019d</td>\n",
       "      <td>2017-09-15</td>\n",
       "      <td>2017-10-13</td>\n",
       "      <td>PAR</td>\n",
       "      <td>SSA</td>\n",
       "      <td>4</td>\n",
       "      <td>0</td>\n",
       "      <td>48.85</td>\n",
       "      <td>2.350</td>\n",
       "      <td>-12.940</td>\n",
       "      <td>-38.420</td>\n",
       "      <td>7952</td>\n",
       "      <td>0</td>\n",
       "      <td>1.0</td>\n",
       "      <td>139</td>\n",
       "      <td>28</td>\n",
       "    </tr>\n",
       "    <tr>\n",
       "      <th>1981</th>\n",
       "      <td>2017-04-24 21:25:10</td>\n",
       "      <td>search</td>\n",
       "      <td>0002e3</td>\n",
       "      <td>2017-05-01</td>\n",
       "      <td>2017-05-01</td>\n",
       "      <td>PAR</td>\n",
       "      <td>ATH</td>\n",
       "      <td>1</td>\n",
       "      <td>0</td>\n",
       "      <td>48.85</td>\n",
       "      <td>2.350</td>\n",
       "      <td>37.960</td>\n",
       "      <td>23.830</td>\n",
       "      <td>2104</td>\n",
       "      <td>0</td>\n",
       "      <td>1.0</td>\n",
       "      <td>6</td>\n",
       "      <td>0</td>\n",
       "    </tr>\n",
       "    <tr>\n",
       "      <th>10897</th>\n",
       "      <td>2017-04-27 16:34:02</td>\n",
       "      <td>search</td>\n",
       "      <td>000332</td>\n",
       "      <td>2017-06-08</td>\n",
       "      <td>2017-07-07</td>\n",
       "      <td>NCE</td>\n",
       "      <td>TLV</td>\n",
       "      <td>1</td>\n",
       "      <td>0</td>\n",
       "      <td>43.68</td>\n",
       "      <td>7.245</td>\n",
       "      <td>32.045</td>\n",
       "      <td>34.835</td>\n",
       "      <td>2728</td>\n",
       "      <td>0</td>\n",
       "      <td>1.0</td>\n",
       "      <td>41</td>\n",
       "      <td>29</td>\n",
       "    </tr>\n",
       "    <tr>\n",
       "      <th>10896</th>\n",
       "      <td>2017-04-27 16:35:35</td>\n",
       "      <td>search</td>\n",
       "      <td>000332</td>\n",
       "      <td>2017-06-08</td>\n",
       "      <td>2017-07-07</td>\n",
       "      <td>NCE</td>\n",
       "      <td>TLV</td>\n",
       "      <td>1</td>\n",
       "      <td>0</td>\n",
       "      <td>43.68</td>\n",
       "      <td>7.245</td>\n",
       "      <td>32.045</td>\n",
       "      <td>34.835</td>\n",
       "      <td>2728</td>\n",
       "      <td>0</td>\n",
       "      <td>2.0</td>\n",
       "      <td>41</td>\n",
       "      <td>29</td>\n",
       "    </tr>\n",
       "  </tbody>\n",
       "</table>\n",
       "</div>"
      ],
      "text/plain": [
       "                       ts event_type user_id  date_from    date_to origin  \\\n",
       "15155 2017-04-29 17:59:51     search  000069 2017-05-10 2017-05-26    FRA   \n",
       "35012 2017-04-28 19:14:23     search  00019d 2017-09-15 2017-10-13    PAR   \n",
       "1981  2017-04-24 21:25:10     search  0002e3 2017-05-01 2017-05-01    PAR   \n",
       "10897 2017-04-27 16:34:02     search  000332 2017-06-08 2017-07-07    NCE   \n",
       "10896 2017-04-27 16:35:35     search  000332 2017-06-08 2017-07-07    NCE   \n",
       "\n",
       "      destination  num_adults  num_children  origin_lat  origin_lon  dest_lat  \\\n",
       "15155         ALG           2             3       50.08       8.620    36.725   \n",
       "35012         SSA           4             0       48.85       2.350   -12.940   \n",
       "1981          ATH           1             0       48.85       2.350    37.960   \n",
       "10897         TLV           1             0       43.68       7.245    32.045   \n",
       "10896         TLV           1             0       43.68       7.245    32.045   \n",
       "\n",
       "       dest_lon  distance  target  num_visits  days_to_arrival  length_of_stay  \n",
       "15155     3.125      1549       0         1.0               10              16  \n",
       "35012   -38.420      7952       0         1.0              139              28  \n",
       "1981     23.830      2104       0         1.0                6               0  \n",
       "10897    34.835      2728       0         1.0               41              29  \n",
       "10896    34.835      2728       0         2.0               41              29  "
      ]
     },
     "execution_count": 39,
     "metadata": {},
     "output_type": "execute_result"
    }
   ],
   "source": [
    "events.head()"
   ]
  },
  {
   "cell_type": "code",
   "execution_count": 40,
   "metadata": {},
   "outputs": [],
   "source": [
    "# distance between events\n",
    "events['hours_since_last_event'] = (events.groupby('user_id')['ts'].diff().dt.total_seconds()/3600)"
   ]
  },
  {
   "cell_type": "code",
   "execution_count": 41,
   "metadata": {},
   "outputs": [],
   "source": [
    "# test if origin/destination changed\n",
    "events['last_origin'] = events.groupby('user_id')['origin'].shift()\n",
    "events['origin_changed_from_last_event'] = np.where((events['origin'] != events['last_origin']) & ( ~events['last_origin'].isna()), 1, 0)\n",
    "\n",
    "events['last_dest'] = events.groupby('user_id')['destination'].shift()\n",
    "events['dest_changed_from_last_event'] = np.where((events['destination'] != events['last_dest']) & ( ~events['last_dest'].isna()), 1, 0)\n"
   ]
  },
  {
   "cell_type": "code",
   "execution_count": 42,
   "metadata": {},
   "outputs": [],
   "source": [
    "# get diffs for num_adults and num_children\n",
    "events['num_adults_delta_from_last'] = events.groupby('user_id')['num_adults'].diff()\n",
    "events['num_children_delta_from_last'] = events.groupby('user_id')['num_children'].diff()"
   ]
  },
  {
   "cell_type": "code",
   "execution_count": 70,
   "metadata": {
    "scrolled": true
   },
   "outputs": [
    {
     "data": {
      "text/html": [
       "<div>\n",
       "<style scoped>\n",
       "    .dataframe tbody tr th:only-of-type {\n",
       "        vertical-align: middle;\n",
       "    }\n",
       "\n",
       "    .dataframe tbody tr th {\n",
       "        vertical-align: top;\n",
       "    }\n",
       "\n",
       "    .dataframe thead th {\n",
       "        text-align: right;\n",
       "    }\n",
       "</style>\n",
       "<table border=\"1\" class=\"dataframe\">\n",
       "  <thead>\n",
       "    <tr style=\"text-align: right;\">\n",
       "      <th></th>\n",
       "      <th>ts</th>\n",
       "      <th>user_id</th>\n",
       "      <th>date_from</th>\n",
       "      <th>date_to</th>\n",
       "      <th>origin</th>\n",
       "      <th>destination</th>\n",
       "      <th>num_adults</th>\n",
       "      <th>num_children</th>\n",
       "      <th>distance</th>\n",
       "      <th>target</th>\n",
       "      <th>num_visits</th>\n",
       "      <th>days_to_arrival</th>\n",
       "      <th>length_of_stay</th>\n",
       "      <th>hours_since_last_event</th>\n",
       "      <th>origin_changed_from_last_event</th>\n",
       "      <th>dest_changed_from_last_event</th>\n",
       "      <th>num_adults_delta_from_last</th>\n",
       "      <th>num_children_delta_from_last</th>\n",
       "      <th>days_to_arrival_test</th>\n",
       "    </tr>\n",
       "  </thead>\n",
       "  <tbody>\n",
       "    <tr>\n",
       "      <th>15155</th>\n",
       "      <td>2017-04-29 17:59:51</td>\n",
       "      <td>000069</td>\n",
       "      <td>2017-05-10</td>\n",
       "      <td>2017-05-26</td>\n",
       "      <td>FRA</td>\n",
       "      <td>ALG</td>\n",
       "      <td>2</td>\n",
       "      <td>3</td>\n",
       "      <td>1549</td>\n",
       "      <td>0</td>\n",
       "      <td>1.0</td>\n",
       "      <td>10</td>\n",
       "      <td>16</td>\n",
       "      <td>NaN</td>\n",
       "      <td>0</td>\n",
       "      <td>0</td>\n",
       "      <td>NaN</td>\n",
       "      <td>NaN</td>\n",
       "      <td>10</td>\n",
       "    </tr>\n",
       "    <tr>\n",
       "      <th>35012</th>\n",
       "      <td>2017-04-28 19:14:23</td>\n",
       "      <td>00019d</td>\n",
       "      <td>2017-09-15</td>\n",
       "      <td>2017-10-13</td>\n",
       "      <td>PAR</td>\n",
       "      <td>SSA</td>\n",
       "      <td>4</td>\n",
       "      <td>0</td>\n",
       "      <td>7952</td>\n",
       "      <td>0</td>\n",
       "      <td>1.0</td>\n",
       "      <td>139</td>\n",
       "      <td>28</td>\n",
       "      <td>NaN</td>\n",
       "      <td>0</td>\n",
       "      <td>0</td>\n",
       "      <td>NaN</td>\n",
       "      <td>NaN</td>\n",
       "      <td>139</td>\n",
       "    </tr>\n",
       "    <tr>\n",
       "      <th>1981</th>\n",
       "      <td>2017-04-24 21:25:10</td>\n",
       "      <td>0002e3</td>\n",
       "      <td>2017-05-01</td>\n",
       "      <td>2017-05-01</td>\n",
       "      <td>PAR</td>\n",
       "      <td>ATH</td>\n",
       "      <td>1</td>\n",
       "      <td>0</td>\n",
       "      <td>2104</td>\n",
       "      <td>0</td>\n",
       "      <td>1.0</td>\n",
       "      <td>6</td>\n",
       "      <td>0</td>\n",
       "      <td>NaN</td>\n",
       "      <td>0</td>\n",
       "      <td>0</td>\n",
       "      <td>NaN</td>\n",
       "      <td>NaN</td>\n",
       "      <td>6</td>\n",
       "    </tr>\n",
       "    <tr>\n",
       "      <th>10897</th>\n",
       "      <td>2017-04-27 16:34:02</td>\n",
       "      <td>000332</td>\n",
       "      <td>2017-06-08</td>\n",
       "      <td>2017-07-07</td>\n",
       "      <td>NCE</td>\n",
       "      <td>TLV</td>\n",
       "      <td>1</td>\n",
       "      <td>0</td>\n",
       "      <td>2728</td>\n",
       "      <td>0</td>\n",
       "      <td>1.0</td>\n",
       "      <td>41</td>\n",
       "      <td>29</td>\n",
       "      <td>NaN</td>\n",
       "      <td>0</td>\n",
       "      <td>0</td>\n",
       "      <td>NaN</td>\n",
       "      <td>NaN</td>\n",
       "      <td>41</td>\n",
       "    </tr>\n",
       "    <tr>\n",
       "      <th>10896</th>\n",
       "      <td>2017-04-27 16:35:35</td>\n",
       "      <td>000332</td>\n",
       "      <td>2017-06-08</td>\n",
       "      <td>2017-07-07</td>\n",
       "      <td>NCE</td>\n",
       "      <td>TLV</td>\n",
       "      <td>1</td>\n",
       "      <td>0</td>\n",
       "      <td>2728</td>\n",
       "      <td>0</td>\n",
       "      <td>2.0</td>\n",
       "      <td>41</td>\n",
       "      <td>29</td>\n",
       "      <td>0.025833</td>\n",
       "      <td>0</td>\n",
       "      <td>0</td>\n",
       "      <td>0.0</td>\n",
       "      <td>0.0</td>\n",
       "      <td>41</td>\n",
       "    </tr>\n",
       "  </tbody>\n",
       "</table>\n",
       "</div>"
      ],
      "text/plain": [
       "                       ts user_id  date_from    date_to origin destination  \\\n",
       "15155 2017-04-29 17:59:51  000069 2017-05-10 2017-05-26    FRA         ALG   \n",
       "35012 2017-04-28 19:14:23  00019d 2017-09-15 2017-10-13    PAR         SSA   \n",
       "1981  2017-04-24 21:25:10  0002e3 2017-05-01 2017-05-01    PAR         ATH   \n",
       "10897 2017-04-27 16:34:02  000332 2017-06-08 2017-07-07    NCE         TLV   \n",
       "10896 2017-04-27 16:35:35  000332 2017-06-08 2017-07-07    NCE         TLV   \n",
       "\n",
       "       num_adults  num_children  distance  target  num_visits  \\\n",
       "15155           2             3      1549       0         1.0   \n",
       "35012           4             0      7952       0         1.0   \n",
       "1981            1             0      2104       0         1.0   \n",
       "10897           1             0      2728       0         1.0   \n",
       "10896           1             0      2728       0         2.0   \n",
       "\n",
       "       days_to_arrival  length_of_stay  hours_since_last_event  \\\n",
       "15155               10              16                     NaN   \n",
       "35012              139              28                     NaN   \n",
       "1981                 6               0                     NaN   \n",
       "10897               41              29                     NaN   \n",
       "10896               41              29                0.025833   \n",
       "\n",
       "       origin_changed_from_last_event  dest_changed_from_last_event  \\\n",
       "15155                               0                             0   \n",
       "35012                               0                             0   \n",
       "1981                                0                             0   \n",
       "10897                               0                             0   \n",
       "10896                               0                             0   \n",
       "\n",
       "       num_adults_delta_from_last  num_children_delta_from_last  \\\n",
       "15155                         NaN                           NaN   \n",
       "35012                         NaN                           NaN   \n",
       "1981                          NaN                           NaN   \n",
       "10897                         NaN                           NaN   \n",
       "10896                         0.0                           0.0   \n",
       "\n",
       "       days_to_arrival_test  \n",
       "15155                    10  \n",
       "35012                   139  \n",
       "1981                      6  \n",
       "10897                    41  \n",
       "10896                    41  "
      ]
     },
     "execution_count": 70,
     "metadata": {},
     "output_type": "execute_result"
    }
   ],
   "source": [
    "events.head()"
   ]
  },
  {
   "cell_type": "code",
   "execution_count": 44,
   "metadata": {},
   "outputs": [],
   "source": [
    "events.drop(columns=['event_type', 'origin_lat', 'origin_lon', 'dest_lat', 'dest_lon', 'last_origin', 'last_dest'], inplace=True)"
   ]
  },
  {
   "cell_type": "code",
   "execution_count": 45,
   "metadata": {},
   "outputs": [
    {
     "data": {
      "text/html": [
       "<div>\n",
       "<style scoped>\n",
       "    .dataframe tbody tr th:only-of-type {\n",
       "        vertical-align: middle;\n",
       "    }\n",
       "\n",
       "    .dataframe tbody tr th {\n",
       "        vertical-align: top;\n",
       "    }\n",
       "\n",
       "    .dataframe thead th {\n",
       "        text-align: right;\n",
       "    }\n",
       "</style>\n",
       "<table border=\"1\" class=\"dataframe\">\n",
       "  <thead>\n",
       "    <tr style=\"text-align: right;\">\n",
       "      <th></th>\n",
       "      <th>num_adults</th>\n",
       "      <th>num_children</th>\n",
       "      <th>distance</th>\n",
       "      <th>target</th>\n",
       "      <th>num_visits</th>\n",
       "      <th>days_to_arrival</th>\n",
       "      <th>length_of_stay</th>\n",
       "      <th>hours_since_last_event</th>\n",
       "      <th>origin_changed_from_last_event</th>\n",
       "      <th>dest_changed_from_last_event</th>\n",
       "      <th>num_adults_delta_from_last</th>\n",
       "      <th>num_children_delta_from_last</th>\n",
       "    </tr>\n",
       "  </thead>\n",
       "  <tbody>\n",
       "    <tr>\n",
       "      <th>count</th>\n",
       "      <td>45876.000000</td>\n",
       "      <td>45876.000000</td>\n",
       "      <td>45876.000000</td>\n",
       "      <td>45876.000000</td>\n",
       "      <td>45876.000000</td>\n",
       "      <td>45876.000000</td>\n",
       "      <td>45876.000000</td>\n",
       "      <td>14711.000000</td>\n",
       "      <td>45876.000000</td>\n",
       "      <td>45876.000000</td>\n",
       "      <td>14711.000000</td>\n",
       "      <td>14711.000000</td>\n",
       "    </tr>\n",
       "    <tr>\n",
       "      <th>mean</th>\n",
       "      <td>1.675931</td>\n",
       "      <td>0.146133</td>\n",
       "      <td>3235.466889</td>\n",
       "      <td>0.039389</td>\n",
       "      <td>1.638024</td>\n",
       "      <td>76.628782</td>\n",
       "      <td>9.307546</td>\n",
       "      <td>7.434882</td>\n",
       "      <td>0.036904</td>\n",
       "      <td>0.039193</td>\n",
       "      <td>0.008565</td>\n",
       "      <td>-0.000204</td>\n",
       "    </tr>\n",
       "    <tr>\n",
       "      <th>std</th>\n",
       "      <td>0.987431</td>\n",
       "      <td>0.477010</td>\n",
       "      <td>3551.107756</td>\n",
       "      <td>0.194520</td>\n",
       "      <td>1.269753</td>\n",
       "      <td>74.862894</td>\n",
       "      <td>15.094192</td>\n",
       "      <td>26.714603</td>\n",
       "      <td>0.188528</td>\n",
       "      <td>0.194055</td>\n",
       "      <td>0.497780</td>\n",
       "      <td>0.199762</td>\n",
       "    </tr>\n",
       "    <tr>\n",
       "      <th>min</th>\n",
       "      <td>1.000000</td>\n",
       "      <td>0.000000</td>\n",
       "      <td>9.000000</td>\n",
       "      <td>0.000000</td>\n",
       "      <td>1.000000</td>\n",
       "      <td>-2.000000</td>\n",
       "      <td>0.000000</td>\n",
       "      <td>0.000000</td>\n",
       "      <td>0.000000</td>\n",
       "      <td>0.000000</td>\n",
       "      <td>-8.000000</td>\n",
       "      <td>-5.000000</td>\n",
       "    </tr>\n",
       "    <tr>\n",
       "      <th>25%</th>\n",
       "      <td>1.000000</td>\n",
       "      <td>0.000000</td>\n",
       "      <td>836.000000</td>\n",
       "      <td>0.000000</td>\n",
       "      <td>1.000000</td>\n",
       "      <td>17.000000</td>\n",
       "      <td>2.000000</td>\n",
       "      <td>0.023333</td>\n",
       "      <td>0.000000</td>\n",
       "      <td>0.000000</td>\n",
       "      <td>0.000000</td>\n",
       "      <td>0.000000</td>\n",
       "    </tr>\n",
       "    <tr>\n",
       "      <th>50%</th>\n",
       "      <td>1.000000</td>\n",
       "      <td>0.000000</td>\n",
       "      <td>1574.000000</td>\n",
       "      <td>0.000000</td>\n",
       "      <td>1.000000</td>\n",
       "      <td>51.000000</td>\n",
       "      <td>5.000000</td>\n",
       "      <td>0.100000</td>\n",
       "      <td>0.000000</td>\n",
       "      <td>0.000000</td>\n",
       "      <td>0.000000</td>\n",
       "      <td>0.000000</td>\n",
       "    </tr>\n",
       "    <tr>\n",
       "      <th>75%</th>\n",
       "      <td>2.000000</td>\n",
       "      <td>0.000000</td>\n",
       "      <td>5250.000000</td>\n",
       "      <td>0.000000</td>\n",
       "      <td>2.000000</td>\n",
       "      <td>125.000000</td>\n",
       "      <td>12.000000</td>\n",
       "      <td>0.460139</td>\n",
       "      <td>0.000000</td>\n",
       "      <td>0.000000</td>\n",
       "      <td>0.000000</td>\n",
       "      <td>0.000000</td>\n",
       "    </tr>\n",
       "    <tr>\n",
       "      <th>max</th>\n",
       "      <td>9.000000</td>\n",
       "      <td>5.000000</td>\n",
       "      <td>19433.000000</td>\n",
       "      <td>1.000000</td>\n",
       "      <td>23.000000</td>\n",
       "      <td>362.000000</td>\n",
       "      <td>331.000000</td>\n",
       "      <td>295.940278</td>\n",
       "      <td>1.000000</td>\n",
       "      <td>1.000000</td>\n",
       "      <td>7.000000</td>\n",
       "      <td>4.000000</td>\n",
       "    </tr>\n",
       "  </tbody>\n",
       "</table>\n",
       "</div>"
      ],
      "text/plain": [
       "         num_adults  num_children      distance        target    num_visits  \\\n",
       "count  45876.000000  45876.000000  45876.000000  45876.000000  45876.000000   \n",
       "mean       1.675931      0.146133   3235.466889      0.039389      1.638024   \n",
       "std        0.987431      0.477010   3551.107756      0.194520      1.269753   \n",
       "min        1.000000      0.000000      9.000000      0.000000      1.000000   \n",
       "25%        1.000000      0.000000    836.000000      0.000000      1.000000   \n",
       "50%        1.000000      0.000000   1574.000000      0.000000      1.000000   \n",
       "75%        2.000000      0.000000   5250.000000      0.000000      2.000000   \n",
       "max        9.000000      5.000000  19433.000000      1.000000     23.000000   \n",
       "\n",
       "       days_to_arrival  length_of_stay  hours_since_last_event  \\\n",
       "count     45876.000000    45876.000000            14711.000000   \n",
       "mean         76.628782        9.307546                7.434882   \n",
       "std          74.862894       15.094192               26.714603   \n",
       "min          -2.000000        0.000000                0.000000   \n",
       "25%          17.000000        2.000000                0.023333   \n",
       "50%          51.000000        5.000000                0.100000   \n",
       "75%         125.000000       12.000000                0.460139   \n",
       "max         362.000000      331.000000              295.940278   \n",
       "\n",
       "       origin_changed_from_last_event  dest_changed_from_last_event  \\\n",
       "count                    45876.000000                  45876.000000   \n",
       "mean                         0.036904                      0.039193   \n",
       "std                          0.188528                      0.194055   \n",
       "min                          0.000000                      0.000000   \n",
       "25%                          0.000000                      0.000000   \n",
       "50%                          0.000000                      0.000000   \n",
       "75%                          0.000000                      0.000000   \n",
       "max                          1.000000                      1.000000   \n",
       "\n",
       "       num_adults_delta_from_last  num_children_delta_from_last  \n",
       "count                14711.000000                  14711.000000  \n",
       "mean                     0.008565                     -0.000204  \n",
       "std                      0.497780                      0.199762  \n",
       "min                     -8.000000                     -5.000000  \n",
       "25%                      0.000000                      0.000000  \n",
       "50%                      0.000000                      0.000000  \n",
       "75%                      0.000000                      0.000000  \n",
       "max                      7.000000                      4.000000  "
      ]
     },
     "execution_count": 45,
     "metadata": {},
     "output_type": "execute_result"
    }
   ],
   "source": [
    "events.describe()"
   ]
  },
  {
   "cell_type": "code",
   "execution_count": 46,
   "metadata": {},
   "outputs": [
    {
     "data": {
      "text/html": [
       "<div>\n",
       "<style scoped>\n",
       "    .dataframe tbody tr th:only-of-type {\n",
       "        vertical-align: middle;\n",
       "    }\n",
       "\n",
       "    .dataframe tbody tr th {\n",
       "        vertical-align: top;\n",
       "    }\n",
       "\n",
       "    .dataframe thead th {\n",
       "        text-align: right;\n",
       "    }\n",
       "</style>\n",
       "<table border=\"1\" class=\"dataframe\">\n",
       "  <thead>\n",
       "    <tr style=\"text-align: right;\">\n",
       "      <th></th>\n",
       "      <th>ts</th>\n",
       "      <th>user_id</th>\n",
       "      <th>date_from</th>\n",
       "      <th>date_to</th>\n",
       "      <th>origin</th>\n",
       "      <th>destination</th>\n",
       "      <th>num_adults</th>\n",
       "      <th>num_children</th>\n",
       "      <th>distance</th>\n",
       "      <th>target</th>\n",
       "      <th>num_visits</th>\n",
       "      <th>days_to_arrival</th>\n",
       "      <th>length_of_stay</th>\n",
       "      <th>hours_since_last_event</th>\n",
       "      <th>origin_changed_from_last_event</th>\n",
       "      <th>dest_changed_from_last_event</th>\n",
       "      <th>num_adults_delta_from_last</th>\n",
       "      <th>num_children_delta_from_last</th>\n",
       "    </tr>\n",
       "  </thead>\n",
       "  <tbody>\n",
       "  </tbody>\n",
       "</table>\n",
       "</div>"
      ],
      "text/plain": [
       "Empty DataFrame\n",
       "Columns: [ts, user_id, date_from, date_to, origin, destination, num_adults, num_children, distance, target, num_visits, days_to_arrival, length_of_stay, hours_since_last_event, origin_changed_from_last_event, dest_changed_from_last_event, num_adults_delta_from_last, num_children_delta_from_last]\n",
       "Index: []"
      ]
     },
     "execution_count": 46,
     "metadata": {},
     "output_type": "execute_result"
    }
   ],
   "source": [
    "events[events['distance'] <= 2]"
   ]
  },
  {
   "cell_type": "code",
   "execution_count": 73,
   "metadata": {},
   "outputs": [],
   "source": [
    "# remove any rows where days_to_arrival is negative\n",
    "events = events[events['days_to_arrival'] >= 0]"
   ]
  },
  {
   "cell_type": "code",
   "execution_count": 92,
   "metadata": {},
   "outputs": [
    {
     "data": {
      "text/plain": [
       "0.9000     21.0000\n",
       "0.9500     29.0000\n",
       "0.9900     67.0000\n",
       "0.9990    182.0000\n",
       "0.9999    273.8258\n",
       "Name: length_of_stay, dtype: float64"
      ]
     },
     "execution_count": 92,
     "metadata": {},
     "output_type": "execute_result"
    }
   ],
   "source": [
    "# let's look at the percentiles of lenght_of_stay in more detail\n",
    "events['length_of_stay'].quantile([0.9, 0.95, 0.99, 0.999, 0.9999])"
   ]
  },
  {
   "cell_type": "code",
   "execution_count": 96,
   "metadata": {},
   "outputs": [
    {
     "data": {
      "text/plain": [
       "444"
      ]
     },
     "execution_count": 96,
     "metadata": {},
     "output_type": "execute_result"
    }
   ],
   "source": [
    "len(events[events['length_of_stay'] >= 70])"
   ]
  },
  {
   "cell_type": "code",
   "execution_count": 97,
   "metadata": {},
   "outputs": [
    {
     "data": {
      "text/plain": [
       "14"
      ]
     },
     "execution_count": 97,
     "metadata": {},
     "output_type": "execute_result"
    }
   ],
   "source": [
    "events[events['length_of_stay'] >= 70]['target'].sum()"
   ]
  },
  {
   "cell_type": "code",
   "execution_count": 99,
   "metadata": {},
   "outputs": [],
   "source": [
    "# remove these outliers\n",
    "events = events[events['length_of_stay'] <= 70]"
   ]
  },
  {
   "cell_type": "code",
   "execution_count": 105,
   "metadata": {},
   "outputs": [
    {
     "data": {
      "text/plain": [
       "array([[<matplotlib.axes._subplots.AxesSubplot object at 0x7f3dd95997c0>,\n",
       "        <matplotlib.axes._subplots.AxesSubplot object at 0x7f3dd9544580>,\n",
       "        <matplotlib.axes._subplots.AxesSubplot object at 0x7f3dd9566a00>,\n",
       "        <matplotlib.axes._subplots.AxesSubplot object at 0x7f3dd950fe50>],\n",
       "       [<matplotlib.axes._subplots.AxesSubplot object at 0x7f3dd94bf2e0>,\n",
       "        <matplotlib.axes._subplots.AxesSubplot object at 0x7f3dd94e6670>,\n",
       "        <matplotlib.axes._subplots.AxesSubplot object at 0x7f3dd94e6760>,\n",
       "        <matplotlib.axes._subplots.AxesSubplot object at 0x7f3dd948cc10>],\n",
       "       [<matplotlib.axes._subplots.AxesSubplot object at 0x7f3dd946a460>,\n",
       "        <matplotlib.axes._subplots.AxesSubplot object at 0x7f3dd94148b0>,\n",
       "        <matplotlib.axes._subplots.AxesSubplot object at 0x7f3dd93bed00>,\n",
       "        <matplotlib.axes._subplots.AxesSubplot object at 0x7f3dd9374190>],\n",
       "       [<matplotlib.axes._subplots.AxesSubplot object at 0x7f3dd939d5e0>,\n",
       "        <matplotlib.axes._subplots.AxesSubplot object at 0x7f3dd9345970>,\n",
       "        <matplotlib.axes._subplots.AxesSubplot object at 0x7f3dd9366f70>,\n",
       "        <matplotlib.axes._subplots.AxesSubplot object at 0x7f3dd9318400>]],\n",
       "      dtype=object)"
      ]
     },
     "execution_count": 105,
     "metadata": {},
     "output_type": "execute_result"
    },
    {
     "data": {
      "image/png": "[encoded data removed]",
      "text/plain": [
       "<Figure size 720x720 with 16 Axes>"
      ]
     },
     "metadata": {
      "needs_background": "light"
     },
     "output_type": "display_data"
    }
   ],
   "source": [
    "events.hist(figsize=(10,10))"
   ]
  },
  {
   "cell_type": "markdown",
   "metadata": {},
   "source": [
    "# Building the classifier"
   ]
  },
  {
   "cell_type": "code",
   "execution_count": 50,
   "metadata": {},
   "outputs": [
    {
     "data": {
      "text/plain": [
       "Index(['ts', 'user_id', 'date_from', 'date_to', 'origin', 'destination',\n",
       "       'num_adults', 'num_children', 'distance', 'target', 'num_visits',\n",
       "       'days_to_arrival', 'length_of_stay', 'hours_since_last_event',\n",
       "       'origin_changed_from_last_event', 'dest_changed_from_last_event',\n",
       "       'num_adults_delta_from_last', 'num_children_delta_from_last'],\n",
       "      dtype='object')"
      ]
     },
     "execution_count": 50,
     "metadata": {},
     "output_type": "execute_result"
    }
   ],
   "source": [
    "events.columns"
   ]
  },
  {
   "cell_type": "code",
   "execution_count": 117,
   "metadata": {},
   "outputs": [],
   "source": [
    "features = ['num_adults', 'num_children', 'distance', 'num_visits',\n",
    "       'days_to_arrival', 'length_of_stay', 'hours_since_last_event',\n",
    "       'origin_changed_from_last_event', 'dest_changed_from_last_event',\n",
    "       'num_adults_delta_from_last', 'num_children_delta_from_last']"
   ]
  },
  {
   "cell_type": "code",
   "execution_count": 118,
   "metadata": {},
   "outputs": [],
   "source": [
    "X = events[features]\n",
    "y = events['target']"
   ]
  },
  {
   "cell_type": "code",
   "execution_count": 119,
   "metadata": {},
   "outputs": [],
   "source": [
    "X_train, X_test, y_train, y_test= train_test_split(X,y,test_size=0.25,random_state=0)"
   ]
  },
  {
   "cell_type": "code",
   "execution_count": 120,
   "metadata": {},
   "outputs": [],
   "source": [
    "# instantiate and fit XGBoost classifier\n",
    "\n",
    "xgb_classifier = xgb.XGBClassifier(objective='binary:logistic',\n",
    "                                   colsample_bytree = 0.3,\n",
    "                                   learning_rate = 0.1,\n",
    "                                   max_depth = 5,\n",
    "                                   alpha = 10,\n",
    "                                   n_estimators = 100,\n",
    "                                   scale_pos_weight= 5)\n",
    "\n",
    "xgb_classifier.fit(X_train,y_train)\n",
    "\n",
    "# make predictions with test data set\n",
    "\n",
    "preds = xgb_classifier.predict(X_test)"
   ]
  },
  {
   "cell_type": "code",
   "execution_count": 121,
   "metadata": {},
   "outputs": [
    {
     "data": {
      "text/plain": [
       "Text(0.5, 257.44, 'Predicted label')"
      ]
     },
     "execution_count": 121,
     "metadata": {},
     "output_type": "execute_result"
    },
    {
     "data": {
      "image/png": "[encoded data removed]",
      "text/plain": [
       "<Figure size 432x288 with 2 Axes>"
      ]
     },
     "metadata": {
      "needs_background": "light"
     },
     "output_type": "display_data"
    }
   ],
   "source": [
    "# show confusion matrix to understand the share of correct/incorrect predictions\n",
    "\n",
    "confusion_matrix = metrics.confusion_matrix(y_test, preds)\n",
    "\n",
    "fig, ax = plt.subplots()\n",
    "tick_marks = np.arange(2)\n",
    "plt.xticks(tick_marks, [0,1])\n",
    "plt.yticks(tick_marks, [0,1])\n",
    "\n",
    "sns.heatmap(pd.DataFrame(confusion_matrix), annot=True, cmap=\"YlGnBu\" ,fmt='g')\n",
    "ax.xaxis.set_label_position(\"top\")\n",
    "plt.tight_layout()\n",
    "plt.ylabel('Actual label')\n",
    "plt.xlabel('Predicted label')"
   ]
  },
  {
   "cell_type": "code",
   "execution_count": 122,
   "metadata": {},
   "outputs": [
    {
     "name": "stdout",
     "output_type": "stream",
     "text": [
      "Accuracy : 0.959\n",
      "AUC: 0.883671\n",
      "F1 Score: 0.612313\n"
     ]
    }
   ],
   "source": [
    "print(\"Accuracy : %.4g\" % metrics.accuracy_score(y_test, preds))\n",
    "print(\"AUC: %f\" % metrics.roc_auc_score(y_test, preds))\n",
    "print(\"F1 Score: %f\" % metrics.f1_score(y_test, preds))"
   ]
  },
  {
   "cell_type": "code",
   "execution_count": 57,
   "metadata": {},
   "outputs": [
    {
     "name": "stderr",
     "output_type": "stream",
     "text": [
      "Setting feature_perturbation = \"tree_path_dependent\" because no background data was given.\n"
     ]
    },
    {
     "ename": "UnicodeDecodeError",
     "evalue": "'utf-8' codec can't decode byte 0xff in position 341: invalid start byte",
     "output_type": "error",
     "traceback": [
      "\u001b[0;31m---------------------------------------------------------------------------\u001b[0m",
      "\u001b[0;31mUnicodeDecodeError\u001b[0m                        Traceback (most recent call last)",
      "\u001b[0;32m<ipython-input-57-95405944bf13>\u001b[0m in \u001b[0;36m<module>\u001b[0;34m\u001b[0m\n\u001b[0;32m----> 1\u001b[0;31m \u001b[0mshap_values\u001b[0m \u001b[0;34m=\u001b[0m \u001b[0mshap\u001b[0m\u001b[0;34m.\u001b[0m\u001b[0mTreeExplainer\u001b[0m\u001b[0;34m(\u001b[0m\u001b[0mxgb_classifier\u001b[0m\u001b[0;34m)\u001b[0m\u001b[0;34m.\u001b[0m\u001b[0mshap_values\u001b[0m\u001b[0;34m(\u001b[0m\u001b[0mX_train\u001b[0m\u001b[0;34m)\u001b[0m\u001b[0;34m\u001b[0m\u001b[0;34m\u001b[0m\u001b[0m\n\u001b[0m\u001b[1;32m      2\u001b[0m \u001b[0mshap\u001b[0m\u001b[0;34m.\u001b[0m\u001b[0msummary_plot\u001b[0m\u001b[0;34m(\u001b[0m\u001b[0mshap_values\u001b[0m\u001b[0;34m,\u001b[0m \u001b[0mX_train\u001b[0m\u001b[0;34m,\u001b[0m \u001b[0mplot_type\u001b[0m\u001b[0;34m=\u001b[0m\u001b[0;34m\"bar\"\u001b[0m\u001b[0;34m)\u001b[0m\u001b[0;34m\u001b[0m\u001b[0;34m\u001b[0m\u001b[0m\n",
      "\u001b[0;32m~/dev/cw-travel-audience/ta-venv/lib/python3.8/site-packages/shap/explainers/tree.py\u001b[0m in \u001b[0;36m__init__\u001b[0;34m(self, model, data, model_output, feature_perturbation, **deprecated_options)\u001b[0m\n\u001b[1;32m    119\u001b[0m         \u001b[0mself\u001b[0m\u001b[0;34m.\u001b[0m\u001b[0mfeature_perturbation\u001b[0m \u001b[0;34m=\u001b[0m \u001b[0mfeature_perturbation\u001b[0m\u001b[0;34m\u001b[0m\u001b[0;34m\u001b[0m\u001b[0m\n\u001b[1;32m    120\u001b[0m         \u001b[0mself\u001b[0m\u001b[0;34m.\u001b[0m\u001b[0mexpected_value\u001b[0m \u001b[0;34m=\u001b[0m \u001b[0;32mNone\u001b[0m\u001b[0;34m\u001b[0m\u001b[0;34m\u001b[0m\u001b[0m\n\u001b[0;32m--> 121\u001b[0;31m         \u001b[0mself\u001b[0m\u001b[0;34m.\u001b[0m\u001b[0mmodel\u001b[0m \u001b[0;34m=\u001b[0m \u001b[0mTreeEnsemble\u001b[0m\u001b[0;34m(\u001b[0m\u001b[0mmodel\u001b[0m\u001b[0;34m,\u001b[0m \u001b[0mself\u001b[0m\u001b[0;34m.\u001b[0m\u001b[0mdata\u001b[0m\u001b[0;34m,\u001b[0m \u001b[0mself\u001b[0m\u001b[0;34m.\u001b[0m\u001b[0mdata_missing\u001b[0m\u001b[0;34m,\u001b[0m \u001b[0mmodel_output\u001b[0m\u001b[0;34m)\u001b[0m\u001b[0;34m\u001b[0m\u001b[0;34m\u001b[0m\u001b[0m\n\u001b[0m\u001b[1;32m    122\u001b[0m         \u001b[0mself\u001b[0m\u001b[0;34m.\u001b[0m\u001b[0mmodel_output\u001b[0m \u001b[0;34m=\u001b[0m \u001b[0mmodel_output\u001b[0m\u001b[0;34m\u001b[0m\u001b[0;34m\u001b[0m\u001b[0m\n\u001b[1;32m    123\u001b[0m         \u001b[0;31m#self.model_output = self.model.model_output # this allows the TreeEnsemble to translate model outputs types by how it loads the model\u001b[0m\u001b[0;34m\u001b[0m\u001b[0;34m\u001b[0m\u001b[0;34m\u001b[0m\u001b[0m\n",
      "\u001b[0;32m~/dev/cw-travel-audience/ta-venv/lib/python3.8/site-packages/shap/explainers/tree.py\u001b[0m in \u001b[0;36m__init__\u001b[0;34m(self, model, data, data_missing, model_output)\u001b[0m\n\u001b[1;32m    737\u001b[0m             \u001b[0mself\u001b[0m\u001b[0;34m.\u001b[0m\u001b[0mmodel_type\u001b[0m \u001b[0;34m=\u001b[0m \u001b[0;34m\"xgboost\"\u001b[0m\u001b[0;34m\u001b[0m\u001b[0;34m\u001b[0m\u001b[0m\n\u001b[1;32m    738\u001b[0m             \u001b[0mself\u001b[0m\u001b[0;34m.\u001b[0m\u001b[0moriginal_model\u001b[0m \u001b[0;34m=\u001b[0m \u001b[0mmodel\u001b[0m\u001b[0;34m.\u001b[0m\u001b[0mget_booster\u001b[0m\u001b[0;34m(\u001b[0m\u001b[0;34m)\u001b[0m\u001b[0;34m\u001b[0m\u001b[0;34m\u001b[0m\u001b[0m\n\u001b[0;32m--> 739\u001b[0;31m             \u001b[0mxgb_loader\u001b[0m \u001b[0;34m=\u001b[0m \u001b[0mXGBTreeModelLoader\u001b[0m\u001b[0;34m(\u001b[0m\u001b[0mself\u001b[0m\u001b[0;34m.\u001b[0m\u001b[0moriginal_model\u001b[0m\u001b[0;34m)\u001b[0m\u001b[0;34m\u001b[0m\u001b[0;34m\u001b[0m\u001b[0m\n\u001b[0m\u001b[1;32m    740\u001b[0m             \u001b[0mself\u001b[0m\u001b[0;34m.\u001b[0m\u001b[0mtrees\u001b[0m \u001b[0;34m=\u001b[0m \u001b[0mxgb_loader\u001b[0m\u001b[0;34m.\u001b[0m\u001b[0mget_trees\u001b[0m\u001b[0;34m(\u001b[0m\u001b[0mdata\u001b[0m\u001b[0;34m=\u001b[0m\u001b[0mdata\u001b[0m\u001b[0;34m,\u001b[0m \u001b[0mdata_missing\u001b[0m\u001b[0;34m=\u001b[0m\u001b[0mdata_missing\u001b[0m\u001b[0;34m)\u001b[0m\u001b[0;34m\u001b[0m\u001b[0;34m\u001b[0m\u001b[0m\n\u001b[1;32m    741\u001b[0m             \u001b[0mself\u001b[0m\u001b[0;34m.\u001b[0m\u001b[0mbase_offset\u001b[0m \u001b[0;34m=\u001b[0m \u001b[0mxgb_loader\u001b[0m\u001b[0;34m.\u001b[0m\u001b[0mbase_score\u001b[0m\u001b[0;34m\u001b[0m\u001b[0;34m\u001b[0m\u001b[0m\n",
      "\u001b[0;32m~/dev/cw-travel-audience/ta-venv/lib/python3.8/site-packages/shap/explainers/tree.py\u001b[0m in \u001b[0;36m__init__\u001b[0;34m(self, xgb_model)\u001b[0m\n\u001b[1;32m   1324\u001b[0m         \u001b[0mself\u001b[0m\u001b[0;34m.\u001b[0m\u001b[0mread_arr\u001b[0m\u001b[0;34m(\u001b[0m\u001b[0;34m'i'\u001b[0m\u001b[0;34m,\u001b[0m \u001b[0;36m29\u001b[0m\u001b[0;34m)\u001b[0m \u001b[0;31m# reserved\u001b[0m\u001b[0;34m\u001b[0m\u001b[0;34m\u001b[0m\u001b[0m\n\u001b[1;32m   1325\u001b[0m         \u001b[0mself\u001b[0m\u001b[0;34m.\u001b[0m\u001b[0mname_obj_len\u001b[0m \u001b[0;34m=\u001b[0m \u001b[0mself\u001b[0m\u001b[0;34m.\u001b[0m\u001b[0mread\u001b[0m\u001b[0;34m(\u001b[0m\u001b[0;34m'Q'\u001b[0m\u001b[0;34m)\u001b[0m\u001b[0;34m\u001b[0m\u001b[0;34m\u001b[0m\u001b[0m\n\u001b[0;32m-> 1326\u001b[0;31m         \u001b[0mself\u001b[0m\u001b[0;34m.\u001b[0m\u001b[0mname_obj\u001b[0m \u001b[0;34m=\u001b[0m \u001b[0mself\u001b[0m\u001b[0;34m.\u001b[0m\u001b[0mread_str\u001b[0m\u001b[0;34m(\u001b[0m\u001b[0mself\u001b[0m\u001b[0;34m.\u001b[0m\u001b[0mname_obj_len\u001b[0m\u001b[0;34m)\u001b[0m\u001b[0;34m\u001b[0m\u001b[0;34m\u001b[0m\u001b[0m\n\u001b[0m\u001b[1;32m   1327\u001b[0m         \u001b[0mself\u001b[0m\u001b[0;34m.\u001b[0m\u001b[0mname_gbm_len\u001b[0m \u001b[0;34m=\u001b[0m \u001b[0mself\u001b[0m\u001b[0;34m.\u001b[0m\u001b[0mread\u001b[0m\u001b[0;34m(\u001b[0m\u001b[0;34m'Q'\u001b[0m\u001b[0;34m)\u001b[0m\u001b[0;34m\u001b[0m\u001b[0;34m\u001b[0m\u001b[0m\n\u001b[1;32m   1328\u001b[0m         \u001b[0mself\u001b[0m\u001b[0;34m.\u001b[0m\u001b[0mname_gbm\u001b[0m \u001b[0;34m=\u001b[0m \u001b[0mself\u001b[0m\u001b[0;34m.\u001b[0m\u001b[0mread_str\u001b[0m\u001b[0;34m(\u001b[0m\u001b[0mself\u001b[0m\u001b[0;34m.\u001b[0m\u001b[0mname_gbm_len\u001b[0m\u001b[0;34m)\u001b[0m\u001b[0;34m\u001b[0m\u001b[0;34m\u001b[0m\u001b[0m\n",
      "\u001b[0;32m~/dev/cw-travel-audience/ta-venv/lib/python3.8/site-packages/shap/explainers/tree.py\u001b[0m in \u001b[0;36mread_str\u001b[0;34m(self, size)\u001b[0m\n\u001b[1;32m   1454\u001b[0m \u001b[0;34m\u001b[0m\u001b[0m\n\u001b[1;32m   1455\u001b[0m     \u001b[0;32mdef\u001b[0m \u001b[0mread_str\u001b[0m\u001b[0;34m(\u001b[0m\u001b[0mself\u001b[0m\u001b[0;34m,\u001b[0m \u001b[0msize\u001b[0m\u001b[0;34m)\u001b[0m\u001b[0;34m:\u001b[0m\u001b[0;34m\u001b[0m\u001b[0;34m\u001b[0m\u001b[0m\n\u001b[0;32m-> 1456\u001b[0;31m         \u001b[0mval\u001b[0m \u001b[0;34m=\u001b[0m \u001b[0mself\u001b[0m\u001b[0;34m.\u001b[0m\u001b[0mbuf\u001b[0m\u001b[0;34m[\u001b[0m\u001b[0mself\u001b[0m\u001b[0;34m.\u001b[0m\u001b[0mpos\u001b[0m\u001b[0;34m:\u001b[0m\u001b[0mself\u001b[0m\u001b[0;34m.\u001b[0m\u001b[0mpos\u001b[0m\u001b[0;34m+\u001b[0m\u001b[0msize\u001b[0m\u001b[0;34m]\u001b[0m\u001b[0;34m.\u001b[0m\u001b[0mdecode\u001b[0m\u001b[0;34m(\u001b[0m\u001b[0;34m'utf-8'\u001b[0m\u001b[0;34m)\u001b[0m\u001b[0;34m\u001b[0m\u001b[0;34m\u001b[0m\u001b[0m\n\u001b[0m\u001b[1;32m   1457\u001b[0m         \u001b[0mself\u001b[0m\u001b[0;34m.\u001b[0m\u001b[0mpos\u001b[0m \u001b[0;34m+=\u001b[0m \u001b[0msize\u001b[0m\u001b[0;34m\u001b[0m\u001b[0;34m\u001b[0m\u001b[0m\n\u001b[1;32m   1458\u001b[0m         \u001b[0;32mreturn\u001b[0m \u001b[0mval\u001b[0m\u001b[0;34m\u001b[0m\u001b[0;34m\u001b[0m\u001b[0m\n",
      "\u001b[0;31mUnicodeDecodeError\u001b[0m: 'utf-8' codec can't decode byte 0xff in position 341: invalid start byte"
     ]
    }
   ],
   "source": [
    "shap_values = shap.TreeExplainer(xgb_classifier).shap_values(X_train)\n",
    "shap.summary_plot(shap_values, X_train, plot_type=\"bar\")"
   ]
  },
  {
   "cell_type": "code",
   "execution_count": null,
   "metadata": {},
   "outputs": [],
   "source": [
    "#shap.summary_plot(shap_values, training_set.drop([tr_set_col_name, target_col_name], axis=1))"
   ]
  },
  {
   "cell_type": "code",
   "execution_count": 123,
   "metadata": {},
   "outputs": [
    {
     "data": {
      "image/png": "[encoded data removed]",
      "text/plain": [
       "<Figure size 432x288 with 1 Axes>"
      ]
     },
     "metadata": {
      "needs_background": "light"
     },
     "output_type": "display_data"
    }
   ],
   "source": [
    "# show feature importance for the XGBoost classifer\n",
    "\n",
    "feature_importance = xgb_classifier.feature_importances_\n",
    "features = X_train.columns.tolist()\n",
    "\n",
    "results = pd.DataFrame({'Features': features, 'Importance': feature_importance}).sort_values(by='Importance', ascending=True)\n",
    "results.plot('Features', 'Importance', kind='barh', title='Feature Importances')\n",
    "plt.ylabel('Feature Importance Score')\n",
    "plt.show()\n",
    "#print(results)"
   ]
  }
 ],
 "metadata": {
  "kernelspec": {
   "display_name": "ta-venv",
   "language": "python",
   "name": "ta-venv"
  },
  "language_info": {
   "codemirror_mode": {
    "name": "ipython",
    "version": 3
   },
   "file_extension": ".py",
   "mimetype": "text/x-python",
   "name": "python",
   "nbconvert_exporter": "python",
   "pygments_lexer": "ipython3",
   "version": "3.8.2"
  }
 },
 "nbformat": 4,
 "nbformat_minor": 4
}
